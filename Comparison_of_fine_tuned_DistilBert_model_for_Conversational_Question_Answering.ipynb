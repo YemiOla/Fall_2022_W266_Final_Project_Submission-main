{
  "nbformat": 4,
  "nbformat_minor": 0,
  "metadata": {
    "colab": {
      "provenance": [],
      "machine_shape": "hm",
      "collapsed_sections": [
        "a-w4f237zRkS",
        "vmWcpelH8uDd",
        "ZGn087TB_OiJ",
        "j9znn5OCdRTZ"
      ]
    },
    "kernelspec": {
      "name": "python3",
      "display_name": "Python 3"
    },
    "language_info": {
      "name": "python"
    },
    "accelerator": "GPU",
    "gpuClass": "premium",
    "widgets": {
      "application/vnd.jupyter.widget-state+json": {
        "0ead31b812cd4ed0af1d4ba184d30e0a": {
          "model_module": "@jupyter-widgets/controls",
          "model_name": "HBoxModel",
          "model_module_version": "1.5.0",
          "state": {
            "_dom_classes": [],
            "_model_module": "@jupyter-widgets/controls",
            "_model_module_version": "1.5.0",
            "_model_name": "HBoxModel",
            "_view_count": null,
            "_view_module": "@jupyter-widgets/controls",
            "_view_module_version": "1.5.0",
            "_view_name": "HBoxView",
            "box_style": "",
            "children": [
              "IPY_MODEL_e18dc180a88d450abbbbe88fca7eed8d",
              "IPY_MODEL_f076b307db6a4c61b5ade0c7ecdeca6c",
              "IPY_MODEL_92a49f0acc8e427c897a2a99bfc67cc7"
            ],
            "layout": "IPY_MODEL_f444e625ad7342e6bcb4dcac8f2ed51f"
          }
        },
        "e18dc180a88d450abbbbe88fca7eed8d": {
          "model_module": "@jupyter-widgets/controls",
          "model_name": "HTMLModel",
          "model_module_version": "1.5.0",
          "state": {
            "_dom_classes": [],
            "_model_module": "@jupyter-widgets/controls",
            "_model_module_version": "1.5.0",
            "_model_name": "HTMLModel",
            "_view_count": null,
            "_view_module": "@jupyter-widgets/controls",
            "_view_module_version": "1.5.0",
            "_view_name": "HTMLView",
            "description": "",
            "description_tooltip": null,
            "layout": "IPY_MODEL_abd2eaefe444484083ee5152340facf5",
            "placeholder": "​",
            "style": "IPY_MODEL_f10462ba678744478d436cbd1b1ff808",
            "value": "Downloading: 100%"
          }
        },
        "f076b307db6a4c61b5ade0c7ecdeca6c": {
          "model_module": "@jupyter-widgets/controls",
          "model_name": "FloatProgressModel",
          "model_module_version": "1.5.0",
          "state": {
            "_dom_classes": [],
            "_model_module": "@jupyter-widgets/controls",
            "_model_module_version": "1.5.0",
            "_model_name": "FloatProgressModel",
            "_view_count": null,
            "_view_module": "@jupyter-widgets/controls",
            "_view_module_version": "1.5.0",
            "_view_name": "ProgressView",
            "bar_style": "success",
            "description": "",
            "description_tooltip": null,
            "layout": "IPY_MODEL_7096398976754fb29257aee1ff07f352",
            "max": 28,
            "min": 0,
            "orientation": "horizontal",
            "style": "IPY_MODEL_f4f835377a554896903ed4096a6ebf4d",
            "value": 28
          }
        },
        "92a49f0acc8e427c897a2a99bfc67cc7": {
          "model_module": "@jupyter-widgets/controls",
          "model_name": "HTMLModel",
          "model_module_version": "1.5.0",
          "state": {
            "_dom_classes": [],
            "_model_module": "@jupyter-widgets/controls",
            "_model_module_version": "1.5.0",
            "_model_name": "HTMLModel",
            "_view_count": null,
            "_view_module": "@jupyter-widgets/controls",
            "_view_module_version": "1.5.0",
            "_view_name": "HTMLView",
            "description": "",
            "description_tooltip": null,
            "layout": "IPY_MODEL_8d25f76cb7c344ac8fcdb118c453974b",
            "placeholder": "​",
            "style": "IPY_MODEL_119a42ac0e2548b59f0b4ac6b2b84c2c",
            "value": " 28.0/28.0 [00:00&lt;00:00, 1.05kB/s]"
          }
        },
        "f444e625ad7342e6bcb4dcac8f2ed51f": {
          "model_module": "@jupyter-widgets/base",
          "model_name": "LayoutModel",
          "model_module_version": "1.2.0",
          "state": {
            "_model_module": "@jupyter-widgets/base",
            "_model_module_version": "1.2.0",
            "_model_name": "LayoutModel",
            "_view_count": null,
            "_view_module": "@jupyter-widgets/base",
            "_view_module_version": "1.2.0",
            "_view_name": "LayoutView",
            "align_content": null,
            "align_items": null,
            "align_self": null,
            "border": null,
            "bottom": null,
            "display": null,
            "flex": null,
            "flex_flow": null,
            "grid_area": null,
            "grid_auto_columns": null,
            "grid_auto_flow": null,
            "grid_auto_rows": null,
            "grid_column": null,
            "grid_gap": null,
            "grid_row": null,
            "grid_template_areas": null,
            "grid_template_columns": null,
            "grid_template_rows": null,
            "height": null,
            "justify_content": null,
            "justify_items": null,
            "left": null,
            "margin": null,
            "max_height": null,
            "max_width": null,
            "min_height": null,
            "min_width": null,
            "object_fit": null,
            "object_position": null,
            "order": null,
            "overflow": null,
            "overflow_x": null,
            "overflow_y": null,
            "padding": null,
            "right": null,
            "top": null,
            "visibility": null,
            "width": null
          }
        },
        "abd2eaefe444484083ee5152340facf5": {
          "model_module": "@jupyter-widgets/base",
          "model_name": "LayoutModel",
          "model_module_version": "1.2.0",
          "state": {
            "_model_module": "@jupyter-widgets/base",
            "_model_module_version": "1.2.0",
            "_model_name": "LayoutModel",
            "_view_count": null,
            "_view_module": "@jupyter-widgets/base",
            "_view_module_version": "1.2.0",
            "_view_name": "LayoutView",
            "align_content": null,
            "align_items": null,
            "align_self": null,
            "border": null,
            "bottom": null,
            "display": null,
            "flex": null,
            "flex_flow": null,
            "grid_area": null,
            "grid_auto_columns": null,
            "grid_auto_flow": null,
            "grid_auto_rows": null,
            "grid_column": null,
            "grid_gap": null,
            "grid_row": null,
            "grid_template_areas": null,
            "grid_template_columns": null,
            "grid_template_rows": null,
            "height": null,
            "justify_content": null,
            "justify_items": null,
            "left": null,
            "margin": null,
            "max_height": null,
            "max_width": null,
            "min_height": null,
            "min_width": null,
            "object_fit": null,
            "object_position": null,
            "order": null,
            "overflow": null,
            "overflow_x": null,
            "overflow_y": null,
            "padding": null,
            "right": null,
            "top": null,
            "visibility": null,
            "width": null
          }
        },
        "f10462ba678744478d436cbd1b1ff808": {
          "model_module": "@jupyter-widgets/controls",
          "model_name": "DescriptionStyleModel",
          "model_module_version": "1.5.0",
          "state": {
            "_model_module": "@jupyter-widgets/controls",
            "_model_module_version": "1.5.0",
            "_model_name": "DescriptionStyleModel",
            "_view_count": null,
            "_view_module": "@jupyter-widgets/base",
            "_view_module_version": "1.2.0",
            "_view_name": "StyleView",
            "description_width": ""
          }
        },
        "7096398976754fb29257aee1ff07f352": {
          "model_module": "@jupyter-widgets/base",
          "model_name": "LayoutModel",
          "model_module_version": "1.2.0",
          "state": {
            "_model_module": "@jupyter-widgets/base",
            "_model_module_version": "1.2.0",
            "_model_name": "LayoutModel",
            "_view_count": null,
            "_view_module": "@jupyter-widgets/base",
            "_view_module_version": "1.2.0",
            "_view_name": "LayoutView",
            "align_content": null,
            "align_items": null,
            "align_self": null,
            "border": null,
            "bottom": null,
            "display": null,
            "flex": null,
            "flex_flow": null,
            "grid_area": null,
            "grid_auto_columns": null,
            "grid_auto_flow": null,
            "grid_auto_rows": null,
            "grid_column": null,
            "grid_gap": null,
            "grid_row": null,
            "grid_template_areas": null,
            "grid_template_columns": null,
            "grid_template_rows": null,
            "height": null,
            "justify_content": null,
            "justify_items": null,
            "left": null,
            "margin": null,
            "max_height": null,
            "max_width": null,
            "min_height": null,
            "min_width": null,
            "object_fit": null,
            "object_position": null,
            "order": null,
            "overflow": null,
            "overflow_x": null,
            "overflow_y": null,
            "padding": null,
            "right": null,
            "top": null,
            "visibility": null,
            "width": null
          }
        },
        "f4f835377a554896903ed4096a6ebf4d": {
          "model_module": "@jupyter-widgets/controls",
          "model_name": "ProgressStyleModel",
          "model_module_version": "1.5.0",
          "state": {
            "_model_module": "@jupyter-widgets/controls",
            "_model_module_version": "1.5.0",
            "_model_name": "ProgressStyleModel",
            "_view_count": null,
            "_view_module": "@jupyter-widgets/base",
            "_view_module_version": "1.2.0",
            "_view_name": "StyleView",
            "bar_color": null,
            "description_width": ""
          }
        },
        "8d25f76cb7c344ac8fcdb118c453974b": {
          "model_module": "@jupyter-widgets/base",
          "model_name": "LayoutModel",
          "model_module_version": "1.2.0",
          "state": {
            "_model_module": "@jupyter-widgets/base",
            "_model_module_version": "1.2.0",
            "_model_name": "LayoutModel",
            "_view_count": null,
            "_view_module": "@jupyter-widgets/base",
            "_view_module_version": "1.2.0",
            "_view_name": "LayoutView",
            "align_content": null,
            "align_items": null,
            "align_self": null,
            "border": null,
            "bottom": null,
            "display": null,
            "flex": null,
            "flex_flow": null,
            "grid_area": null,
            "grid_auto_columns": null,
            "grid_auto_flow": null,
            "grid_auto_rows": null,
            "grid_column": null,
            "grid_gap": null,
            "grid_row": null,
            "grid_template_areas": null,
            "grid_template_columns": null,
            "grid_template_rows": null,
            "height": null,
            "justify_content": null,
            "justify_items": null,
            "left": null,
            "margin": null,
            "max_height": null,
            "max_width": null,
            "min_height": null,
            "min_width": null,
            "object_fit": null,
            "object_position": null,
            "order": null,
            "overflow": null,
            "overflow_x": null,
            "overflow_y": null,
            "padding": null,
            "right": null,
            "top": null,
            "visibility": null,
            "width": null
          }
        },
        "119a42ac0e2548b59f0b4ac6b2b84c2c": {
          "model_module": "@jupyter-widgets/controls",
          "model_name": "DescriptionStyleModel",
          "model_module_version": "1.5.0",
          "state": {
            "_model_module": "@jupyter-widgets/controls",
            "_model_module_version": "1.5.0",
            "_model_name": "DescriptionStyleModel",
            "_view_count": null,
            "_view_module": "@jupyter-widgets/base",
            "_view_module_version": "1.2.0",
            "_view_name": "StyleView",
            "description_width": ""
          }
        },
        "621bfd8ae37e41aba2a36d0d50ec23c3": {
          "model_module": "@jupyter-widgets/controls",
          "model_name": "HBoxModel",
          "model_module_version": "1.5.0",
          "state": {
            "_dom_classes": [],
            "_model_module": "@jupyter-widgets/controls",
            "_model_module_version": "1.5.0",
            "_model_name": "HBoxModel",
            "_view_count": null,
            "_view_module": "@jupyter-widgets/controls",
            "_view_module_version": "1.5.0",
            "_view_name": "HBoxView",
            "box_style": "",
            "children": [
              "IPY_MODEL_c8983ea6eb5e42e3bd4ae4103f57f4d4",
              "IPY_MODEL_e6cb2dcf78ef44248279982d3069137f",
              "IPY_MODEL_4edd6e9b3990425597a7d7e428145207"
            ],
            "layout": "IPY_MODEL_fa391dd5b68d4ba7b9a0587850a633f8"
          }
        },
        "c8983ea6eb5e42e3bd4ae4103f57f4d4": {
          "model_module": "@jupyter-widgets/controls",
          "model_name": "HTMLModel",
          "model_module_version": "1.5.0",
          "state": {
            "_dom_classes": [],
            "_model_module": "@jupyter-widgets/controls",
            "_model_module_version": "1.5.0",
            "_model_name": "HTMLModel",
            "_view_count": null,
            "_view_module": "@jupyter-widgets/controls",
            "_view_module_version": "1.5.0",
            "_view_name": "HTMLView",
            "description": "",
            "description_tooltip": null,
            "layout": "IPY_MODEL_64a81e4c98a2484e9d9bde64385d13e4",
            "placeholder": "​",
            "style": "IPY_MODEL_cabe3a4908b34bdb813a28a8b7c08d65",
            "value": "Downloading: 100%"
          }
        },
        "e6cb2dcf78ef44248279982d3069137f": {
          "model_module": "@jupyter-widgets/controls",
          "model_name": "FloatProgressModel",
          "model_module_version": "1.5.0",
          "state": {
            "_dom_classes": [],
            "_model_module": "@jupyter-widgets/controls",
            "_model_module_version": "1.5.0",
            "_model_name": "FloatProgressModel",
            "_view_count": null,
            "_view_module": "@jupyter-widgets/controls",
            "_view_module_version": "1.5.0",
            "_view_name": "ProgressView",
            "bar_style": "success",
            "description": "",
            "description_tooltip": null,
            "layout": "IPY_MODEL_5ab7709169134be6a1affee9acb52880",
            "max": 231508,
            "min": 0,
            "orientation": "horizontal",
            "style": "IPY_MODEL_97019e78eaa1482caf8adc1d8df3e83d",
            "value": 231508
          }
        },
        "4edd6e9b3990425597a7d7e428145207": {
          "model_module": "@jupyter-widgets/controls",
          "model_name": "HTMLModel",
          "model_module_version": "1.5.0",
          "state": {
            "_dom_classes": [],
            "_model_module": "@jupyter-widgets/controls",
            "_model_module_version": "1.5.0",
            "_model_name": "HTMLModel",
            "_view_count": null,
            "_view_module": "@jupyter-widgets/controls",
            "_view_module_version": "1.5.0",
            "_view_name": "HTMLView",
            "description": "",
            "description_tooltip": null,
            "layout": "IPY_MODEL_3316f5f37b444e7e8b757bb14036efa9",
            "placeholder": "​",
            "style": "IPY_MODEL_f9882cf73c514639b21ac1d0edf3e70e",
            "value": " 232k/232k [00:00&lt;00:00, 898kB/s]"
          }
        },
        "fa391dd5b68d4ba7b9a0587850a633f8": {
          "model_module": "@jupyter-widgets/base",
          "model_name": "LayoutModel",
          "model_module_version": "1.2.0",
          "state": {
            "_model_module": "@jupyter-widgets/base",
            "_model_module_version": "1.2.0",
            "_model_name": "LayoutModel",
            "_view_count": null,
            "_view_module": "@jupyter-widgets/base",
            "_view_module_version": "1.2.0",
            "_view_name": "LayoutView",
            "align_content": null,
            "align_items": null,
            "align_self": null,
            "border": null,
            "bottom": null,
            "display": null,
            "flex": null,
            "flex_flow": null,
            "grid_area": null,
            "grid_auto_columns": null,
            "grid_auto_flow": null,
            "grid_auto_rows": null,
            "grid_column": null,
            "grid_gap": null,
            "grid_row": null,
            "grid_template_areas": null,
            "grid_template_columns": null,
            "grid_template_rows": null,
            "height": null,
            "justify_content": null,
            "justify_items": null,
            "left": null,
            "margin": null,
            "max_height": null,
            "max_width": null,
            "min_height": null,
            "min_width": null,
            "object_fit": null,
            "object_position": null,
            "order": null,
            "overflow": null,
            "overflow_x": null,
            "overflow_y": null,
            "padding": null,
            "right": null,
            "top": null,
            "visibility": null,
            "width": null
          }
        },
        "64a81e4c98a2484e9d9bde64385d13e4": {
          "model_module": "@jupyter-widgets/base",
          "model_name": "LayoutModel",
          "model_module_version": "1.2.0",
          "state": {
            "_model_module": "@jupyter-widgets/base",
            "_model_module_version": "1.2.0",
            "_model_name": "LayoutModel",
            "_view_count": null,
            "_view_module": "@jupyter-widgets/base",
            "_view_module_version": "1.2.0",
            "_view_name": "LayoutView",
            "align_content": null,
            "align_items": null,
            "align_self": null,
            "border": null,
            "bottom": null,
            "display": null,
            "flex": null,
            "flex_flow": null,
            "grid_area": null,
            "grid_auto_columns": null,
            "grid_auto_flow": null,
            "grid_auto_rows": null,
            "grid_column": null,
            "grid_gap": null,
            "grid_row": null,
            "grid_template_areas": null,
            "grid_template_columns": null,
            "grid_template_rows": null,
            "height": null,
            "justify_content": null,
            "justify_items": null,
            "left": null,
            "margin": null,
            "max_height": null,
            "max_width": null,
            "min_height": null,
            "min_width": null,
            "object_fit": null,
            "object_position": null,
            "order": null,
            "overflow": null,
            "overflow_x": null,
            "overflow_y": null,
            "padding": null,
            "right": null,
            "top": null,
            "visibility": null,
            "width": null
          }
        },
        "cabe3a4908b34bdb813a28a8b7c08d65": {
          "model_module": "@jupyter-widgets/controls",
          "model_name": "DescriptionStyleModel",
          "model_module_version": "1.5.0",
          "state": {
            "_model_module": "@jupyter-widgets/controls",
            "_model_module_version": "1.5.0",
            "_model_name": "DescriptionStyleModel",
            "_view_count": null,
            "_view_module": "@jupyter-widgets/base",
            "_view_module_version": "1.2.0",
            "_view_name": "StyleView",
            "description_width": ""
          }
        },
        "5ab7709169134be6a1affee9acb52880": {
          "model_module": "@jupyter-widgets/base",
          "model_name": "LayoutModel",
          "model_module_version": "1.2.0",
          "state": {
            "_model_module": "@jupyter-widgets/base",
            "_model_module_version": "1.2.0",
            "_model_name": "LayoutModel",
            "_view_count": null,
            "_view_module": "@jupyter-widgets/base",
            "_view_module_version": "1.2.0",
            "_view_name": "LayoutView",
            "align_content": null,
            "align_items": null,
            "align_self": null,
            "border": null,
            "bottom": null,
            "display": null,
            "flex": null,
            "flex_flow": null,
            "grid_area": null,
            "grid_auto_columns": null,
            "grid_auto_flow": null,
            "grid_auto_rows": null,
            "grid_column": null,
            "grid_gap": null,
            "grid_row": null,
            "grid_template_areas": null,
            "grid_template_columns": null,
            "grid_template_rows": null,
            "height": null,
            "justify_content": null,
            "justify_items": null,
            "left": null,
            "margin": null,
            "max_height": null,
            "max_width": null,
            "min_height": null,
            "min_width": null,
            "object_fit": null,
            "object_position": null,
            "order": null,
            "overflow": null,
            "overflow_x": null,
            "overflow_y": null,
            "padding": null,
            "right": null,
            "top": null,
            "visibility": null,
            "width": null
          }
        },
        "97019e78eaa1482caf8adc1d8df3e83d": {
          "model_module": "@jupyter-widgets/controls",
          "model_name": "ProgressStyleModel",
          "model_module_version": "1.5.0",
          "state": {
            "_model_module": "@jupyter-widgets/controls",
            "_model_module_version": "1.5.0",
            "_model_name": "ProgressStyleModel",
            "_view_count": null,
            "_view_module": "@jupyter-widgets/base",
            "_view_module_version": "1.2.0",
            "_view_name": "StyleView",
            "bar_color": null,
            "description_width": ""
          }
        },
        "3316f5f37b444e7e8b757bb14036efa9": {
          "model_module": "@jupyter-widgets/base",
          "model_name": "LayoutModel",
          "model_module_version": "1.2.0",
          "state": {
            "_model_module": "@jupyter-widgets/base",
            "_model_module_version": "1.2.0",
            "_model_name": "LayoutModel",
            "_view_count": null,
            "_view_module": "@jupyter-widgets/base",
            "_view_module_version": "1.2.0",
            "_view_name": "LayoutView",
            "align_content": null,
            "align_items": null,
            "align_self": null,
            "border": null,
            "bottom": null,
            "display": null,
            "flex": null,
            "flex_flow": null,
            "grid_area": null,
            "grid_auto_columns": null,
            "grid_auto_flow": null,
            "grid_auto_rows": null,
            "grid_column": null,
            "grid_gap": null,
            "grid_row": null,
            "grid_template_areas": null,
            "grid_template_columns": null,
            "grid_template_rows": null,
            "height": null,
            "justify_content": null,
            "justify_items": null,
            "left": null,
            "margin": null,
            "max_height": null,
            "max_width": null,
            "min_height": null,
            "min_width": null,
            "object_fit": null,
            "object_position": null,
            "order": null,
            "overflow": null,
            "overflow_x": null,
            "overflow_y": null,
            "padding": null,
            "right": null,
            "top": null,
            "visibility": null,
            "width": null
          }
        },
        "f9882cf73c514639b21ac1d0edf3e70e": {
          "model_module": "@jupyter-widgets/controls",
          "model_name": "DescriptionStyleModel",
          "model_module_version": "1.5.0",
          "state": {
            "_model_module": "@jupyter-widgets/controls",
            "_model_module_version": "1.5.0",
            "_model_name": "DescriptionStyleModel",
            "_view_count": null,
            "_view_module": "@jupyter-widgets/base",
            "_view_module_version": "1.2.0",
            "_view_name": "StyleView",
            "description_width": ""
          }
        },
        "046758dc42de453697b396fefe6f361e": {
          "model_module": "@jupyter-widgets/controls",
          "model_name": "HBoxModel",
          "model_module_version": "1.5.0",
          "state": {
            "_dom_classes": [],
            "_model_module": "@jupyter-widgets/controls",
            "_model_module_version": "1.5.0",
            "_model_name": "HBoxModel",
            "_view_count": null,
            "_view_module": "@jupyter-widgets/controls",
            "_view_module_version": "1.5.0",
            "_view_name": "HBoxView",
            "box_style": "",
            "children": [
              "IPY_MODEL_ce3f13754ff64fbea8965273df7dcb68",
              "IPY_MODEL_d5244f2369fe41f0901bbd13c6c91a07",
              "IPY_MODEL_865ffeefdc0b4b24a7bc52fbb1f43c04"
            ],
            "layout": "IPY_MODEL_8eeb736d8a6a4d53acb3921c320ce5ce"
          }
        },
        "ce3f13754ff64fbea8965273df7dcb68": {
          "model_module": "@jupyter-widgets/controls",
          "model_name": "HTMLModel",
          "model_module_version": "1.5.0",
          "state": {
            "_dom_classes": [],
            "_model_module": "@jupyter-widgets/controls",
            "_model_module_version": "1.5.0",
            "_model_name": "HTMLModel",
            "_view_count": null,
            "_view_module": "@jupyter-widgets/controls",
            "_view_module_version": "1.5.0",
            "_view_name": "HTMLView",
            "description": "",
            "description_tooltip": null,
            "layout": "IPY_MODEL_de257ae13cc84c75863af1cf686e4974",
            "placeholder": "​",
            "style": "IPY_MODEL_1f21d642a5fe4170a093f93bc2ffe378",
            "value": "Downloading: 100%"
          }
        },
        "d5244f2369fe41f0901bbd13c6c91a07": {
          "model_module": "@jupyter-widgets/controls",
          "model_name": "FloatProgressModel",
          "model_module_version": "1.5.0",
          "state": {
            "_dom_classes": [],
            "_model_module": "@jupyter-widgets/controls",
            "_model_module_version": "1.5.0",
            "_model_name": "FloatProgressModel",
            "_view_count": null,
            "_view_module": "@jupyter-widgets/controls",
            "_view_module_version": "1.5.0",
            "_view_name": "ProgressView",
            "bar_style": "success",
            "description": "",
            "description_tooltip": null,
            "layout": "IPY_MODEL_da0eea80532d4d8fb432cdc1ca6c0088",
            "max": 466062,
            "min": 0,
            "orientation": "horizontal",
            "style": "IPY_MODEL_8e7f986c49ca4ddfbf8586b16ca54933",
            "value": 466062
          }
        },
        "865ffeefdc0b4b24a7bc52fbb1f43c04": {
          "model_module": "@jupyter-widgets/controls",
          "model_name": "HTMLModel",
          "model_module_version": "1.5.0",
          "state": {
            "_dom_classes": [],
            "_model_module": "@jupyter-widgets/controls",
            "_model_module_version": "1.5.0",
            "_model_name": "HTMLModel",
            "_view_count": null,
            "_view_module": "@jupyter-widgets/controls",
            "_view_module_version": "1.5.0",
            "_view_name": "HTMLView",
            "description": "",
            "description_tooltip": null,
            "layout": "IPY_MODEL_ff94d44b52ba4401bb8dde377573520c",
            "placeholder": "​",
            "style": "IPY_MODEL_2b568b9e5f9c46c4b2860f882dd063fb",
            "value": " 466k/466k [00:00&lt;00:00, 789kB/s]"
          }
        },
        "8eeb736d8a6a4d53acb3921c320ce5ce": {
          "model_module": "@jupyter-widgets/base",
          "model_name": "LayoutModel",
          "model_module_version": "1.2.0",
          "state": {
            "_model_module": "@jupyter-widgets/base",
            "_model_module_version": "1.2.0",
            "_model_name": "LayoutModel",
            "_view_count": null,
            "_view_module": "@jupyter-widgets/base",
            "_view_module_version": "1.2.0",
            "_view_name": "LayoutView",
            "align_content": null,
            "align_items": null,
            "align_self": null,
            "border": null,
            "bottom": null,
            "display": null,
            "flex": null,
            "flex_flow": null,
            "grid_area": null,
            "grid_auto_columns": null,
            "grid_auto_flow": null,
            "grid_auto_rows": null,
            "grid_column": null,
            "grid_gap": null,
            "grid_row": null,
            "grid_template_areas": null,
            "grid_template_columns": null,
            "grid_template_rows": null,
            "height": null,
            "justify_content": null,
            "justify_items": null,
            "left": null,
            "margin": null,
            "max_height": null,
            "max_width": null,
            "min_height": null,
            "min_width": null,
            "object_fit": null,
            "object_position": null,
            "order": null,
            "overflow": null,
            "overflow_x": null,
            "overflow_y": null,
            "padding": null,
            "right": null,
            "top": null,
            "visibility": null,
            "width": null
          }
        },
        "de257ae13cc84c75863af1cf686e4974": {
          "model_module": "@jupyter-widgets/base",
          "model_name": "LayoutModel",
          "model_module_version": "1.2.0",
          "state": {
            "_model_module": "@jupyter-widgets/base",
            "_model_module_version": "1.2.0",
            "_model_name": "LayoutModel",
            "_view_count": null,
            "_view_module": "@jupyter-widgets/base",
            "_view_module_version": "1.2.0",
            "_view_name": "LayoutView",
            "align_content": null,
            "align_items": null,
            "align_self": null,
            "border": null,
            "bottom": null,
            "display": null,
            "flex": null,
            "flex_flow": null,
            "grid_area": null,
            "grid_auto_columns": null,
            "grid_auto_flow": null,
            "grid_auto_rows": null,
            "grid_column": null,
            "grid_gap": null,
            "grid_row": null,
            "grid_template_areas": null,
            "grid_template_columns": null,
            "grid_template_rows": null,
            "height": null,
            "justify_content": null,
            "justify_items": null,
            "left": null,
            "margin": null,
            "max_height": null,
            "max_width": null,
            "min_height": null,
            "min_width": null,
            "object_fit": null,
            "object_position": null,
            "order": null,
            "overflow": null,
            "overflow_x": null,
            "overflow_y": null,
            "padding": null,
            "right": null,
            "top": null,
            "visibility": null,
            "width": null
          }
        },
        "1f21d642a5fe4170a093f93bc2ffe378": {
          "model_module": "@jupyter-widgets/controls",
          "model_name": "DescriptionStyleModel",
          "model_module_version": "1.5.0",
          "state": {
            "_model_module": "@jupyter-widgets/controls",
            "_model_module_version": "1.5.0",
            "_model_name": "DescriptionStyleModel",
            "_view_count": null,
            "_view_module": "@jupyter-widgets/base",
            "_view_module_version": "1.2.0",
            "_view_name": "StyleView",
            "description_width": ""
          }
        },
        "da0eea80532d4d8fb432cdc1ca6c0088": {
          "model_module": "@jupyter-widgets/base",
          "model_name": "LayoutModel",
          "model_module_version": "1.2.0",
          "state": {
            "_model_module": "@jupyter-widgets/base",
            "_model_module_version": "1.2.0",
            "_model_name": "LayoutModel",
            "_view_count": null,
            "_view_module": "@jupyter-widgets/base",
            "_view_module_version": "1.2.0",
            "_view_name": "LayoutView",
            "align_content": null,
            "align_items": null,
            "align_self": null,
            "border": null,
            "bottom": null,
            "display": null,
            "flex": null,
            "flex_flow": null,
            "grid_area": null,
            "grid_auto_columns": null,
            "grid_auto_flow": null,
            "grid_auto_rows": null,
            "grid_column": null,
            "grid_gap": null,
            "grid_row": null,
            "grid_template_areas": null,
            "grid_template_columns": null,
            "grid_template_rows": null,
            "height": null,
            "justify_content": null,
            "justify_items": null,
            "left": null,
            "margin": null,
            "max_height": null,
            "max_width": null,
            "min_height": null,
            "min_width": null,
            "object_fit": null,
            "object_position": null,
            "order": null,
            "overflow": null,
            "overflow_x": null,
            "overflow_y": null,
            "padding": null,
            "right": null,
            "top": null,
            "visibility": null,
            "width": null
          }
        },
        "8e7f986c49ca4ddfbf8586b16ca54933": {
          "model_module": "@jupyter-widgets/controls",
          "model_name": "ProgressStyleModel",
          "model_module_version": "1.5.0",
          "state": {
            "_model_module": "@jupyter-widgets/controls",
            "_model_module_version": "1.5.0",
            "_model_name": "ProgressStyleModel",
            "_view_count": null,
            "_view_module": "@jupyter-widgets/base",
            "_view_module_version": "1.2.0",
            "_view_name": "StyleView",
            "bar_color": null,
            "description_width": ""
          }
        },
        "ff94d44b52ba4401bb8dde377573520c": {
          "model_module": "@jupyter-widgets/base",
          "model_name": "LayoutModel",
          "model_module_version": "1.2.0",
          "state": {
            "_model_module": "@jupyter-widgets/base",
            "_model_module_version": "1.2.0",
            "_model_name": "LayoutModel",
            "_view_count": null,
            "_view_module": "@jupyter-widgets/base",
            "_view_module_version": "1.2.0",
            "_view_name": "LayoutView",
            "align_content": null,
            "align_items": null,
            "align_self": null,
            "border": null,
            "bottom": null,
            "display": null,
            "flex": null,
            "flex_flow": null,
            "grid_area": null,
            "grid_auto_columns": null,
            "grid_auto_flow": null,
            "grid_auto_rows": null,
            "grid_column": null,
            "grid_gap": null,
            "grid_row": null,
            "grid_template_areas": null,
            "grid_template_columns": null,
            "grid_template_rows": null,
            "height": null,
            "justify_content": null,
            "justify_items": null,
            "left": null,
            "margin": null,
            "max_height": null,
            "max_width": null,
            "min_height": null,
            "min_width": null,
            "object_fit": null,
            "object_position": null,
            "order": null,
            "overflow": null,
            "overflow_x": null,
            "overflow_y": null,
            "padding": null,
            "right": null,
            "top": null,
            "visibility": null,
            "width": null
          }
        },
        "2b568b9e5f9c46c4b2860f882dd063fb": {
          "model_module": "@jupyter-widgets/controls",
          "model_name": "DescriptionStyleModel",
          "model_module_version": "1.5.0",
          "state": {
            "_model_module": "@jupyter-widgets/controls",
            "_model_module_version": "1.5.0",
            "_model_name": "DescriptionStyleModel",
            "_view_count": null,
            "_view_module": "@jupyter-widgets/base",
            "_view_module_version": "1.2.0",
            "_view_name": "StyleView",
            "description_width": ""
          }
        },
        "2b7e77692dce4d50af9f2cb8d0d713d4": {
          "model_module": "@jupyter-widgets/controls",
          "model_name": "HBoxModel",
          "model_module_version": "1.5.0",
          "state": {
            "_dom_classes": [],
            "_model_module": "@jupyter-widgets/controls",
            "_model_module_version": "1.5.0",
            "_model_name": "HBoxModel",
            "_view_count": null,
            "_view_module": "@jupyter-widgets/controls",
            "_view_module_version": "1.5.0",
            "_view_name": "HBoxView",
            "box_style": "",
            "children": [
              "IPY_MODEL_5e3738af821e40848c8f7b360dfd7695",
              "IPY_MODEL_1f63b1e152b34969b27353dc4ca38c86",
              "IPY_MODEL_091c80fbb7ca447a8700c2e7952ca40d"
            ],
            "layout": "IPY_MODEL_176f209c073d4563a6c8742bbf238c96"
          }
        },
        "5e3738af821e40848c8f7b360dfd7695": {
          "model_module": "@jupyter-widgets/controls",
          "model_name": "HTMLModel",
          "model_module_version": "1.5.0",
          "state": {
            "_dom_classes": [],
            "_model_module": "@jupyter-widgets/controls",
            "_model_module_version": "1.5.0",
            "_model_name": "HTMLModel",
            "_view_count": null,
            "_view_module": "@jupyter-widgets/controls",
            "_view_module_version": "1.5.0",
            "_view_name": "HTMLView",
            "description": "",
            "description_tooltip": null,
            "layout": "IPY_MODEL_1ffcfbb5547d4ad9a9617777af12be7b",
            "placeholder": "​",
            "style": "IPY_MODEL_a519b29f6fdf4f4ca5b6f808ec0791c9",
            "value": "Downloading: 100%"
          }
        },
        "1f63b1e152b34969b27353dc4ca38c86": {
          "model_module": "@jupyter-widgets/controls",
          "model_name": "FloatProgressModel",
          "model_module_version": "1.5.0",
          "state": {
            "_dom_classes": [],
            "_model_module": "@jupyter-widgets/controls",
            "_model_module_version": "1.5.0",
            "_model_name": "FloatProgressModel",
            "_view_count": null,
            "_view_module": "@jupyter-widgets/controls",
            "_view_module_version": "1.5.0",
            "_view_name": "ProgressView",
            "bar_style": "success",
            "description": "",
            "description_tooltip": null,
            "layout": "IPY_MODEL_f888922be81149f7aae821bea1d10815",
            "max": 483,
            "min": 0,
            "orientation": "horizontal",
            "style": "IPY_MODEL_523649ae633c46f8b08145ffb565a9c9",
            "value": 483
          }
        },
        "091c80fbb7ca447a8700c2e7952ca40d": {
          "model_module": "@jupyter-widgets/controls",
          "model_name": "HTMLModel",
          "model_module_version": "1.5.0",
          "state": {
            "_dom_classes": [],
            "_model_module": "@jupyter-widgets/controls",
            "_model_module_version": "1.5.0",
            "_model_name": "HTMLModel",
            "_view_count": null,
            "_view_module": "@jupyter-widgets/controls",
            "_view_module_version": "1.5.0",
            "_view_name": "HTMLView",
            "description": "",
            "description_tooltip": null,
            "layout": "IPY_MODEL_bfb5d205bf2d46b3aa2863bb17c5a48d",
            "placeholder": "​",
            "style": "IPY_MODEL_528baca6765b46169d014efaf3b7cbea",
            "value": " 483/483 [00:00&lt;00:00, 11.3kB/s]"
          }
        },
        "176f209c073d4563a6c8742bbf238c96": {
          "model_module": "@jupyter-widgets/base",
          "model_name": "LayoutModel",
          "model_module_version": "1.2.0",
          "state": {
            "_model_module": "@jupyter-widgets/base",
            "_model_module_version": "1.2.0",
            "_model_name": "LayoutModel",
            "_view_count": null,
            "_view_module": "@jupyter-widgets/base",
            "_view_module_version": "1.2.0",
            "_view_name": "LayoutView",
            "align_content": null,
            "align_items": null,
            "align_self": null,
            "border": null,
            "bottom": null,
            "display": null,
            "flex": null,
            "flex_flow": null,
            "grid_area": null,
            "grid_auto_columns": null,
            "grid_auto_flow": null,
            "grid_auto_rows": null,
            "grid_column": null,
            "grid_gap": null,
            "grid_row": null,
            "grid_template_areas": null,
            "grid_template_columns": null,
            "grid_template_rows": null,
            "height": null,
            "justify_content": null,
            "justify_items": null,
            "left": null,
            "margin": null,
            "max_height": null,
            "max_width": null,
            "min_height": null,
            "min_width": null,
            "object_fit": null,
            "object_position": null,
            "order": null,
            "overflow": null,
            "overflow_x": null,
            "overflow_y": null,
            "padding": null,
            "right": null,
            "top": null,
            "visibility": null,
            "width": null
          }
        },
        "1ffcfbb5547d4ad9a9617777af12be7b": {
          "model_module": "@jupyter-widgets/base",
          "model_name": "LayoutModel",
          "model_module_version": "1.2.0",
          "state": {
            "_model_module": "@jupyter-widgets/base",
            "_model_module_version": "1.2.0",
            "_model_name": "LayoutModel",
            "_view_count": null,
            "_view_module": "@jupyter-widgets/base",
            "_view_module_version": "1.2.0",
            "_view_name": "LayoutView",
            "align_content": null,
            "align_items": null,
            "align_self": null,
            "border": null,
            "bottom": null,
            "display": null,
            "flex": null,
            "flex_flow": null,
            "grid_area": null,
            "grid_auto_columns": null,
            "grid_auto_flow": null,
            "grid_auto_rows": null,
            "grid_column": null,
            "grid_gap": null,
            "grid_row": null,
            "grid_template_areas": null,
            "grid_template_columns": null,
            "grid_template_rows": null,
            "height": null,
            "justify_content": null,
            "justify_items": null,
            "left": null,
            "margin": null,
            "max_height": null,
            "max_width": null,
            "min_height": null,
            "min_width": null,
            "object_fit": null,
            "object_position": null,
            "order": null,
            "overflow": null,
            "overflow_x": null,
            "overflow_y": null,
            "padding": null,
            "right": null,
            "top": null,
            "visibility": null,
            "width": null
          }
        },
        "a519b29f6fdf4f4ca5b6f808ec0791c9": {
          "model_module": "@jupyter-widgets/controls",
          "model_name": "DescriptionStyleModel",
          "model_module_version": "1.5.0",
          "state": {
            "_model_module": "@jupyter-widgets/controls",
            "_model_module_version": "1.5.0",
            "_model_name": "DescriptionStyleModel",
            "_view_count": null,
            "_view_module": "@jupyter-widgets/base",
            "_view_module_version": "1.2.0",
            "_view_name": "StyleView",
            "description_width": ""
          }
        },
        "f888922be81149f7aae821bea1d10815": {
          "model_module": "@jupyter-widgets/base",
          "model_name": "LayoutModel",
          "model_module_version": "1.2.0",
          "state": {
            "_model_module": "@jupyter-widgets/base",
            "_model_module_version": "1.2.0",
            "_model_name": "LayoutModel",
            "_view_count": null,
            "_view_module": "@jupyter-widgets/base",
            "_view_module_version": "1.2.0",
            "_view_name": "LayoutView",
            "align_content": null,
            "align_items": null,
            "align_self": null,
            "border": null,
            "bottom": null,
            "display": null,
            "flex": null,
            "flex_flow": null,
            "grid_area": null,
            "grid_auto_columns": null,
            "grid_auto_flow": null,
            "grid_auto_rows": null,
            "grid_column": null,
            "grid_gap": null,
            "grid_row": null,
            "grid_template_areas": null,
            "grid_template_columns": null,
            "grid_template_rows": null,
            "height": null,
            "justify_content": null,
            "justify_items": null,
            "left": null,
            "margin": null,
            "max_height": null,
            "max_width": null,
            "min_height": null,
            "min_width": null,
            "object_fit": null,
            "object_position": null,
            "order": null,
            "overflow": null,
            "overflow_x": null,
            "overflow_y": null,
            "padding": null,
            "right": null,
            "top": null,
            "visibility": null,
            "width": null
          }
        },
        "523649ae633c46f8b08145ffb565a9c9": {
          "model_module": "@jupyter-widgets/controls",
          "model_name": "ProgressStyleModel",
          "model_module_version": "1.5.0",
          "state": {
            "_model_module": "@jupyter-widgets/controls",
            "_model_module_version": "1.5.0",
            "_model_name": "ProgressStyleModel",
            "_view_count": null,
            "_view_module": "@jupyter-widgets/base",
            "_view_module_version": "1.2.0",
            "_view_name": "StyleView",
            "bar_color": null,
            "description_width": ""
          }
        },
        "bfb5d205bf2d46b3aa2863bb17c5a48d": {
          "model_module": "@jupyter-widgets/base",
          "model_name": "LayoutModel",
          "model_module_version": "1.2.0",
          "state": {
            "_model_module": "@jupyter-widgets/base",
            "_model_module_version": "1.2.0",
            "_model_name": "LayoutModel",
            "_view_count": null,
            "_view_module": "@jupyter-widgets/base",
            "_view_module_version": "1.2.0",
            "_view_name": "LayoutView",
            "align_content": null,
            "align_items": null,
            "align_self": null,
            "border": null,
            "bottom": null,
            "display": null,
            "flex": null,
            "flex_flow": null,
            "grid_area": null,
            "grid_auto_columns": null,
            "grid_auto_flow": null,
            "grid_auto_rows": null,
            "grid_column": null,
            "grid_gap": null,
            "grid_row": null,
            "grid_template_areas": null,
            "grid_template_columns": null,
            "grid_template_rows": null,
            "height": null,
            "justify_content": null,
            "justify_items": null,
            "left": null,
            "margin": null,
            "max_height": null,
            "max_width": null,
            "min_height": null,
            "min_width": null,
            "object_fit": null,
            "object_position": null,
            "order": null,
            "overflow": null,
            "overflow_x": null,
            "overflow_y": null,
            "padding": null,
            "right": null,
            "top": null,
            "visibility": null,
            "width": null
          }
        },
        "528baca6765b46169d014efaf3b7cbea": {
          "model_module": "@jupyter-widgets/controls",
          "model_name": "DescriptionStyleModel",
          "model_module_version": "1.5.0",
          "state": {
            "_model_module": "@jupyter-widgets/controls",
            "_model_module_version": "1.5.0",
            "_model_name": "DescriptionStyleModel",
            "_view_count": null,
            "_view_module": "@jupyter-widgets/base",
            "_view_module_version": "1.2.0",
            "_view_name": "StyleView",
            "description_width": ""
          }
        },
        "62af977e44434f8c9f9269e8f22aa306": {
          "model_module": "@jupyter-widgets/controls",
          "model_name": "HBoxModel",
          "model_module_version": "1.5.0",
          "state": {
            "_dom_classes": [],
            "_model_module": "@jupyter-widgets/controls",
            "_model_module_version": "1.5.0",
            "_model_name": "HBoxModel",
            "_view_count": null,
            "_view_module": "@jupyter-widgets/controls",
            "_view_module_version": "1.5.0",
            "_view_name": "HBoxView",
            "box_style": "",
            "children": [
              "IPY_MODEL_d50f2713d50b4ef48276323fa25d73e5",
              "IPY_MODEL_7fe40be62367430698efb0584b5be535",
              "IPY_MODEL_828d37a790c44691b046692a21aed605"
            ],
            "layout": "IPY_MODEL_df5a3d89f22d461b997ab01f48adb0b0"
          }
        },
        "d50f2713d50b4ef48276323fa25d73e5": {
          "model_module": "@jupyter-widgets/controls",
          "model_name": "HTMLModel",
          "model_module_version": "1.5.0",
          "state": {
            "_dom_classes": [],
            "_model_module": "@jupyter-widgets/controls",
            "_model_module_version": "1.5.0",
            "_model_name": "HTMLModel",
            "_view_count": null,
            "_view_module": "@jupyter-widgets/controls",
            "_view_module_version": "1.5.0",
            "_view_name": "HTMLView",
            "description": "",
            "description_tooltip": null,
            "layout": "IPY_MODEL_696d0b6e82654141af336d87b8dce157",
            "placeholder": "​",
            "style": "IPY_MODEL_f631be51b2d34ee29a0214758ca597fe",
            "value": "Downloading: 100%"
          }
        },
        "7fe40be62367430698efb0584b5be535": {
          "model_module": "@jupyter-widgets/controls",
          "model_name": "FloatProgressModel",
          "model_module_version": "1.5.0",
          "state": {
            "_dom_classes": [],
            "_model_module": "@jupyter-widgets/controls",
            "_model_module_version": "1.5.0",
            "_model_name": "FloatProgressModel",
            "_view_count": null,
            "_view_module": "@jupyter-widgets/controls",
            "_view_module_version": "1.5.0",
            "_view_name": "ProgressView",
            "bar_style": "success",
            "description": "",
            "description_tooltip": null,
            "layout": "IPY_MODEL_f00d81baa7fa4301940d143bf1f3755f",
            "max": 267967963,
            "min": 0,
            "orientation": "horizontal",
            "style": "IPY_MODEL_8173b907fb2b4940bf44d40af484af59",
            "value": 267967963
          }
        },
        "828d37a790c44691b046692a21aed605": {
          "model_module": "@jupyter-widgets/controls",
          "model_name": "HTMLModel",
          "model_module_version": "1.5.0",
          "state": {
            "_dom_classes": [],
            "_model_module": "@jupyter-widgets/controls",
            "_model_module_version": "1.5.0",
            "_model_name": "HTMLModel",
            "_view_count": null,
            "_view_module": "@jupyter-widgets/controls",
            "_view_module_version": "1.5.0",
            "_view_name": "HTMLView",
            "description": "",
            "description_tooltip": null,
            "layout": "IPY_MODEL_a9a72400bc064109873b4745c8cf4207",
            "placeholder": "​",
            "style": "IPY_MODEL_88ffdc38ec0e440eb2bfe3fad582d804",
            "value": " 268M/268M [00:04&lt;00:00, 63.3MB/s]"
          }
        },
        "df5a3d89f22d461b997ab01f48adb0b0": {
          "model_module": "@jupyter-widgets/base",
          "model_name": "LayoutModel",
          "model_module_version": "1.2.0",
          "state": {
            "_model_module": "@jupyter-widgets/base",
            "_model_module_version": "1.2.0",
            "_model_name": "LayoutModel",
            "_view_count": null,
            "_view_module": "@jupyter-widgets/base",
            "_view_module_version": "1.2.0",
            "_view_name": "LayoutView",
            "align_content": null,
            "align_items": null,
            "align_self": null,
            "border": null,
            "bottom": null,
            "display": null,
            "flex": null,
            "flex_flow": null,
            "grid_area": null,
            "grid_auto_columns": null,
            "grid_auto_flow": null,
            "grid_auto_rows": null,
            "grid_column": null,
            "grid_gap": null,
            "grid_row": null,
            "grid_template_areas": null,
            "grid_template_columns": null,
            "grid_template_rows": null,
            "height": null,
            "justify_content": null,
            "justify_items": null,
            "left": null,
            "margin": null,
            "max_height": null,
            "max_width": null,
            "min_height": null,
            "min_width": null,
            "object_fit": null,
            "object_position": null,
            "order": null,
            "overflow": null,
            "overflow_x": null,
            "overflow_y": null,
            "padding": null,
            "right": null,
            "top": null,
            "visibility": null,
            "width": null
          }
        },
        "696d0b6e82654141af336d87b8dce157": {
          "model_module": "@jupyter-widgets/base",
          "model_name": "LayoutModel",
          "model_module_version": "1.2.0",
          "state": {
            "_model_module": "@jupyter-widgets/base",
            "_model_module_version": "1.2.0",
            "_model_name": "LayoutModel",
            "_view_count": null,
            "_view_module": "@jupyter-widgets/base",
            "_view_module_version": "1.2.0",
            "_view_name": "LayoutView",
            "align_content": null,
            "align_items": null,
            "align_self": null,
            "border": null,
            "bottom": null,
            "display": null,
            "flex": null,
            "flex_flow": null,
            "grid_area": null,
            "grid_auto_columns": null,
            "grid_auto_flow": null,
            "grid_auto_rows": null,
            "grid_column": null,
            "grid_gap": null,
            "grid_row": null,
            "grid_template_areas": null,
            "grid_template_columns": null,
            "grid_template_rows": null,
            "height": null,
            "justify_content": null,
            "justify_items": null,
            "left": null,
            "margin": null,
            "max_height": null,
            "max_width": null,
            "min_height": null,
            "min_width": null,
            "object_fit": null,
            "object_position": null,
            "order": null,
            "overflow": null,
            "overflow_x": null,
            "overflow_y": null,
            "padding": null,
            "right": null,
            "top": null,
            "visibility": null,
            "width": null
          }
        },
        "f631be51b2d34ee29a0214758ca597fe": {
          "model_module": "@jupyter-widgets/controls",
          "model_name": "DescriptionStyleModel",
          "model_module_version": "1.5.0",
          "state": {
            "_model_module": "@jupyter-widgets/controls",
            "_model_module_version": "1.5.0",
            "_model_name": "DescriptionStyleModel",
            "_view_count": null,
            "_view_module": "@jupyter-widgets/base",
            "_view_module_version": "1.2.0",
            "_view_name": "StyleView",
            "description_width": ""
          }
        },
        "f00d81baa7fa4301940d143bf1f3755f": {
          "model_module": "@jupyter-widgets/base",
          "model_name": "LayoutModel",
          "model_module_version": "1.2.0",
          "state": {
            "_model_module": "@jupyter-widgets/base",
            "_model_module_version": "1.2.0",
            "_model_name": "LayoutModel",
            "_view_count": null,
            "_view_module": "@jupyter-widgets/base",
            "_view_module_version": "1.2.0",
            "_view_name": "LayoutView",
            "align_content": null,
            "align_items": null,
            "align_self": null,
            "border": null,
            "bottom": null,
            "display": null,
            "flex": null,
            "flex_flow": null,
            "grid_area": null,
            "grid_auto_columns": null,
            "grid_auto_flow": null,
            "grid_auto_rows": null,
            "grid_column": null,
            "grid_gap": null,
            "grid_row": null,
            "grid_template_areas": null,
            "grid_template_columns": null,
            "grid_template_rows": null,
            "height": null,
            "justify_content": null,
            "justify_items": null,
            "left": null,
            "margin": null,
            "max_height": null,
            "max_width": null,
            "min_height": null,
            "min_width": null,
            "object_fit": null,
            "object_position": null,
            "order": null,
            "overflow": null,
            "overflow_x": null,
            "overflow_y": null,
            "padding": null,
            "right": null,
            "top": null,
            "visibility": null,
            "width": null
          }
        },
        "8173b907fb2b4940bf44d40af484af59": {
          "model_module": "@jupyter-widgets/controls",
          "model_name": "ProgressStyleModel",
          "model_module_version": "1.5.0",
          "state": {
            "_model_module": "@jupyter-widgets/controls",
            "_model_module_version": "1.5.0",
            "_model_name": "ProgressStyleModel",
            "_view_count": null,
            "_view_module": "@jupyter-widgets/base",
            "_view_module_version": "1.2.0",
            "_view_name": "StyleView",
            "bar_color": null,
            "description_width": ""
          }
        },
        "a9a72400bc064109873b4745c8cf4207": {
          "model_module": "@jupyter-widgets/base",
          "model_name": "LayoutModel",
          "model_module_version": "1.2.0",
          "state": {
            "_model_module": "@jupyter-widgets/base",
            "_model_module_version": "1.2.0",
            "_model_name": "LayoutModel",
            "_view_count": null,
            "_view_module": "@jupyter-widgets/base",
            "_view_module_version": "1.2.0",
            "_view_name": "LayoutView",
            "align_content": null,
            "align_items": null,
            "align_self": null,
            "border": null,
            "bottom": null,
            "display": null,
            "flex": null,
            "flex_flow": null,
            "grid_area": null,
            "grid_auto_columns": null,
            "grid_auto_flow": null,
            "grid_auto_rows": null,
            "grid_column": null,
            "grid_gap": null,
            "grid_row": null,
            "grid_template_areas": null,
            "grid_template_columns": null,
            "grid_template_rows": null,
            "height": null,
            "justify_content": null,
            "justify_items": null,
            "left": null,
            "margin": null,
            "max_height": null,
            "max_width": null,
            "min_height": null,
            "min_width": null,
            "object_fit": null,
            "object_position": null,
            "order": null,
            "overflow": null,
            "overflow_x": null,
            "overflow_y": null,
            "padding": null,
            "right": null,
            "top": null,
            "visibility": null,
            "width": null
          }
        },
        "88ffdc38ec0e440eb2bfe3fad582d804": {
          "model_module": "@jupyter-widgets/controls",
          "model_name": "DescriptionStyleModel",
          "model_module_version": "1.5.0",
          "state": {
            "_model_module": "@jupyter-widgets/controls",
            "_model_module_version": "1.5.0",
            "_model_name": "DescriptionStyleModel",
            "_view_count": null,
            "_view_module": "@jupyter-widgets/base",
            "_view_module_version": "1.2.0",
            "_view_name": "StyleView",
            "description_width": ""
          }
        }
      }
    }
  },
  "cells": [
    {
      "cell_type": "markdown",
      "source": [
        "## **References**\n",
        "Below are references (githubs, blogs, stackoverflow etc) where codes are adapted from and links used for troubleshooting errors encountered during the project.\n",
        "\n",
        "1. https://towardsdatascience.com/question-and-answering-with-bert-6ef89a78dac\n",
        "\n",
        "2. https://www.youtube.com/watch?v=scJsty_DR3o\n",
        "\n",
        "3. Freeze Lower Layers with Auto Classification Model (https://discuss.huggingface.co/t/freeze-lower-layers-with-auto-classification-model/11386, https://huggingface.co/transformers/v3.3.1/training.html\n",
        "\n",
        "4. Transfer Learning — Powering up with Pretrained Models (https://medium.com/analytics-vidhya/transfer-learning-powering-up-with-pretrained-models-read-bert-ce7da68f3e08)\n",
        "\n",
        "5. How to deal with -1 span_start and span_end in coQA dataset? (https://www.kaggle.com/discussions/questions-and-answers/365778)\n",
        "\n",
        "6. https://stackoverflow.com/questions/74417607/how-to-deal-with-1-span-start-and-span-end-in-coqa-dataset-posted-in-questions\n",
        "\n",
        "7. https://ai.stackexchange.com/questions/32184/what-is-the-intermediate-dense-layer-in-between-attention-output-and-encoder-o\n",
        "\n",
        "8. How to Build Custom Q&A Transformer Models in Python (https://www.youtube.com/watch?v=ZIRmXkHp0-c , https://gist.github.com/jamescalam/55daf50c8da9eb3a7c18de058bc139a3"
      ],
      "metadata": {
        "id": "Xndc3RbRx0ih"
      }
    },
    {
      "cell_type": "markdown",
      "source": [
        "## **Install and import relevant libraries and packages. Connect google drive to google colab. Also, set up a GPU/CPU config.**"
      ],
      "metadata": {
        "id": "opZSZ1Y_G3Ge"
      }
    },
    {
      "cell_type": "code",
      "execution_count": null,
      "metadata": {
        "colab": {
          "base_uri": "https://localhost:8080/"
        },
        "id": "oEDIkOb1zpUb",
        "outputId": "7e250de8-5982-4398-95e1-32da36354646"
      },
      "outputs": [
        {
          "output_type": "stream",
          "name": "stdout",
          "text": [
            "Looking in indexes: https://pypi.org/simple, https://us-python.pkg.dev/colab-wheels/public/simple/\n",
            "Requirement already satisfied: torch in /usr/local/lib/python3.7/dist-packages (1.12.1+cu113)\n",
            "Requirement already satisfied: typing-extensions in /usr/local/lib/python3.7/dist-packages (from torch) (4.1.1)\n"
          ]
        }
      ],
      "source": [
        "!pip install torch"
      ]
    },
    {
      "cell_type": "code",
      "source": [
        "!pip install transformers --quiet"
      ],
      "metadata": {
        "id": "RCcdeUb42ZgP",
        "colab": {
          "base_uri": "https://localhost:8080/"
        },
        "outputId": "557a9de6-876e-4a44-cf5f-8c4ad62c9c43"
      },
      "execution_count": null,
      "outputs": [
        {
          "output_type": "stream",
          "name": "stdout",
          "text": [
            "\u001b[K     |████████████████████████████████| 5.5 MB 6.5 MB/s \n",
            "\u001b[K     |████████████████████████████████| 182 kB 79.7 MB/s \n",
            "\u001b[K     |████████████████████████████████| 7.6 MB 48.4 MB/s \n",
            "\u001b[?25h"
          ]
        }
      ]
    },
    {
      "cell_type": "code",
      "source": [
        "from google.colab import drive\n",
        "drive.mount('/content/drive')"
      ],
      "metadata": {
        "colab": {
          "base_uri": "https://localhost:8080/"
        },
        "id": "KeIDEAuf2UR_",
        "outputId": "75b5ed13-28d6-4b7a-9483-0e36d73fdd82"
      },
      "execution_count": null,
      "outputs": [
        {
          "output_type": "stream",
          "name": "stdout",
          "text": [
            "Mounted at /content/drive\n"
          ]
        }
      ]
    },
    {
      "cell_type": "code",
      "source": [
        "import pandas as pd\n",
        "import numpy as np\n",
        "import torch\n",
        "from transformers import DistilBertForQuestionAnswering, DistilBertTokenizerFast\n",
        "import json\n",
        "from torch.utils.data import DataLoader\n",
        "from transformers import AdamW\n",
        "from tqdm import tqdm\n",
        "import matplotlib.pyplot as plt\n",
        "\n",
        "plt.rcParams.update({'font.size': 22})"
      ],
      "metadata": {
        "id": "cH8BC9RH2UU1"
      },
      "execution_count": null,
      "outputs": []
    },
    {
      "cell_type": "code",
      "source": [
        "#device config\n",
        "# setup GPU/CPU\n",
        "device = torch.device('cuda') if torch.cuda.is_available() else torch.device('cpu')"
      ],
      "metadata": {
        "id": "JkUWJ_YDqlja"
      },
      "execution_count": null,
      "outputs": []
    },
    {
      "cell_type": "markdown",
      "source": [
        "## **COQA DATASET**"
      ],
      "metadata": {
        "id": "sZbs8fJVTt0e"
      }
    },
    {
      "cell_type": "markdown",
      "source": [
        "## Load Coqa data set"
      ],
      "metadata": {
        "id": "cJ7UM5Px8yRD"
      }
    },
    {
      "cell_type": "code",
      "source": [
        "coqa_train_filename  = \"/content/drive/MyDrive/w266_NLP_project/data/CoQA_datasets/coqa-train-v1.0.json\"\n",
        "coqa_val_filename  = \"/content/drive/MyDrive/w266_NLP_project/data/CoQA_datasets/coqa-dev-v1.0.json\""
      ],
      "metadata": {
        "id": "FdvwBY9P83sI"
      },
      "execution_count": null,
      "outputs": []
    },
    {
      "cell_type": "code",
      "source": [
        "#define function to load json file\n",
        "def load_data(filename):\n",
        "  \"\"\"This will take in a json data file name \n",
        "      and convert data to pandas dataframe.\n",
        "  \"\"\"\n",
        "  data = pd.read_json(filename)\n",
        "  return data\n",
        "\n"
      ],
      "metadata": {
        "id": "0S9GmR6o83u8"
      },
      "execution_count": null,
      "outputs": []
    },
    {
      "cell_type": "code",
      "source": [
        "coqa_train = load_data(coqa_train_filename)\n",
        "coqa_val = load_data(coqa_val_filename)\n",
        "coqa_train.head(2)"
      ],
      "metadata": {
        "colab": {
          "base_uri": "https://localhost:8080/",
          "height": 112
        },
        "id": "MrarCSsj83x4",
        "outputId": "93774512-3698-415f-b61a-6dc769b26029"
      },
      "execution_count": null,
      "outputs": [
        {
          "output_type": "execute_result",
          "data": {
            "text/plain": [
              "   version                                               data\n",
              "0        1  {'source': 'wikipedia', 'id': '3zotghdk5ibi9ce...\n",
              "1        1  {'source': 'cnn', 'id': '3wj1oxy92agboo5nlq4r7..."
            ],
            "text/html": [
              "\n",
              "  <div id=\"df-2cce60cb-707f-4497-8773-f175c1a0cb54\">\n",
              "    <div class=\"colab-df-container\">\n",
              "      <div>\n",
              "<style scoped>\n",
              "    .dataframe tbody tr th:only-of-type {\n",
              "        vertical-align: middle;\n",
              "    }\n",
              "\n",
              "    .dataframe tbody tr th {\n",
              "        vertical-align: top;\n",
              "    }\n",
              "\n",
              "    .dataframe thead th {\n",
              "        text-align: right;\n",
              "    }\n",
              "</style>\n",
              "<table border=\"1\" class=\"dataframe\">\n",
              "  <thead>\n",
              "    <tr style=\"text-align: right;\">\n",
              "      <th></th>\n",
              "      <th>version</th>\n",
              "      <th>data</th>\n",
              "    </tr>\n",
              "  </thead>\n",
              "  <tbody>\n",
              "    <tr>\n",
              "      <th>0</th>\n",
              "      <td>1</td>\n",
              "      <td>{'source': 'wikipedia', 'id': '3zotghdk5ibi9ce...</td>\n",
              "    </tr>\n",
              "    <tr>\n",
              "      <th>1</th>\n",
              "      <td>1</td>\n",
              "      <td>{'source': 'cnn', 'id': '3wj1oxy92agboo5nlq4r7...</td>\n",
              "    </tr>\n",
              "  </tbody>\n",
              "</table>\n",
              "</div>\n",
              "      <button class=\"colab-df-convert\" onclick=\"convertToInteractive('df-2cce60cb-707f-4497-8773-f175c1a0cb54')\"\n",
              "              title=\"Convert this dataframe to an interactive table.\"\n",
              "              style=\"display:none;\">\n",
              "        \n",
              "  <svg xmlns=\"http://www.w3.org/2000/svg\" height=\"24px\"viewBox=\"0 0 24 24\"\n",
              "       width=\"24px\">\n",
              "    <path d=\"M0 0h24v24H0V0z\" fill=\"none\"/>\n",
              "    <path d=\"M18.56 5.44l.94 2.06.94-2.06 2.06-.94-2.06-.94-.94-2.06-.94 2.06-2.06.94zm-11 1L8.5 8.5l.94-2.06 2.06-.94-2.06-.94L8.5 2.5l-.94 2.06-2.06.94zm10 10l.94 2.06.94-2.06 2.06-.94-2.06-.94-.94-2.06-.94 2.06-2.06.94z\"/><path d=\"M17.41 7.96l-1.37-1.37c-.4-.4-.92-.59-1.43-.59-.52 0-1.04.2-1.43.59L10.3 9.45l-7.72 7.72c-.78.78-.78 2.05 0 2.83L4 21.41c.39.39.9.59 1.41.59.51 0 1.02-.2 1.41-.59l7.78-7.78 2.81-2.81c.8-.78.8-2.07 0-2.86zM5.41 20L4 18.59l7.72-7.72 1.47 1.35L5.41 20z\"/>\n",
              "  </svg>\n",
              "      </button>\n",
              "      \n",
              "  <style>\n",
              "    .colab-df-container {\n",
              "      display:flex;\n",
              "      flex-wrap:wrap;\n",
              "      gap: 12px;\n",
              "    }\n",
              "\n",
              "    .colab-df-convert {\n",
              "      background-color: #E8F0FE;\n",
              "      border: none;\n",
              "      border-radius: 50%;\n",
              "      cursor: pointer;\n",
              "      display: none;\n",
              "      fill: #1967D2;\n",
              "      height: 32px;\n",
              "      padding: 0 0 0 0;\n",
              "      width: 32px;\n",
              "    }\n",
              "\n",
              "    .colab-df-convert:hover {\n",
              "      background-color: #E2EBFA;\n",
              "      box-shadow: 0px 1px 2px rgba(60, 64, 67, 0.3), 0px 1px 3px 1px rgba(60, 64, 67, 0.15);\n",
              "      fill: #174EA6;\n",
              "    }\n",
              "\n",
              "    [theme=dark] .colab-df-convert {\n",
              "      background-color: #3B4455;\n",
              "      fill: #D2E3FC;\n",
              "    }\n",
              "\n",
              "    [theme=dark] .colab-df-convert:hover {\n",
              "      background-color: #434B5C;\n",
              "      box-shadow: 0px 1px 3px 1px rgba(0, 0, 0, 0.15);\n",
              "      filter: drop-shadow(0px 1px 2px rgba(0, 0, 0, 0.3));\n",
              "      fill: #FFFFFF;\n",
              "    }\n",
              "  </style>\n",
              "\n",
              "      <script>\n",
              "        const buttonEl =\n",
              "          document.querySelector('#df-2cce60cb-707f-4497-8773-f175c1a0cb54 button.colab-df-convert');\n",
              "        buttonEl.style.display =\n",
              "          google.colab.kernel.accessAllowed ? 'block' : 'none';\n",
              "\n",
              "        async function convertToInteractive(key) {\n",
              "          const element = document.querySelector('#df-2cce60cb-707f-4497-8773-f175c1a0cb54');\n",
              "          const dataTable =\n",
              "            await google.colab.kernel.invokeFunction('convertToInteractive',\n",
              "                                                     [key], {});\n",
              "          if (!dataTable) return;\n",
              "\n",
              "          const docLinkHtml = 'Like what you see? Visit the ' +\n",
              "            '<a target=\"_blank\" href=https://colab.research.google.com/notebooks/data_table.ipynb>data table notebook</a>'\n",
              "            + ' to learn more about interactive tables.';\n",
              "          element.innerHTML = '';\n",
              "          dataTable['output_type'] = 'display_data';\n",
              "          await google.colab.output.renderOutput(dataTable, element);\n",
              "          const docLink = document.createElement('div');\n",
              "          docLink.innerHTML = docLinkHtml;\n",
              "          element.appendChild(docLink);\n",
              "        }\n",
              "      </script>\n",
              "    </div>\n",
              "  </div>\n",
              "  "
            ]
          },
          "metadata": {},
          "execution_count": 8
        }
      ]
    },
    {
      "cell_type": "code",
      "source": [
        "#We will delete the column called version as it is not needed.\n",
        "del coqa_train[\"version\"]\n",
        "del coqa_val[\"version\"]"
      ],
      "metadata": {
        "id": "62FIy8Ce830z"
      },
      "execution_count": null,
      "outputs": []
    },
    {
      "cell_type": "code",
      "source": [
        "#Define a function to extract the data from the dataframe.\n",
        "def extract_column_data(df):\n",
        "  \"\"\"This function will extract the data from the json data format in the data column of the dataframe and store in a list.\n",
        "  This is a nested json format. We will obtain the story (which is the context), the questions,\n",
        "  answers, span start and span end into a dataframe.\"\"\"\n",
        "  \n",
        "#required columns in our dataframe\n",
        "  cols = [\"context\",\"question\",\"convo_answer\",\"span_start\",\"span_end\", \"span_text\"]\n",
        "  #list of lists to create our dataframe\n",
        "  data_list = []\n",
        "  for index, row in df.iterrows():\n",
        "      for i in range(len(row[\"data\"][\"questions\"])):\n",
        "        \n",
        "          temp_list = []\n",
        "          temp_list.append(row[\"data\"][\"story\"])\n",
        "          temp_list.append(row[\"data\"][\"questions\"][i][\"input_text\"])\n",
        "          temp_list.append(row[\"data\"][\"answers\"][i][\"input_text\"])\n",
        "          temp_list.append(row[\"data\"][\"answers\"][i][\"span_start\"])\n",
        "          temp_list.append(row[\"data\"][\"answers\"][i][\"span_end\"])\n",
        "          temp_list.append(row[\"data\"][\"answers\"][i][\"span_text\"])\n",
        "          data_list.append(temp_list)\n",
        "  data_df = pd.DataFrame(data_list, columns=cols)\n",
        "  return data_df"
      ],
      "metadata": {
        "id": "i6ngQkgt833Y"
      },
      "execution_count": null,
      "outputs": []
    },
    {
      "cell_type": "code",
      "source": [
        "coqa_train = extract_column_data(coqa_train)\n",
        "coqa_val = extract_column_data(coqa_val)\n",
        "\n",
        "coqa_train.head(2)"
      ],
      "metadata": {
        "colab": {
          "base_uri": "https://localhost:8080/",
          "height": 112
        },
        "id": "itNj_3AR836F",
        "outputId": "aea77d09-5e09-4183-9a85-4b1287ff3be8"
      },
      "execution_count": null,
      "outputs": [
        {
          "output_type": "execute_result",
          "data": {
            "text/plain": [
              "                                             context  \\\n",
              "0  The Vatican Apostolic Library (), more commonl...   \n",
              "1  The Vatican Apostolic Library (), more commonl...   \n",
              "\n",
              "                            question                         convo_answer  \\\n",
              "0  When was the Vat formally opened?  It was formally established in 1475   \n",
              "1           what is the library for?                             research   \n",
              "\n",
              "   span_start  span_end                                 span_text  \n",
              "0         151       179              Formally established in 1475  \n",
              "1         454       494  he Vatican Library is a research library  "
            ],
            "text/html": [
              "\n",
              "  <div id=\"df-6d051c86-3342-4c32-8c66-aa2d99fd504e\">\n",
              "    <div class=\"colab-df-container\">\n",
              "      <div>\n",
              "<style scoped>\n",
              "    .dataframe tbody tr th:only-of-type {\n",
              "        vertical-align: middle;\n",
              "    }\n",
              "\n",
              "    .dataframe tbody tr th {\n",
              "        vertical-align: top;\n",
              "    }\n",
              "\n",
              "    .dataframe thead th {\n",
              "        text-align: right;\n",
              "    }\n",
              "</style>\n",
              "<table border=\"1\" class=\"dataframe\">\n",
              "  <thead>\n",
              "    <tr style=\"text-align: right;\">\n",
              "      <th></th>\n",
              "      <th>context</th>\n",
              "      <th>question</th>\n",
              "      <th>convo_answer</th>\n",
              "      <th>span_start</th>\n",
              "      <th>span_end</th>\n",
              "      <th>span_text</th>\n",
              "    </tr>\n",
              "  </thead>\n",
              "  <tbody>\n",
              "    <tr>\n",
              "      <th>0</th>\n",
              "      <td>The Vatican Apostolic Library (), more commonl...</td>\n",
              "      <td>When was the Vat formally opened?</td>\n",
              "      <td>It was formally established in 1475</td>\n",
              "      <td>151</td>\n",
              "      <td>179</td>\n",
              "      <td>Formally established in 1475</td>\n",
              "    </tr>\n",
              "    <tr>\n",
              "      <th>1</th>\n",
              "      <td>The Vatican Apostolic Library (), more commonl...</td>\n",
              "      <td>what is the library for?</td>\n",
              "      <td>research</td>\n",
              "      <td>454</td>\n",
              "      <td>494</td>\n",
              "      <td>he Vatican Library is a research library</td>\n",
              "    </tr>\n",
              "  </tbody>\n",
              "</table>\n",
              "</div>\n",
              "      <button class=\"colab-df-convert\" onclick=\"convertToInteractive('df-6d051c86-3342-4c32-8c66-aa2d99fd504e')\"\n",
              "              title=\"Convert this dataframe to an interactive table.\"\n",
              "              style=\"display:none;\">\n",
              "        \n",
              "  <svg xmlns=\"http://www.w3.org/2000/svg\" height=\"24px\"viewBox=\"0 0 24 24\"\n",
              "       width=\"24px\">\n",
              "    <path d=\"M0 0h24v24H0V0z\" fill=\"none\"/>\n",
              "    <path d=\"M18.56 5.44l.94 2.06.94-2.06 2.06-.94-2.06-.94-.94-2.06-.94 2.06-2.06.94zm-11 1L8.5 8.5l.94-2.06 2.06-.94-2.06-.94L8.5 2.5l-.94 2.06-2.06.94zm10 10l.94 2.06.94-2.06 2.06-.94-2.06-.94-.94-2.06-.94 2.06-2.06.94z\"/><path d=\"M17.41 7.96l-1.37-1.37c-.4-.4-.92-.59-1.43-.59-.52 0-1.04.2-1.43.59L10.3 9.45l-7.72 7.72c-.78.78-.78 2.05 0 2.83L4 21.41c.39.39.9.59 1.41.59.51 0 1.02-.2 1.41-.59l7.78-7.78 2.81-2.81c.8-.78.8-2.07 0-2.86zM5.41 20L4 18.59l7.72-7.72 1.47 1.35L5.41 20z\"/>\n",
              "  </svg>\n",
              "      </button>\n",
              "      \n",
              "  <style>\n",
              "    .colab-df-container {\n",
              "      display:flex;\n",
              "      flex-wrap:wrap;\n",
              "      gap: 12px;\n",
              "    }\n",
              "\n",
              "    .colab-df-convert {\n",
              "      background-color: #E8F0FE;\n",
              "      border: none;\n",
              "      border-radius: 50%;\n",
              "      cursor: pointer;\n",
              "      display: none;\n",
              "      fill: #1967D2;\n",
              "      height: 32px;\n",
              "      padding: 0 0 0 0;\n",
              "      width: 32px;\n",
              "    }\n",
              "\n",
              "    .colab-df-convert:hover {\n",
              "      background-color: #E2EBFA;\n",
              "      box-shadow: 0px 1px 2px rgba(60, 64, 67, 0.3), 0px 1px 3px 1px rgba(60, 64, 67, 0.15);\n",
              "      fill: #174EA6;\n",
              "    }\n",
              "\n",
              "    [theme=dark] .colab-df-convert {\n",
              "      background-color: #3B4455;\n",
              "      fill: #D2E3FC;\n",
              "    }\n",
              "\n",
              "    [theme=dark] .colab-df-convert:hover {\n",
              "      background-color: #434B5C;\n",
              "      box-shadow: 0px 1px 3px 1px rgba(0, 0, 0, 0.15);\n",
              "      filter: drop-shadow(0px 1px 2px rgba(0, 0, 0, 0.3));\n",
              "      fill: #FFFFFF;\n",
              "    }\n",
              "  </style>\n",
              "\n",
              "      <script>\n",
              "        const buttonEl =\n",
              "          document.querySelector('#df-6d051c86-3342-4c32-8c66-aa2d99fd504e button.colab-df-convert');\n",
              "        buttonEl.style.display =\n",
              "          google.colab.kernel.accessAllowed ? 'block' : 'none';\n",
              "\n",
              "        async function convertToInteractive(key) {\n",
              "          const element = document.querySelector('#df-6d051c86-3342-4c32-8c66-aa2d99fd504e');\n",
              "          const dataTable =\n",
              "            await google.colab.kernel.invokeFunction('convertToInteractive',\n",
              "                                                     [key], {});\n",
              "          if (!dataTable) return;\n",
              "\n",
              "          const docLinkHtml = 'Like what you see? Visit the ' +\n",
              "            '<a target=\"_blank\" href=https://colab.research.google.com/notebooks/data_table.ipynb>data table notebook</a>'\n",
              "            + ' to learn more about interactive tables.';\n",
              "          element.innerHTML = '';\n",
              "          dataTable['output_type'] = 'display_data';\n",
              "          await google.colab.output.renderOutput(dataTable, element);\n",
              "          const docLink = document.createElement('div');\n",
              "          docLink.innerHTML = docLinkHtml;\n",
              "          element.appendChild(docLink);\n",
              "        }\n",
              "      </script>\n",
              "    </div>\n",
              "  </div>\n",
              "  "
            ]
          },
          "metadata": {},
          "execution_count": 11
        }
      ]
    },
    {
      "cell_type": "code",
      "source": [
        "coqa_val.head(2)"
      ],
      "metadata": {
        "colab": {
          "base_uri": "https://localhost:8080/",
          "height": 112
        },
        "id": "c0oKC1U3z6Ai",
        "outputId": "e95004b2-8786-4d1f-8dc7-50f4d4089df9"
      },
      "execution_count": null,
      "outputs": [
        {
          "output_type": "execute_result",
          "data": {
            "text/plain": [
              "                                             context                question  \\\n",
              "0  Once upon a time, in a barn near a farm house,...  What color was Cotton?   \n",
              "1  Once upon a time, in a barn near a farm house,...     Where did she live?   \n",
              "\n",
              "  convo_answer  span_start  span_end  \\\n",
              "0        white          59        93   \n",
              "1    in a barn          18        80   \n",
              "\n",
              "                                           span_text  \n",
              "0                 a little white kitten named Cotton  \n",
              "1  in a barn near a farm house, there lived a lit...  "
            ],
            "text/html": [
              "\n",
              "  <div id=\"df-61354233-f34b-4dd7-aea7-1b963e892455\">\n",
              "    <div class=\"colab-df-container\">\n",
              "      <div>\n",
              "<style scoped>\n",
              "    .dataframe tbody tr th:only-of-type {\n",
              "        vertical-align: middle;\n",
              "    }\n",
              "\n",
              "    .dataframe tbody tr th {\n",
              "        vertical-align: top;\n",
              "    }\n",
              "\n",
              "    .dataframe thead th {\n",
              "        text-align: right;\n",
              "    }\n",
              "</style>\n",
              "<table border=\"1\" class=\"dataframe\">\n",
              "  <thead>\n",
              "    <tr style=\"text-align: right;\">\n",
              "      <th></th>\n",
              "      <th>context</th>\n",
              "      <th>question</th>\n",
              "      <th>convo_answer</th>\n",
              "      <th>span_start</th>\n",
              "      <th>span_end</th>\n",
              "      <th>span_text</th>\n",
              "    </tr>\n",
              "  </thead>\n",
              "  <tbody>\n",
              "    <tr>\n",
              "      <th>0</th>\n",
              "      <td>Once upon a time, in a barn near a farm house,...</td>\n",
              "      <td>What color was Cotton?</td>\n",
              "      <td>white</td>\n",
              "      <td>59</td>\n",
              "      <td>93</td>\n",
              "      <td>a little white kitten named Cotton</td>\n",
              "    </tr>\n",
              "    <tr>\n",
              "      <th>1</th>\n",
              "      <td>Once upon a time, in a barn near a farm house,...</td>\n",
              "      <td>Where did she live?</td>\n",
              "      <td>in a barn</td>\n",
              "      <td>18</td>\n",
              "      <td>80</td>\n",
              "      <td>in a barn near a farm house, there lived a lit...</td>\n",
              "    </tr>\n",
              "  </tbody>\n",
              "</table>\n",
              "</div>\n",
              "      <button class=\"colab-df-convert\" onclick=\"convertToInteractive('df-61354233-f34b-4dd7-aea7-1b963e892455')\"\n",
              "              title=\"Convert this dataframe to an interactive table.\"\n",
              "              style=\"display:none;\">\n",
              "        \n",
              "  <svg xmlns=\"http://www.w3.org/2000/svg\" height=\"24px\"viewBox=\"0 0 24 24\"\n",
              "       width=\"24px\">\n",
              "    <path d=\"M0 0h24v24H0V0z\" fill=\"none\"/>\n",
              "    <path d=\"M18.56 5.44l.94 2.06.94-2.06 2.06-.94-2.06-.94-.94-2.06-.94 2.06-2.06.94zm-11 1L8.5 8.5l.94-2.06 2.06-.94-2.06-.94L8.5 2.5l-.94 2.06-2.06.94zm10 10l.94 2.06.94-2.06 2.06-.94-2.06-.94-.94-2.06-.94 2.06-2.06.94z\"/><path d=\"M17.41 7.96l-1.37-1.37c-.4-.4-.92-.59-1.43-.59-.52 0-1.04.2-1.43.59L10.3 9.45l-7.72 7.72c-.78.78-.78 2.05 0 2.83L4 21.41c.39.39.9.59 1.41.59.51 0 1.02-.2 1.41-.59l7.78-7.78 2.81-2.81c.8-.78.8-2.07 0-2.86zM5.41 20L4 18.59l7.72-7.72 1.47 1.35L5.41 20z\"/>\n",
              "  </svg>\n",
              "      </button>\n",
              "      \n",
              "  <style>\n",
              "    .colab-df-container {\n",
              "      display:flex;\n",
              "      flex-wrap:wrap;\n",
              "      gap: 12px;\n",
              "    }\n",
              "\n",
              "    .colab-df-convert {\n",
              "      background-color: #E8F0FE;\n",
              "      border: none;\n",
              "      border-radius: 50%;\n",
              "      cursor: pointer;\n",
              "      display: none;\n",
              "      fill: #1967D2;\n",
              "      height: 32px;\n",
              "      padding: 0 0 0 0;\n",
              "      width: 32px;\n",
              "    }\n",
              "\n",
              "    .colab-df-convert:hover {\n",
              "      background-color: #E2EBFA;\n",
              "      box-shadow: 0px 1px 2px rgba(60, 64, 67, 0.3), 0px 1px 3px 1px rgba(60, 64, 67, 0.15);\n",
              "      fill: #174EA6;\n",
              "    }\n",
              "\n",
              "    [theme=dark] .colab-df-convert {\n",
              "      background-color: #3B4455;\n",
              "      fill: #D2E3FC;\n",
              "    }\n",
              "\n",
              "    [theme=dark] .colab-df-convert:hover {\n",
              "      background-color: #434B5C;\n",
              "      box-shadow: 0px 1px 3px 1px rgba(0, 0, 0, 0.15);\n",
              "      filter: drop-shadow(0px 1px 2px rgba(0, 0, 0, 0.3));\n",
              "      fill: #FFFFFF;\n",
              "    }\n",
              "  </style>\n",
              "\n",
              "      <script>\n",
              "        const buttonEl =\n",
              "          document.querySelector('#df-61354233-f34b-4dd7-aea7-1b963e892455 button.colab-df-convert');\n",
              "        buttonEl.style.display =\n",
              "          google.colab.kernel.accessAllowed ? 'block' : 'none';\n",
              "\n",
              "        async function convertToInteractive(key) {\n",
              "          const element = document.querySelector('#df-61354233-f34b-4dd7-aea7-1b963e892455');\n",
              "          const dataTable =\n",
              "            await google.colab.kernel.invokeFunction('convertToInteractive',\n",
              "                                                     [key], {});\n",
              "          if (!dataTable) return;\n",
              "\n",
              "          const docLinkHtml = 'Like what you see? Visit the ' +\n",
              "            '<a target=\"_blank\" href=https://colab.research.google.com/notebooks/data_table.ipynb>data table notebook</a>'\n",
              "            + ' to learn more about interactive tables.';\n",
              "          element.innerHTML = '';\n",
              "          dataTable['output_type'] = 'display_data';\n",
              "          await google.colab.output.renderOutput(dataTable, element);\n",
              "          const docLink = document.createElement('div');\n",
              "          docLink.innerHTML = docLinkHtml;\n",
              "          element.appendChild(docLink);\n",
              "        }\n",
              "      </script>\n",
              "    </div>\n",
              "  </div>\n",
              "  "
            ]
          },
          "metadata": {},
          "execution_count": 12
        }
      ]
    },
    {
      "cell_type": "markdown",
      "source": [
        "## Coqa data pre-processing"
      ],
      "metadata": {
        "id": "zfA3erMVALbU"
      }
    },
    {
      "cell_type": "code",
      "source": [
        "coqa_train.loc[coqa_train.span_start<0]"
      ],
      "metadata": {
        "colab": {
          "base_uri": "https://localhost:8080/",
          "height": 424
        },
        "id": "KVdIFeJE8398",
        "outputId": "4ed1124b-2268-4fc4-8a4a-2f7a2fc5c5b0"
      },
      "execution_count": null,
      "outputs": [
        {
          "output_type": "execute_result",
          "data": {
            "text/plain": [
              "                                                  context  \\\n",
              "13      The Vatican Apostolic Library (), more commonl...   \n",
              "349     (CNN) -- The 54-year-old Michigan tree trimmer...   \n",
              "352     (CNN) -- The 54-year-old Michigan tree trimmer...   \n",
              "354     (CNN) -- The 54-year-old Michigan tree trimmer...   \n",
              "356     (CNN) -- The 54-year-old Michigan tree trimmer...   \n",
              "...                                                   ...   \n",
              "108230  CHAPTER 6 \\n\\nCan piety the discord heal, Or s...   \n",
              "108408  Edith Cavell was born in a little English vill...   \n",
              "108581  CHAPTER XX \\n\\nFAST IN THE ICE \\n\\n\"Well, ther...   \n",
              "108632  Frankfurt, officially Frankfurt am Main (Liter...   \n",
              "108637  (CNN) -- Cristiano Ronaldo provided the perfec...   \n",
              "\n",
              "                                    question convo_answer  span_start  \\\n",
              "13           what must be requested to view?      unknown          -1   \n",
              "349      Were they the relatives of the kid?      unknown          -1   \n",
              "352              Where did he go afterwards?      unknown          -1   \n",
              "354                          Who found them?      unknown          -1   \n",
              "356                Did he have any siblings?      unknown          -1   \n",
              "...                                      ...          ...         ...   \n",
              "108230   Who wanted to end the conversation?      unknown          -1   \n",
              "108408                 What happened to him?      unknown          -1   \n",
              "108581  What sort of official did they meet?      unknown          -1   \n",
              "108632            Is it the world's biggest?      unknown          -1   \n",
              "108637          How many times did he score?      unknown          -1   \n",
              "\n",
              "        span_end span_text  \n",
              "13            -1   unknown  \n",
              "349           -1   unknown  \n",
              "352           -1   unknown  \n",
              "354           -1   unknown  \n",
              "356           -1   unknown  \n",
              "...          ...       ...  \n",
              "108230        -1   unknown  \n",
              "108408        -1   unknown  \n",
              "108581        -1   unknown  \n",
              "108632        -1   unknown  \n",
              "108637        -1   unknown  \n",
              "\n",
              "[1361 rows x 6 columns]"
            ],
            "text/html": [
              "\n",
              "  <div id=\"df-b6ea6186-ecf7-4fda-a869-7ed8deaa58e2\">\n",
              "    <div class=\"colab-df-container\">\n",
              "      <div>\n",
              "<style scoped>\n",
              "    .dataframe tbody tr th:only-of-type {\n",
              "        vertical-align: middle;\n",
              "    }\n",
              "\n",
              "    .dataframe tbody tr th {\n",
              "        vertical-align: top;\n",
              "    }\n",
              "\n",
              "    .dataframe thead th {\n",
              "        text-align: right;\n",
              "    }\n",
              "</style>\n",
              "<table border=\"1\" class=\"dataframe\">\n",
              "  <thead>\n",
              "    <tr style=\"text-align: right;\">\n",
              "      <th></th>\n",
              "      <th>context</th>\n",
              "      <th>question</th>\n",
              "      <th>convo_answer</th>\n",
              "      <th>span_start</th>\n",
              "      <th>span_end</th>\n",
              "      <th>span_text</th>\n",
              "    </tr>\n",
              "  </thead>\n",
              "  <tbody>\n",
              "    <tr>\n",
              "      <th>13</th>\n",
              "      <td>The Vatican Apostolic Library (), more commonl...</td>\n",
              "      <td>what must be requested to view?</td>\n",
              "      <td>unknown</td>\n",
              "      <td>-1</td>\n",
              "      <td>-1</td>\n",
              "      <td>unknown</td>\n",
              "    </tr>\n",
              "    <tr>\n",
              "      <th>349</th>\n",
              "      <td>(CNN) -- The 54-year-old Michigan tree trimmer...</td>\n",
              "      <td>Were they the relatives of the kid?</td>\n",
              "      <td>unknown</td>\n",
              "      <td>-1</td>\n",
              "      <td>-1</td>\n",
              "      <td>unknown</td>\n",
              "    </tr>\n",
              "    <tr>\n",
              "      <th>352</th>\n",
              "      <td>(CNN) -- The 54-year-old Michigan tree trimmer...</td>\n",
              "      <td>Where did he go afterwards?</td>\n",
              "      <td>unknown</td>\n",
              "      <td>-1</td>\n",
              "      <td>-1</td>\n",
              "      <td>unknown</td>\n",
              "    </tr>\n",
              "    <tr>\n",
              "      <th>354</th>\n",
              "      <td>(CNN) -- The 54-year-old Michigan tree trimmer...</td>\n",
              "      <td>Who found them?</td>\n",
              "      <td>unknown</td>\n",
              "      <td>-1</td>\n",
              "      <td>-1</td>\n",
              "      <td>unknown</td>\n",
              "    </tr>\n",
              "    <tr>\n",
              "      <th>356</th>\n",
              "      <td>(CNN) -- The 54-year-old Michigan tree trimmer...</td>\n",
              "      <td>Did he have any siblings?</td>\n",
              "      <td>unknown</td>\n",
              "      <td>-1</td>\n",
              "      <td>-1</td>\n",
              "      <td>unknown</td>\n",
              "    </tr>\n",
              "    <tr>\n",
              "      <th>...</th>\n",
              "      <td>...</td>\n",
              "      <td>...</td>\n",
              "      <td>...</td>\n",
              "      <td>...</td>\n",
              "      <td>...</td>\n",
              "      <td>...</td>\n",
              "    </tr>\n",
              "    <tr>\n",
              "      <th>108230</th>\n",
              "      <td>CHAPTER 6 \\n\\nCan piety the discord heal, Or s...</td>\n",
              "      <td>Who wanted to end the conversation?</td>\n",
              "      <td>unknown</td>\n",
              "      <td>-1</td>\n",
              "      <td>-1</td>\n",
              "      <td>unknown</td>\n",
              "    </tr>\n",
              "    <tr>\n",
              "      <th>108408</th>\n",
              "      <td>Edith Cavell was born in a little English vill...</td>\n",
              "      <td>What happened to him?</td>\n",
              "      <td>unknown</td>\n",
              "      <td>-1</td>\n",
              "      <td>-1</td>\n",
              "      <td>unknown</td>\n",
              "    </tr>\n",
              "    <tr>\n",
              "      <th>108581</th>\n",
              "      <td>CHAPTER XX \\n\\nFAST IN THE ICE \\n\\n\"Well, ther...</td>\n",
              "      <td>What sort of official did they meet?</td>\n",
              "      <td>unknown</td>\n",
              "      <td>-1</td>\n",
              "      <td>-1</td>\n",
              "      <td>unknown</td>\n",
              "    </tr>\n",
              "    <tr>\n",
              "      <th>108632</th>\n",
              "      <td>Frankfurt, officially Frankfurt am Main (Liter...</td>\n",
              "      <td>Is it the world's biggest?</td>\n",
              "      <td>unknown</td>\n",
              "      <td>-1</td>\n",
              "      <td>-1</td>\n",
              "      <td>unknown</td>\n",
              "    </tr>\n",
              "    <tr>\n",
              "      <th>108637</th>\n",
              "      <td>(CNN) -- Cristiano Ronaldo provided the perfec...</td>\n",
              "      <td>How many times did he score?</td>\n",
              "      <td>unknown</td>\n",
              "      <td>-1</td>\n",
              "      <td>-1</td>\n",
              "      <td>unknown</td>\n",
              "    </tr>\n",
              "  </tbody>\n",
              "</table>\n",
              "<p>1361 rows × 6 columns</p>\n",
              "</div>\n",
              "      <button class=\"colab-df-convert\" onclick=\"convertToInteractive('df-b6ea6186-ecf7-4fda-a869-7ed8deaa58e2')\"\n",
              "              title=\"Convert this dataframe to an interactive table.\"\n",
              "              style=\"display:none;\">\n",
              "        \n",
              "  <svg xmlns=\"http://www.w3.org/2000/svg\" height=\"24px\"viewBox=\"0 0 24 24\"\n",
              "       width=\"24px\">\n",
              "    <path d=\"M0 0h24v24H0V0z\" fill=\"none\"/>\n",
              "    <path d=\"M18.56 5.44l.94 2.06.94-2.06 2.06-.94-2.06-.94-.94-2.06-.94 2.06-2.06.94zm-11 1L8.5 8.5l.94-2.06 2.06-.94-2.06-.94L8.5 2.5l-.94 2.06-2.06.94zm10 10l.94 2.06.94-2.06 2.06-.94-2.06-.94-.94-2.06-.94 2.06-2.06.94z\"/><path d=\"M17.41 7.96l-1.37-1.37c-.4-.4-.92-.59-1.43-.59-.52 0-1.04.2-1.43.59L10.3 9.45l-7.72 7.72c-.78.78-.78 2.05 0 2.83L4 21.41c.39.39.9.59 1.41.59.51 0 1.02-.2 1.41-.59l7.78-7.78 2.81-2.81c.8-.78.8-2.07 0-2.86zM5.41 20L4 18.59l7.72-7.72 1.47 1.35L5.41 20z\"/>\n",
              "  </svg>\n",
              "      </button>\n",
              "      \n",
              "  <style>\n",
              "    .colab-df-container {\n",
              "      display:flex;\n",
              "      flex-wrap:wrap;\n",
              "      gap: 12px;\n",
              "    }\n",
              "\n",
              "    .colab-df-convert {\n",
              "      background-color: #E8F0FE;\n",
              "      border: none;\n",
              "      border-radius: 50%;\n",
              "      cursor: pointer;\n",
              "      display: none;\n",
              "      fill: #1967D2;\n",
              "      height: 32px;\n",
              "      padding: 0 0 0 0;\n",
              "      width: 32px;\n",
              "    }\n",
              "\n",
              "    .colab-df-convert:hover {\n",
              "      background-color: #E2EBFA;\n",
              "      box-shadow: 0px 1px 2px rgba(60, 64, 67, 0.3), 0px 1px 3px 1px rgba(60, 64, 67, 0.15);\n",
              "      fill: #174EA6;\n",
              "    }\n",
              "\n",
              "    [theme=dark] .colab-df-convert {\n",
              "      background-color: #3B4455;\n",
              "      fill: #D2E3FC;\n",
              "    }\n",
              "\n",
              "    [theme=dark] .colab-df-convert:hover {\n",
              "      background-color: #434B5C;\n",
              "      box-shadow: 0px 1px 3px 1px rgba(0, 0, 0, 0.15);\n",
              "      filter: drop-shadow(0px 1px 2px rgba(0, 0, 0, 0.3));\n",
              "      fill: #FFFFFF;\n",
              "    }\n",
              "  </style>\n",
              "\n",
              "      <script>\n",
              "        const buttonEl =\n",
              "          document.querySelector('#df-b6ea6186-ecf7-4fda-a869-7ed8deaa58e2 button.colab-df-convert');\n",
              "        buttonEl.style.display =\n",
              "          google.colab.kernel.accessAllowed ? 'block' : 'none';\n",
              "\n",
              "        async function convertToInteractive(key) {\n",
              "          const element = document.querySelector('#df-b6ea6186-ecf7-4fda-a869-7ed8deaa58e2');\n",
              "          const dataTable =\n",
              "            await google.colab.kernel.invokeFunction('convertToInteractive',\n",
              "                                                     [key], {});\n",
              "          if (!dataTable) return;\n",
              "\n",
              "          const docLinkHtml = 'Like what you see? Visit the ' +\n",
              "            '<a target=\"_blank\" href=https://colab.research.google.com/notebooks/data_table.ipynb>data table notebook</a>'\n",
              "            + ' to learn more about interactive tables.';\n",
              "          element.innerHTML = '';\n",
              "          dataTable['output_type'] = 'display_data';\n",
              "          await google.colab.output.renderOutput(dataTable, element);\n",
              "          const docLink = document.createElement('div');\n",
              "          docLink.innerHTML = docLinkHtml;\n",
              "          element.appendChild(docLink);\n",
              "        }\n",
              "      </script>\n",
              "    </div>\n",
              "  </div>\n",
              "  "
            ]
          },
          "metadata": {},
          "execution_count": 13
        }
      ]
    },
    {
      "cell_type": "markdown",
      "source": [
        "There are some rows with a -1 values in the span_start and span_end column as shown in the table above. These were causing error (OverflowError: can't convert negative int to unsigned) when I was adding token positions (in couple of cells below). There might be couple of ways to handle this but the way I handled it was to exclude those samples from the training samples as I didn't have enough time to dig on the best approach due to running out of time for this project and they only make up about 1.2% of the whole dataset. In addition, one of the participants on the coqa leaderboard (6th position as at 11/16/2022) also used this approach."
      ],
      "metadata": {
        "id": "atyXgCqCyQgf"
      }
    },
    {
      "cell_type": "code",
      "source": [
        "#let's only retain the rows that do not have -1 as their span start and span end.\n",
        "coqa_train = coqa_train.loc[~coqa_train.span_start<0]\n",
        "coqa_val = coqa_val.loc[~coqa_val.span_start<0]"
      ],
      "metadata": {
        "id": "Upqobf_AA-uB"
      },
      "execution_count": null,
      "outputs": []
    },
    {
      "cell_type": "code",
      "source": [
        "#Verify we removed them.\n",
        "coqa_train.loc[coqa_train.span_start<0]"
      ],
      "metadata": {
        "colab": {
          "base_uri": "https://localhost:8080/",
          "height": 49
        },
        "id": "vq96V3P-A-w8",
        "outputId": "07990f79-9a13-4eae-ce0d-d5554d4639ee"
      },
      "execution_count": null,
      "outputs": [
        {
          "output_type": "execute_result",
          "data": {
            "text/plain": [
              "Empty DataFrame\n",
              "Columns: [context, question, convo_answer, span_start, span_end, span_text]\n",
              "Index: []"
            ],
            "text/html": [
              "\n",
              "  <div id=\"df-1e855ca7-b1c6-4129-9bf6-2692e79bef0a\">\n",
              "    <div class=\"colab-df-container\">\n",
              "      <div>\n",
              "<style scoped>\n",
              "    .dataframe tbody tr th:only-of-type {\n",
              "        vertical-align: middle;\n",
              "    }\n",
              "\n",
              "    .dataframe tbody tr th {\n",
              "        vertical-align: top;\n",
              "    }\n",
              "\n",
              "    .dataframe thead th {\n",
              "        text-align: right;\n",
              "    }\n",
              "</style>\n",
              "<table border=\"1\" class=\"dataframe\">\n",
              "  <thead>\n",
              "    <tr style=\"text-align: right;\">\n",
              "      <th></th>\n",
              "      <th>context</th>\n",
              "      <th>question</th>\n",
              "      <th>convo_answer</th>\n",
              "      <th>span_start</th>\n",
              "      <th>span_end</th>\n",
              "      <th>span_text</th>\n",
              "    </tr>\n",
              "  </thead>\n",
              "  <tbody>\n",
              "  </tbody>\n",
              "</table>\n",
              "</div>\n",
              "      <button class=\"colab-df-convert\" onclick=\"convertToInteractive('df-1e855ca7-b1c6-4129-9bf6-2692e79bef0a')\"\n",
              "              title=\"Convert this dataframe to an interactive table.\"\n",
              "              style=\"display:none;\">\n",
              "        \n",
              "  <svg xmlns=\"http://www.w3.org/2000/svg\" height=\"24px\"viewBox=\"0 0 24 24\"\n",
              "       width=\"24px\">\n",
              "    <path d=\"M0 0h24v24H0V0z\" fill=\"none\"/>\n",
              "    <path d=\"M18.56 5.44l.94 2.06.94-2.06 2.06-.94-2.06-.94-.94-2.06-.94 2.06-2.06.94zm-11 1L8.5 8.5l.94-2.06 2.06-.94-2.06-.94L8.5 2.5l-.94 2.06-2.06.94zm10 10l.94 2.06.94-2.06 2.06-.94-2.06-.94-.94-2.06-.94 2.06-2.06.94z\"/><path d=\"M17.41 7.96l-1.37-1.37c-.4-.4-.92-.59-1.43-.59-.52 0-1.04.2-1.43.59L10.3 9.45l-7.72 7.72c-.78.78-.78 2.05 0 2.83L4 21.41c.39.39.9.59 1.41.59.51 0 1.02-.2 1.41-.59l7.78-7.78 2.81-2.81c.8-.78.8-2.07 0-2.86zM5.41 20L4 18.59l7.72-7.72 1.47 1.35L5.41 20z\"/>\n",
              "  </svg>\n",
              "      </button>\n",
              "      \n",
              "  <style>\n",
              "    .colab-df-container {\n",
              "      display:flex;\n",
              "      flex-wrap:wrap;\n",
              "      gap: 12px;\n",
              "    }\n",
              "\n",
              "    .colab-df-convert {\n",
              "      background-color: #E8F0FE;\n",
              "      border: none;\n",
              "      border-radius: 50%;\n",
              "      cursor: pointer;\n",
              "      display: none;\n",
              "      fill: #1967D2;\n",
              "      height: 32px;\n",
              "      padding: 0 0 0 0;\n",
              "      width: 32px;\n",
              "    }\n",
              "\n",
              "    .colab-df-convert:hover {\n",
              "      background-color: #E2EBFA;\n",
              "      box-shadow: 0px 1px 2px rgba(60, 64, 67, 0.3), 0px 1px 3px 1px rgba(60, 64, 67, 0.15);\n",
              "      fill: #174EA6;\n",
              "    }\n",
              "\n",
              "    [theme=dark] .colab-df-convert {\n",
              "      background-color: #3B4455;\n",
              "      fill: #D2E3FC;\n",
              "    }\n",
              "\n",
              "    [theme=dark] .colab-df-convert:hover {\n",
              "      background-color: #434B5C;\n",
              "      box-shadow: 0px 1px 3px 1px rgba(0, 0, 0, 0.15);\n",
              "      filter: drop-shadow(0px 1px 2px rgba(0, 0, 0, 0.3));\n",
              "      fill: #FFFFFF;\n",
              "    }\n",
              "  </style>\n",
              "\n",
              "      <script>\n",
              "        const buttonEl =\n",
              "          document.querySelector('#df-1e855ca7-b1c6-4129-9bf6-2692e79bef0a button.colab-df-convert');\n",
              "        buttonEl.style.display =\n",
              "          google.colab.kernel.accessAllowed ? 'block' : 'none';\n",
              "\n",
              "        async function convertToInteractive(key) {\n",
              "          const element = document.querySelector('#df-1e855ca7-b1c6-4129-9bf6-2692e79bef0a');\n",
              "          const dataTable =\n",
              "            await google.colab.kernel.invokeFunction('convertToInteractive',\n",
              "                                                     [key], {});\n",
              "          if (!dataTable) return;\n",
              "\n",
              "          const docLinkHtml = 'Like what you see? Visit the ' +\n",
              "            '<a target=\"_blank\" href=https://colab.research.google.com/notebooks/data_table.ipynb>data table notebook</a>'\n",
              "            + ' to learn more about interactive tables.';\n",
              "          element.innerHTML = '';\n",
              "          dataTable['output_type'] = 'display_data';\n",
              "          await google.colab.output.renderOutput(dataTable, element);\n",
              "          const docLink = document.createElement('div');\n",
              "          docLink.innerHTML = docLinkHtml;\n",
              "          element.appendChild(docLink);\n",
              "        }\n",
              "      </script>\n",
              "    </div>\n",
              "  </div>\n",
              "  "
            ]
          },
          "metadata": {},
          "execution_count": 15
        }
      ]
    },
    {
      "cell_type": "code",
      "source": [
        "print(f\"The number of rows in the coqa train dataset is {len(coqa_train)}\")\n",
        "print(f\"The number of rows in the coqa val dataset is {len(coqa_val)}\")"
      ],
      "metadata": {
        "colab": {
          "base_uri": "https://localhost:8080/"
        },
        "id": "9Ra2bRlfA-zr",
        "outputId": "6caa7da0-d628-40ef-cb03-a7b7c273d48e"
      },
      "execution_count": null,
      "outputs": [
        {
          "output_type": "stream",
          "name": "stdout",
          "text": [
            "The number of rows in the coqa train dataset is 107286\n",
            "The number of rows in the coqa val dataset is 7918\n"
          ]
        }
      ]
    },
    {
      "cell_type": "code",
      "source": [
        "#Define function to extract the data into list for easy tokenization\n",
        "def df_to_list(df):\n",
        "  contexts = []\n",
        "  questions = []\n",
        "  convo_answer = []\n",
        "  answers = []\n",
        "  context_answer_span_list_of_list = []\n",
        "  \n",
        "\n",
        "\n",
        "  for idx, row in df.iterrows():\n",
        "    answer_dict = {}  \n",
        "    contexts.append(row[\"context\"])\n",
        "    context_list = (row[\"context\"]).split()\n",
        "    answer_span_list = (row[\"span_text\"]).split()\n",
        "    context_answer_span_list = context_list + answer_span_list\n",
        "    context_answer_span_list_of_list.append(context_answer_span_list)\n",
        "    questions.append(row[\"question\"])\n",
        "    convo_answer.append(row[\"convo_answer\"])\n",
        "    answer_dict['text'] = row[\"span_text\"]\n",
        "    answer_dict['answer_start'] = row[\"span_start\"]\n",
        "    answer_dict['answer_end'] = row[\"span_end\"]\n",
        "    answers.append(answer_dict)\n",
        "    \n",
        "  return contexts,questions,convo_answer,answers, context_answer_span_list_of_list"
      ],
      "metadata": {
        "id": "sbHE0TOwA-2O"
      },
      "execution_count": null,
      "outputs": []
    },
    {
      "cell_type": "code",
      "source": [
        "coqa_train_contexts, coqa_train_questions, coqa_train_convo_answer, coqa_train_answers, coqa_train_context_answer_span_list_of_list = df_to_list(coqa_train)\n",
        "coqa_val_contexts, coqa_val_questions, coqa_val_convo_answer, coqa_val_answers, coqa_val_context_answer_span_list_of_list = df_to_list(coqa_val)"
      ],
      "metadata": {
        "id": "S34h9HtfA-5R"
      },
      "execution_count": null,
      "outputs": []
    },
    {
      "cell_type": "markdown",
      "source": [
        "Let's take a look at a representative of the contexts, answer, span start and span end. We will look at the first example."
      ],
      "metadata": {
        "id": "pWl_bLpCFi7E"
      }
    },
    {
      "cell_type": "code",
      "source": [
        "\n",
        "coqa_train_answers[13]"
      ],
      "metadata": {
        "colab": {
          "base_uri": "https://localhost:8080/"
        },
        "id": "971GTxiEA-8V",
        "outputId": "ff439161-76ce-4fab-b9de-868fabf524df"
      },
      "execution_count": null,
      "outputs": [
        {
          "output_type": "execute_result",
          "data": {
            "text/plain": [
              "{'text': 'Photocopies for private study of pages from books published between 1801 and 1990 can be requested in person or by mail. ',\n",
              " 'answer_start': 643,\n",
              " 'answer_end': 764}"
            ]
          },
          "metadata": {},
          "execution_count": 19
        }
      ]
    },
    {
      "cell_type": "code",
      "source": [
        "coqa_val_answers[0]"
      ],
      "metadata": {
        "colab": {
          "base_uri": "https://localhost:8080/"
        },
        "id": "dNGKN1eRA-_I",
        "outputId": "88cd70d6-b2ff-4a12-c014-01f5a6a4d253"
      },
      "execution_count": null,
      "outputs": [
        {
          "output_type": "execute_result",
          "data": {
            "text/plain": [
              "{'text': 'a little white kitten named Cotton',\n",
              " 'answer_start': 59,\n",
              " 'answer_end': 93}"
            ]
          },
          "metadata": {},
          "execution_count": 20
        }
      ]
    },
    {
      "cell_type": "code",
      "source": [
        "#Let us create a function to check the maximum length for our combined questions and answers for both train and val dataset.\n",
        "\n",
        "def check_max_list_len(d_list):\n",
        "  context_answer_max_len = 0\n",
        "\n",
        "  for mylist in d_list:\n",
        "    d_length = len(mylist)\n",
        "    if d_length > context_answer_max_len:\n",
        "      context_answer_max_len = d_length\n",
        "    else:\n",
        "      context_answer_max_len = context_answer_max_len\n",
        "  return (context_answer_max_len)"
      ],
      "metadata": {
        "id": "USPFUIlPFoL2"
      },
      "execution_count": null,
      "outputs": []
    },
    {
      "cell_type": "code",
      "source": [
        "max_length_train = check_max_list_len(coqa_train_context_answer_span_list_of_list)\n",
        "max_length_val = check_max_list_len(coqa_val_context_answer_span_list_of_list)\n",
        "\n",
        "print(f'The max length for questions and answers combined in train set is {max_length_train}')\n",
        "print(f'The max length for questions and answers combined in val set is {max_length_val}')"
      ],
      "metadata": {
        "colab": {
          "base_uri": "https://localhost:8080/"
        },
        "id": "BiU-7qEqFoPP",
        "outputId": "bb0bb36b-ef15-420b-a7a1-4346a25f241f"
      },
      "execution_count": null,
      "outputs": [
        {
          "output_type": "stream",
          "name": "stdout",
          "text": [
            "The max length for questions and answers combined in train set is 1090\n",
            "The max length for questions and answers combined in val set is 831\n"
          ]
        }
      ]
    },
    {
      "cell_type": "markdown",
      "source": [
        "Since BERT can be off in the answer due to the special tokens (CLS and SEP), we would create a function to cater for this offset."
      ],
      "metadata": {
        "id": "EiL7FC9LGEg1"
      }
    },
    {
      "cell_type": "code",
      "source": [
        "def adjust_bert_idx_offset(answers, contexts):\n",
        "    # loop through each answer-context pair\n",
        "    for answer, context in zip(answers, contexts):\n",
        "        # gold_text refers to the answer we are expecting to find in context\n",
        "        gold_text = answer['text']\n",
        "        # we already know the start index\n",
        "        start_idx = answer['answer_start']\n",
        "        \n",
        "        # and ideally this would be the end index...\n",
        "        end_idx = answer['answer_end']\n",
        "        \n",
        "\n",
        "        # ...however, sometimes squad answers are off by a character or two\n",
        "        if context[start_idx:end_idx] == gold_text:\n",
        "            # if the answer is not off :)\n",
        "            answer['answer_end'] = end_idx\n",
        "        else:\n",
        "            for n in [1, 2]:\n",
        "                if context[start_idx-n:end_idx-n] == gold_text:\n",
        "                    # this means the answer is off by 'n' tokens\n",
        "                    answer['answer_start'] = start_idx - n\n",
        "                    answer['answer_end'] = end_idx - n"
      ],
      "metadata": {
        "id": "k4Jj3wUhFoSD"
      },
      "execution_count": null,
      "outputs": []
    },
    {
      "cell_type": "code",
      "source": [
        "adjust_bert_idx_offset(coqa_train_answers, coqa_train_contexts)\n",
        "adjust_bert_idx_offset(coqa_val_answers, coqa_val_contexts)"
      ],
      "metadata": {
        "id": "CIODasWhFoU_"
      },
      "execution_count": null,
      "outputs": []
    },
    {
      "cell_type": "markdown",
      "source": [
        "## Encode Coqa training and val data"
      ],
      "metadata": {
        "id": "CORwTcaJGqLb"
      }
    },
    {
      "cell_type": "markdown",
      "source": [
        "We will now go ahead to encode our coqa training data set and the validation dataset. But first, download the DistilBertTokenizerFast tokenizer. This is a light weight tokenizer."
      ],
      "metadata": {
        "id": "ELuqMWWkGsd7"
      }
    },
    {
      "cell_type": "code",
      "source": [
        "\n",
        "tokenizer = DistilBertTokenizerFast.from_pretrained('distilbert-base-uncased')"
      ],
      "metadata": {
        "id": "AsZm_UACFoXr",
        "colab": {
          "base_uri": "https://localhost:8080/",
          "height": 145,
          "referenced_widgets": [
            "0ead31b812cd4ed0af1d4ba184d30e0a",
            "e18dc180a88d450abbbbe88fca7eed8d",
            "f076b307db6a4c61b5ade0c7ecdeca6c",
            "92a49f0acc8e427c897a2a99bfc67cc7",
            "f444e625ad7342e6bcb4dcac8f2ed51f",
            "abd2eaefe444484083ee5152340facf5",
            "f10462ba678744478d436cbd1b1ff808",
            "7096398976754fb29257aee1ff07f352",
            "f4f835377a554896903ed4096a6ebf4d",
            "8d25f76cb7c344ac8fcdb118c453974b",
            "119a42ac0e2548b59f0b4ac6b2b84c2c",
            "621bfd8ae37e41aba2a36d0d50ec23c3",
            "c8983ea6eb5e42e3bd4ae4103f57f4d4",
            "e6cb2dcf78ef44248279982d3069137f",
            "4edd6e9b3990425597a7d7e428145207",
            "fa391dd5b68d4ba7b9a0587850a633f8",
            "64a81e4c98a2484e9d9bde64385d13e4",
            "cabe3a4908b34bdb813a28a8b7c08d65",
            "5ab7709169134be6a1affee9acb52880",
            "97019e78eaa1482caf8adc1d8df3e83d",
            "3316f5f37b444e7e8b757bb14036efa9",
            "f9882cf73c514639b21ac1d0edf3e70e",
            "046758dc42de453697b396fefe6f361e",
            "ce3f13754ff64fbea8965273df7dcb68",
            "d5244f2369fe41f0901bbd13c6c91a07",
            "865ffeefdc0b4b24a7bc52fbb1f43c04",
            "8eeb736d8a6a4d53acb3921c320ce5ce",
            "de257ae13cc84c75863af1cf686e4974",
            "1f21d642a5fe4170a093f93bc2ffe378",
            "da0eea80532d4d8fb432cdc1ca6c0088",
            "8e7f986c49ca4ddfbf8586b16ca54933",
            "ff94d44b52ba4401bb8dde377573520c",
            "2b568b9e5f9c46c4b2860f882dd063fb",
            "2b7e77692dce4d50af9f2cb8d0d713d4",
            "5e3738af821e40848c8f7b360dfd7695",
            "1f63b1e152b34969b27353dc4ca38c86",
            "091c80fbb7ca447a8700c2e7952ca40d",
            "176f209c073d4563a6c8742bbf238c96",
            "1ffcfbb5547d4ad9a9617777af12be7b",
            "a519b29f6fdf4f4ca5b6f808ec0791c9",
            "f888922be81149f7aae821bea1d10815",
            "523649ae633c46f8b08145ffb565a9c9",
            "bfb5d205bf2d46b3aa2863bb17c5a48d",
            "528baca6765b46169d014efaf3b7cbea"
          ]
        },
        "outputId": "eeb742aa-e529-42ee-c22b-40f1ae93a544"
      },
      "execution_count": null,
      "outputs": [
        {
          "output_type": "display_data",
          "data": {
            "text/plain": [
              "Downloading:   0%|          | 0.00/28.0 [00:00<?, ?B/s]"
            ],
            "application/vnd.jupyter.widget-view+json": {
              "version_major": 2,
              "version_minor": 0,
              "model_id": "0ead31b812cd4ed0af1d4ba184d30e0a"
            }
          },
          "metadata": {}
        },
        {
          "output_type": "display_data",
          "data": {
            "text/plain": [
              "Downloading:   0%|          | 0.00/232k [00:00<?, ?B/s]"
            ],
            "application/vnd.jupyter.widget-view+json": {
              "version_major": 2,
              "version_minor": 0,
              "model_id": "621bfd8ae37e41aba2a36d0d50ec23c3"
            }
          },
          "metadata": {}
        },
        {
          "output_type": "display_data",
          "data": {
            "text/plain": [
              "Downloading:   0%|          | 0.00/466k [00:00<?, ?B/s]"
            ],
            "application/vnd.jupyter.widget-view+json": {
              "version_major": 2,
              "version_minor": 0,
              "model_id": "046758dc42de453697b396fefe6f361e"
            }
          },
          "metadata": {}
        },
        {
          "output_type": "display_data",
          "data": {
            "text/plain": [
              "Downloading:   0%|          | 0.00/483 [00:00<?, ?B/s]"
            ],
            "application/vnd.jupyter.widget-view+json": {
              "version_major": 2,
              "version_minor": 0,
              "model_id": "2b7e77692dce4d50af9f2cb8d0d713d4"
            }
          },
          "metadata": {}
        }
      ]
    },
    {
      "cell_type": "code",
      "source": [
        "coqa_train_encodings = tokenizer(coqa_train_contexts, coqa_train_questions, truncation=True, padding=True)\n",
        "coqa_val_encodings = tokenizer(coqa_val_contexts, coqa_val_questions, truncation=True, padding=True)"
      ],
      "metadata": {
        "id": "Vdhlgm3kFoan"
      },
      "execution_count": null,
      "outputs": []
    },
    {
      "cell_type": "code",
      "source": [
        "coqa_val_encodings.keys()"
      ],
      "metadata": {
        "colab": {
          "base_uri": "https://localhost:8080/"
        },
        "id": "V73LqHK1whhY",
        "outputId": "99753771-6f98-43e1-8a38-cc7388539a2b"
      },
      "execution_count": null,
      "outputs": [
        {
          "output_type": "execute_result",
          "data": {
            "text/plain": [
              "dict_keys(['input_ids', 'attention_mask'])"
            ]
          },
          "metadata": {},
          "execution_count": 27
        }
      ]
    },
    {
      "cell_type": "code",
      "source": [
        "#Define a function to update the token start and end position in our encodings.\n",
        "def add_token_positions(encodings, answers):\n",
        "    # initialize lists to contain the token indices of answer start/end\n",
        "    start_positions = []\n",
        "    end_positions = []\n",
        "    for i in range(len(answers)):\n",
        "        # print(i)\n",
        "        # append start/end token position using char_to_token method\n",
        "        start_positions.append(encodings.char_to_token(i, answers[i]['answer_start']))\n",
        "                 \n",
        "                  \n",
        "      \n",
        "        end_positions.append(encodings.char_to_token(i, answers[i]['answer_end']))\n",
        "        \n",
        "      \n",
        "\n",
        "        # if start position is None, the answer passage has been truncated\n",
        "        if start_positions[-1] is None:\n",
        "            start_positions[-1] = tokenizer.model_max_length\n",
        "        # end position cannot be found, char_to_token found space, so shift one token forward\n",
        "        go_back = 1\n",
        "        while end_positions[-1] is None:\n",
        "            end_positions[-1] = encodings.char_to_token(i, answers[i]['answer_end']-go_back)\n",
        "            go_back +=1\n",
        "    # update our encodings object with the new token-based start/end positions\n",
        "    encodings.update({'start_positions': start_positions, 'end_positions': end_positions})\n",
        "\n"
      ],
      "metadata": {
        "id": "cv7MyXEbFogg"
      },
      "execution_count": null,
      "outputs": []
    },
    {
      "cell_type": "code",
      "source": [
        "# apply function to our data\n",
        "add_token_positions(coqa_train_encodings, coqa_train_answers)\n",
        "add_token_positions(coqa_val_encodings, coqa_val_answers)"
      ],
      "metadata": {
        "id": "uqPyCBP4FokW"
      },
      "execution_count": null,
      "outputs": []
    },
    {
      "cell_type": "markdown",
      "source": [
        "##Evaluation Function"
      ],
      "metadata": {
        "id": "w5waVgSmZMgc"
      }
    },
    {
      "cell_type": "code",
      "source": [
        "#define a function to evaluate a model on a validation dataset\n",
        "\n",
        "def evaluate_on_model(model, val_dataset):\n",
        "  \"\"\"This function would take in the model and the validation dataset as input.\n",
        "  Output - acc, f1_score, true span start position, true span end position, \n",
        "           predicted span start position, predicted span end position, inputIDs\n",
        "  \"\"\"\n",
        "\n",
        "  model.to(device)\n",
        "  # switch model out of training mode\n",
        "  model.eval()\n",
        "\n",
        "  #val_sampler = SequentialSampler(val_dataset)\n",
        "  val_loader = DataLoader(val_dataset, batch_size=16)\n",
        "\n",
        "  acc = []\n",
        "  f1_score = []  \n",
        "  my_start_true = []\n",
        "  my_end_true = []\n",
        "  my_start_pred = []  \n",
        "  my_end_pred = []\n",
        "  my_inputIDs = []\n",
        "\n",
        "  # initialize loop for progress bar\n",
        "  loop = tqdm(val_loader)\n",
        "  # loop through batches\n",
        "  for batch in loop:\n",
        "      # we don't need to calculate gradients as we're not training\n",
        "      with torch.no_grad():\n",
        "          # pull batched items from loader\n",
        "          input_ids = batch['input_ids'].to(device)\n",
        "          my_inputIDs.append(input_ids)\n",
        "          attention_mask = batch['attention_mask'].to(device)\n",
        "          start_true = batch['start_positions'].to(device)\n",
        "          my_start_true.append((start_true))\n",
        "          end_true = batch['end_positions'].to(device)\n",
        "          my_end_true.append((end_true))\n",
        "          answer_true_logits = torch.cat((start_true, end_true)).to(device)\n",
        "          \n",
        "          # make predictions\n",
        "          outputs = model(input_ids, attention_mask=attention_mask)\n",
        "          # pull preds out\n",
        "          start_pred = torch.argmax(outputs['start_logits'], dim=1)\n",
        "          my_start_pred.append((start_pred))\n",
        "          end_pred = torch.argmax(outputs['end_logits'], dim=1)\n",
        "          my_end_pred.append((end_pred))\n",
        "          answer_pred_logits = torch.cat((start_pred, end_pred))\n",
        "          \n",
        "          # calculate accuracy for both and append to accuracy list\n",
        "          acc.append(((start_pred == start_true).sum()/len(start_pred)).item())\n",
        "          acc.append(((end_pred == end_true).sum()/len(end_pred)).item())\n",
        "\n",
        "          # if either the prediction or the truth is no-answer then f1 = 1 if they agree, 0 otherwise\n",
        "          if len(answer_pred_logits) == 0 or len(answer_true_logits) == 0:\n",
        "            f1_score.append((float(answer_pred_logits == answer_true_logits)).item())\n",
        "\n",
        "          #Grab tokens common to both prediction and true logits.\n",
        "          common_tokens = [num for num in answer_pred_logits if num in answer_true_logits]         \n",
        "\n",
        "          prec = len(common_tokens) / len(answer_pred_logits)\n",
        "                    \n",
        "          rec = (len(common_tokens) / len(answer_true_logits))\n",
        "          \n",
        "          try:\n",
        "            f1_score.append(2 * (prec * rec) / (prec + rec))\n",
        "          except ZeroDivisionError:\n",
        "            f1_score.append(float(0))\n",
        "\n",
        "  # calculate average accuracy in total and f1 score.\n",
        "  acc = sum(acc)/len(acc)\n",
        "  f1_score = sum(f1_score)/len(f1_score)\n",
        "  print(\" \")\n",
        "  print(f\"Exact Match accuracy is: {acc}\")\n",
        "  print(f\"F1 score is: {f1_score}\")\n",
        "  return acc, f1_score, my_start_true, my_end_true, my_start_pred, my_end_pred, my_inputIDs"
      ],
      "metadata": {
        "id": "ZTUYqKC5ZILE"
      },
      "execution_count": null,
      "outputs": []
    },
    {
      "cell_type": "markdown",
      "source": [
        "##Create Coqa train and Val dataset using Pytorch Dataset class"
      ],
      "metadata": {
        "id": "eglKoEaObOiq"
      }
    },
    {
      "cell_type": "code",
      "source": [
        "class CoqaDataset(torch.utils.data.Dataset):\n",
        "    def __init__(self, encodings):\n",
        "\n",
        "      \"\"\"This helps with data loading\"\"\"\n",
        "      self.encodings = encodings\n",
        "\n",
        "    def __getitem__(self, idx):\n",
        "      \"\"\"This will allow for indexing so we can call dataset[0] for example\"\"\"\n",
        "      return {key: torch.tensor(val[idx]) for key, val in self.encodings.items()}\n",
        "\n",
        "    def __len__(self):\n",
        "      \"\"\"This will allow us to call length of of our sample\"\"\"\n",
        "      return len(self.encodings.input_ids)\n",
        "\n",
        "coqa_train_dataset = CoqaDataset(coqa_train_encodings)\n",
        "coqa_val_dataset = CoqaDataset(coqa_val_encodings)"
      ],
      "metadata": {
        "id": "TBYWBL3XbNis"
      },
      "execution_count": null,
      "outputs": []
    },
    {
      "cell_type": "code",
      "source": [
        "#Define function to plot training loss\n",
        "def plot_loss(num_epochs, model_loss):\n",
        "  x = [x for x in range(1, num_epochs+1)]\n",
        "  y = [y for y in model_loss]\n",
        "  plt.plot(x, y, linewidth = 3) \n",
        "  plt.xlabel('Epochs')\n",
        "  plt.ylabel('Loss')\n",
        "  plt.title('Training Loss')\n",
        "  plt.show()"
      ],
      "metadata": {
        "id": "B4Om3CWOZIhy"
      },
      "execution_count": null,
      "outputs": []
    },
    {
      "cell_type": "markdown",
      "source": [
        "# **Model 1 - Baseline** \n"
      ],
      "metadata": {
        "id": "KTh63OO9ZQCi"
      }
    },
    {
      "cell_type": "markdown",
      "source": [
        "### Baseline Evaluation"
      ],
      "metadata": {
        "id": "Nie-Q7UqZStX"
      }
    },
    {
      "cell_type": "markdown",
      "source": [
        "The baseline model is a distilbert model with a question and answering head downloaded directly from the hugging face hub and evaluated on the coqa val dataset without undergoing any fine-tuning."
      ],
      "metadata": {
        "id": "5QFuIh3x75Y2"
      }
    },
    {
      "cell_type": "code",
      "source": [
        "#Evaluate model baseline. No fine tuning needed.\n",
        "model_noFineTuning = DistilBertForQuestionAnswering.from_pretrained(\"distilbert-base-uncased\")\n",
        "\n",
        "model = model_noFineTuning\n",
        "val_dataset = coqa_val_dataset\n",
        "model_noFineTuning_accuracy, model_noFineTuning_f1_score, model_noFineTuning_start_true_coqa, model_noFineTuning_end_true_coqa, model_noFineTuning_start_pred_coqa, model_noFineTuning_end_pred_coqa, model_noFineTuning_inputIDs = evaluate_on_model(model, val_dataset)\n",
        "\n"
      ],
      "metadata": {
        "id": "oLWA2p8HZINs",
        "colab": {
          "base_uri": "https://localhost:8080/",
          "height": 225,
          "referenced_widgets": [
            "62af977e44434f8c9f9269e8f22aa306",
            "d50f2713d50b4ef48276323fa25d73e5",
            "7fe40be62367430698efb0584b5be535",
            "828d37a790c44691b046692a21aed605",
            "df5a3d89f22d461b997ab01f48adb0b0",
            "696d0b6e82654141af336d87b8dce157",
            "f631be51b2d34ee29a0214758ca597fe",
            "f00d81baa7fa4301940d143bf1f3755f",
            "8173b907fb2b4940bf44d40af484af59",
            "a9a72400bc064109873b4745c8cf4207",
            "88ffdc38ec0e440eb2bfe3fad582d804"
          ]
        },
        "outputId": "3e89682c-cf7f-4415-9919-28cd663704e3"
      },
      "execution_count": null,
      "outputs": [
        {
          "output_type": "display_data",
          "data": {
            "text/plain": [
              "Downloading:   0%|          | 0.00/268M [00:00<?, ?B/s]"
            ],
            "application/vnd.jupyter.widget-view+json": {
              "version_major": 2,
              "version_minor": 0,
              "model_id": "62af977e44434f8c9f9269e8f22aa306"
            }
          },
          "metadata": {}
        },
        {
          "output_type": "stream",
          "name": "stderr",
          "text": [
            "Some weights of the model checkpoint at distilbert-base-uncased were not used when initializing DistilBertForQuestionAnswering: ['vocab_projector.weight', 'vocab_layer_norm.weight', 'vocab_transform.bias', 'vocab_transform.weight', 'vocab_projector.bias', 'vocab_layer_norm.bias']\n",
            "- This IS expected if you are initializing DistilBertForQuestionAnswering from the checkpoint of a model trained on another task or with another architecture (e.g. initializing a BertForSequenceClassification model from a BertForPreTraining model).\n",
            "- This IS NOT expected if you are initializing DistilBertForQuestionAnswering from the checkpoint of a model that you expect to be exactly identical (initializing a BertForSequenceClassification model from a BertForSequenceClassification model).\n",
            "Some weights of DistilBertForQuestionAnswering were not initialized from the model checkpoint at distilbert-base-uncased and are newly initialized: ['qa_outputs.weight', 'qa_outputs.bias']\n",
            "You should probably TRAIN this model on a down-stream task to be able to use it for predictions and inference.\n",
            "100%|██████████| 495/495 [00:33<00:00, 14.76it/s]"
          ]
        },
        {
          "output_type": "stream",
          "name": "stdout",
          "text": [
            " \n",
            "Exact Match accuracy is: 0.00523989898989899\n",
            "F1 score is: 0.08920454545454545\n"
          ]
        },
        {
          "output_type": "stream",
          "name": "stderr",
          "text": [
            "\n"
          ]
        }
      ]
    },
    {
      "cell_type": "markdown",
      "source": [
        "# **Fine Tune model on coqa training dataset**\n"
      ],
      "metadata": {
        "id": "XXGIYPIYINE0"
      }
    },
    {
      "cell_type": "markdown",
      "source": [
        "Download DistilBert model with a question and answering head from hugging face repo"
      ],
      "metadata": {
        "id": "JqXvL0g9SVtc"
      }
    },
    {
      "cell_type": "code",
      "source": [
        "#save the pretrained model\n",
        "model_fineTune_on_coqa = DistilBertForQuestionAnswering.from_pretrained(\"distilbert-base-uncased\")\n",
        "\n"
      ],
      "metadata": {
        "colab": {
          "base_uri": "https://localhost:8080/"
        },
        "id": "vomgbjxkA_FV",
        "outputId": "88a69f6b-30b8-48a0-bb75-a3adc2a48e0e"
      },
      "execution_count": null,
      "outputs": [
        {
          "output_type": "stream",
          "name": "stderr",
          "text": [
            "Some weights of the model checkpoint at distilbert-base-uncased were not used when initializing DistilBertForQuestionAnswering: ['vocab_projector.weight', 'vocab_layer_norm.weight', 'vocab_transform.bias', 'vocab_transform.weight', 'vocab_projector.bias', 'vocab_layer_norm.bias']\n",
            "- This IS expected if you are initializing DistilBertForQuestionAnswering from the checkpoint of a model trained on another task or with another architecture (e.g. initializing a BertForSequenceClassification model from a BertForPreTraining model).\n",
            "- This IS NOT expected if you are initializing DistilBertForQuestionAnswering from the checkpoint of a model that you expect to be exactly identical (initializing a BertForSequenceClassification model from a BertForSequenceClassification model).\n",
            "Some weights of DistilBertForQuestionAnswering were not initialized from the model checkpoint at distilbert-base-uncased and are newly initialized: ['qa_outputs.weight', 'qa_outputs.bias']\n",
            "You should probably TRAIN this model on a down-stream task to be able to use it for predictions and inference.\n"
          ]
        }
      ]
    },
    {
      "cell_type": "markdown",
      "source": [
        "Define a function that would be used for fine-tuning the models. This function has some conditional statements that would be used in freezing some of the model layers during fine-tuning."
      ],
      "metadata": {
        "id": "s39CNa6w9zjj"
      }
    },
    {
      "cell_type": "code",
      "source": [
        "\n",
        "\n",
        "# setup GPU/CPU\n",
        "# device = torch.device('cuda') if torch.cuda.is_available() else torch.device('cpu')\n",
        "# move model over to detected device\n",
        "\n",
        "def train_model(model, train_dataset, batch_size, shuffle, learning_rate, num_epochs):\n",
        "  model.to(device)\n",
        "  # activate training mode of model\n",
        "\n",
        "  #freezing some layers\n",
        "  for name, param in model.named_parameters():\n",
        "     if name.startswith(\"distilbert.transformer.layer.0.\"): \n",
        "        param.requires_grad = False\n",
        "\n",
        "     if name.startswith(\"distilbert.transformer.layer.1.\"): \n",
        "        param.requires_grad = False\n",
        "\n",
        "     if name.startswith(\"distilbert.transformer.layer.2.\"): \n",
        "        param.requires_grad = False\n",
        "\n",
        "     if name.startswith(\"distilbert.transformer.layer.3.\"):\n",
        "        param.requires_grad = False\n",
        "\n",
        "  #    if name.startswith(\"distilbert.transformer.layer.4.\"):\n",
        "  #       param.requires_grad = False\n",
        "\n",
        "      \n",
        "  model.train()\n",
        "  # initialize adam optimizer with weight decay (reduces chance of overfitting)\n",
        "  optim = AdamW(model.parameters(), lr=learning_rate)\n",
        "\n",
        "  # initialize data loader for training data\n",
        "  train_loader = DataLoader(train_dataset, batch_size=batch_size, shuffle=shuffle)\n",
        "  epoch_loss = []\n",
        "\n",
        "  for epoch in range(num_epochs):\n",
        "      \n",
        "      # set model to train mode\n",
        "      model.train()\n",
        "      # setup loop (we use tqdm for the progress bar)\n",
        "      loop = tqdm(train_loader, leave=True)\n",
        "      batch_loss = []\n",
        "      for batch in loop:\n",
        "          # initialize calculated gradients (from prev step)\n",
        "          optim.zero_grad()\n",
        "          \n",
        "          # pull all the tensor batches required for training\n",
        "          input_ids = batch['input_ids'].to(device)\n",
        "          attention_mask = batch['attention_mask'].to(device)\n",
        "          start_positions = batch['start_positions'].to(device)\n",
        "          end_positions = batch['end_positions'].to(device)\n",
        "          # train model on batch and return outputs (incl. loss)\n",
        "          outputs = model(input_ids, attention_mask=attention_mask,\n",
        "                          start_positions=start_positions,\n",
        "                          end_positions=end_positions)\n",
        "          # extract loss\n",
        "          loss = outputs[0]\n",
        "          # calculate loss for every parameter that needs grad update\n",
        "          loss.backward()\n",
        "          # update parameters\n",
        "          optim.step()\n",
        "          # print relevant info to progress bar\n",
        "          loop.set_description(f'Epoch {epoch+1}')\n",
        "          loop.set_postfix(loss=loss.item())      \n",
        "      epoch_loss.append((loss).item())      \n",
        "  return model, epoch_loss\n",
        "\n",
        "\n",
        "  "
      ],
      "metadata": {
        "id": "sdbvF6m2Sgg9"
      },
      "execution_count": null,
      "outputs": []
    },
    {
      "cell_type": "markdown",
      "source": [
        "# **Model 2** \n",
        "\n",
        "\n"
      ],
      "metadata": {
        "id": "d3LG1MsQyngw"
      }
    },
    {
      "cell_type": "code",
      "source": [
        "#Here I will freeze layers 0, 1, 2, 3 of distilBERT.\n",
        "#MODEL 2\n",
        "model = model_fineTune_on_coqa\n",
        "train_dataset = coqa_train_dataset\n",
        "val_dataset = coqa_val_dataset\n",
        "batch_size = 16\n",
        "shuffle = True\n",
        "learning_rate = 5e-5\n",
        "num_epochs = 1\n",
        "\n",
        "model2_fineTune_on_coqa, model2_loss = train_model(model, train_dataset, batch_size, shuffle, learning_rate, num_epochs)\n",
        "\n",
        "x = model2_loss\n",
        "\n",
        "model = model2_fineTune_on_coqa\n",
        "\n",
        "#Evaluate model on coqa validation dataset\n",
        "\n",
        "model2_fineTuned_on_coqa_accuracy, model2_fineTuned_on_coqa_f1_score, model2_start_true_coqa, model2_end_true_coqa, model2_start_pred_coqa, model2_end_pred_coqa, model2_inputIDs = evaluate_on_model(model, val_dataset)\n"
      ],
      "metadata": {
        "colab": {
          "base_uri": "https://localhost:8080/"
        },
        "id": "oK7aDIxavq2K",
        "outputId": "bd297f4a-419c-4c20-cdf6-afefe28cf0db"
      },
      "execution_count": null,
      "outputs": [
        {
          "output_type": "stream",
          "name": "stderr",
          "text": [
            "/usr/local/lib/python3.7/dist-packages/transformers/optimization.py:310: FutureWarning: This implementation of AdamW is deprecated and will be removed in a future version. Use the PyTorch implementation torch.optim.AdamW instead, or set `no_deprecation_warning=True` to disable this warning\n",
            "  FutureWarning,\n",
            "Epoch 1: 100%|██████████| 6706/6706 [17:49<00:00,  6.27it/s, loss=4.1]\n",
            "100%|██████████| 495/495 [00:31<00:00, 15.93it/s]"
          ]
        },
        {
          "output_type": "stream",
          "name": "stdout",
          "text": [
            " \n",
            "Exact Match accuracy is: 0.2865440115633637\n",
            "F1 score is: 0.47845418470418466\n"
          ]
        },
        {
          "output_type": "stream",
          "name": "stderr",
          "text": [
            "\n"
          ]
        }
      ]
    },
    {
      "cell_type": "markdown",
      "source": [
        "# **Model 3** "
      ],
      "metadata": {
        "id": "a-w4f237zRkS"
      }
    },
    {
      "cell_type": "code",
      "source": [
        "\n",
        "#Here, I will freeze layers 0, 1, 2, 3, 4 of BERT.\n",
        "model = model_fineTune_on_coqa\n",
        "train_dataset = coqa_train_dataset\n",
        "val_dataset = coqa_val_dataset\n",
        "batch_size = 16\n",
        "shuffle = True\n",
        "learning_rate = 5e-5\n",
        "num_epochs = 1\n",
        "\n",
        "\n",
        "model3_fineTune_on_coqa, model3_loss = train_model(model, train_dataset, batch_size, shuffle, learning_rate, num_epochs)\n",
        "\n",
        "x = model3_loss\n",
        "\n",
        "model = model3_fineTune_on_coqa\n",
        "\n",
        "#Evaluate model on coqa validation dataset\n",
        "model3_fineTuned_on_coqa_accuracy, model3_fineTuned_on_coqa_f1_score, model3_start_true_coqa, model3_end_true_coqa, model3_start_pred_coqa, model3_end_pred_coqa, model3_inputIDs = evaluate_on_model(model, val_dataset)\n"
      ],
      "metadata": {
        "colab": {
          "base_uri": "https://localhost:8080/"
        },
        "id": "VsSUl8moJobp",
        "outputId": "3688b98a-363f-4b00-9eb0-a2e76bf64cae"
      },
      "execution_count": null,
      "outputs": [
        {
          "output_type": "stream",
          "name": "stderr",
          "text": [
            "/usr/local/lib/python3.7/dist-packages/transformers/optimization.py:310: FutureWarning: This implementation of AdamW is deprecated and will be removed in a future version. Use the PyTorch implementation torch.optim.AdamW instead, or set `no_deprecation_warning=True` to disable this warning\n",
            "  FutureWarning,\n",
            "Epoch 1: 100%|██████████| 6706/6706 [16:50<00:00,  6.63it/s, loss=5.48]\n",
            "100%|██████████| 495/495 [00:31<00:00, 15.91it/s]"
          ]
        },
        {
          "output_type": "stream",
          "name": "stdout",
          "text": [
            " \n",
            "Exact Match accuracy is: 0.2194264069350079\n",
            "F1 score is: 0.42415223665223667\n"
          ]
        },
        {
          "output_type": "stream",
          "name": "stderr",
          "text": [
            "\n"
          ]
        }
      ]
    },
    {
      "cell_type": "markdown",
      "source": [
        "# **Model 4** "
      ],
      "metadata": {
        "id": "44SnO_ljzLRp"
      }
    },
    {
      "cell_type": "code",
      "source": [
        "#No layer of BERT would be frozen.\n",
        "model = model_fineTune_on_coqa\n",
        "train_dataset = coqa_train_dataset\n",
        "val_dataset = coqa_val_dataset\n",
        "batch_size = 16\n",
        "shuffle = True\n",
        "learning_rate = 5e-5\n",
        "num_epochs = 1\n",
        "\n",
        "\n",
        "model4_fineTune_on_coqa, model4_loss = train_model(model, train_dataset, batch_size, shuffle, learning_rate, num_epochs)\n",
        "\n",
        "x = model4_loss\n",
        "\n",
        "model = model4_fineTune_on_coqa\n",
        "\n",
        "#Evaluate model on coqa validation dataset\n",
        "model4_fineTuned_on_coqa_accuracy, model4_fineTuned_on_coqa_f1_score, model4_start_true_coqa, model4_end_true_coqa, model4_start_pred_coqa, model4_end_pred_coqa, model4_inputIDs = evaluate_on_model(model, val_dataset)"
      ],
      "metadata": {
        "id": "zIsa97ryINrs",
        "colab": {
          "base_uri": "https://localhost:8080/"
        },
        "outputId": "f70982f6-6601-435c-b63a-323f91804bb7"
      },
      "execution_count": null,
      "outputs": [
        {
          "output_type": "stream",
          "name": "stderr",
          "text": [
            "/usr/local/lib/python3.7/dist-packages/transformers/optimization.py:310: FutureWarning: This implementation of AdamW is deprecated and will be removed in a future version. Use the PyTorch implementation torch.optim.AdamW instead, or set `no_deprecation_warning=True` to disable this warning\n",
            "  FutureWarning,\n",
            "Epoch 1: 100%|██████████| 6706/6706 [21:31<00:00,  5.19it/s, loss=3.48]\n",
            "100%|██████████| 495/495 [00:30<00:00, 16.01it/s]"
          ]
        },
        {
          "output_type": "stream",
          "name": "stdout",
          "text": [
            " \n",
            "Exact Match accuracy is: 0.3161435787123863\n",
            "F1 score is: 0.47259199134199137\n"
          ]
        },
        {
          "output_type": "stream",
          "name": "stderr",
          "text": [
            "\n"
          ]
        }
      ]
    },
    {
      "cell_type": "code",
      "source": [
        "#Save the model\n",
        "coqa_model_path = '/content/drive/MyDrive/w266_NLP_project/savedModel/distilbert-custom'\n",
        "model4_fineTune_on_coqa.save_pretrained(coqa_model_path)\n"
      ],
      "metadata": {
        "id": "jbdk0O6vdwIN"
      },
      "execution_count": null,
      "outputs": []
    },
    {
      "cell_type": "code",
      "source": [
        "#load the model\n",
        "model = model4_fineTune_on_coqa.from_pretrained(coqa_model_path)"
      ],
      "metadata": {
        "id": "rxwsrA0ygirT"
      },
      "execution_count": null,
      "outputs": []
    },
    {
      "cell_type": "markdown",
      "source": [
        "# **Model 5** "
      ],
      "metadata": {
        "id": "vmWcpelH8uDd"
      }
    },
    {
      "cell_type": "code",
      "source": [
        "#No layer of BERT would be frozen.\n",
        "model = model_fineTune_on_coqa\n",
        "train_dataset = coqa_train_dataset\n",
        "val_dataset = coqa_val_dataset\n",
        "batch_size = 16\n",
        "shuffle = True\n",
        "learning_rate = 5e-5\n",
        "num_epochs = 3\n",
        "\n",
        "\n",
        "model5_fineTune_on_coqa, model5_loss = train_model(model, train_dataset, batch_size, shuffle, learning_rate, num_epochs)\n",
        "\n",
        "x = num_epochs\n",
        "y = model5_loss\n",
        "plot_loss(x, y)\n",
        "\n",
        "model = model5_fineTune_on_coqa\n",
        "\n",
        "#Evaluate model on coqa validation dataset\n",
        "model5_fineTuned_on_coqa_accuracy, model5_fineTuned_on_coqa_f1_score, model5_start_true_coqa, model5_end_true_coqa, model5_start_pred_coqa, model5_end_pred_coqa, model5_inputIDs = evaluate_on_model(model, val_dataset)"
      ],
      "metadata": {
        "id": "merFRoK8lltv",
        "colab": {
          "base_uri": "https://localhost:8080/",
          "height": 501
        },
        "outputId": "318ec123-58de-49d8-b86b-90bde1eae80a"
      },
      "execution_count": null,
      "outputs": [
        {
          "output_type": "stream",
          "name": "stderr",
          "text": [
            "/usr/local/lib/python3.7/dist-packages/transformers/optimization.py:310: FutureWarning: This implementation of AdamW is deprecated and will be removed in a future version. Use the PyTorch implementation torch.optim.AdamW instead, or set `no_deprecation_warning=True` to disable this warning\n",
            "  FutureWarning,\n",
            "Epoch 1: 100%|██████████| 6706/6706 [21:37<00:00,  5.17it/s, loss=2.46]\n",
            "Epoch 2: 100%|██████████| 6706/6706 [21:36<00:00,  5.17it/s, loss=3.8]\n",
            "Epoch 3: 100%|██████████| 6706/6706 [21:37<00:00,  5.17it/s, loss=2.85]\n"
          ]
        },
        {
          "output_type": "display_data",
          "data": {
            "text/plain": [
              "<Figure size 432x288 with 1 Axes>"
            ],
            "image/png": "[encoded data removed]"
          },
          "metadata": {
            "needs_background": "light"
          }
        },
        {
          "output_type": "stream",
          "name": "stderr",
          "text": [
            "100%|██████████| 495/495 [00:31<00:00, 15.95it/s]"
          ]
        },
        {
          "output_type": "stream",
          "name": "stdout",
          "text": [
            " \n",
            "Exact Match accuracy is: 0.33211580090450515\n",
            "F1 score is: 0.48819444444444443\n"
          ]
        },
        {
          "output_type": "stream",
          "name": "stderr",
          "text": [
            "\n"
          ]
        }
      ]
    },
    {
      "cell_type": "markdown",
      "source": [
        "# **Model 6** "
      ],
      "metadata": {
        "id": "ZGn087TB_OiJ"
      }
    },
    {
      "cell_type": "code",
      "source": [
        "#No layer of BERT would be frozen.\n",
        "model = model_fineTune_on_coqa\n",
        "train_dataset = coqa_train_dataset\n",
        "val_dataset = coqa_val_dataset\n",
        "batch_size = 16\n",
        "shuffle = True\n",
        "learning_rate = 5e-5\n",
        "num_epochs = 5\n",
        "\n",
        "\n",
        "model6_fineTune_on_coqa, model6_loss = train_model(model, train_dataset, batch_size, shuffle, learning_rate, num_epochs)\n",
        "\n",
        "x = num_epochs\n",
        "y = model6_loss\n",
        "plot_loss(x, y)\n",
        "\n",
        "model = model6_fineTune_on_coqa\n",
        "\n",
        "#Evaluate model on coqa validation dataset\n",
        "model6_fineTuned_on_coqa_accuracy, model6_fineTuned_on_coqa_f1_score, model6_start_true_coqa, model6_end_true_coqa, model6_start_pred_coqa, model6_end_pred_coqa, model6_inputIDs = evaluate_on_model(model, val_dataset)"
      ],
      "metadata": {
        "id": "Ho7MB0Wb_LSK",
        "colab": {
          "base_uri": "https://localhost:8080/",
          "height": 536
        },
        "outputId": "280678ae-3937-4401-a2e6-22b40a5b63de"
      },
      "execution_count": null,
      "outputs": [
        {
          "output_type": "stream",
          "name": "stderr",
          "text": [
            "/usr/local/lib/python3.7/dist-packages/transformers/optimization.py:310: FutureWarning: This implementation of AdamW is deprecated and will be removed in a future version. Use the PyTorch implementation torch.optim.AdamW instead, or set `no_deprecation_warning=True` to disable this warning\n",
            "  FutureWarning,\n",
            "Epoch 1: 100%|██████████| 6706/6706 [21:37<00:00,  5.17it/s, loss=3.63]\n",
            "Epoch 2: 100%|██████████| 6706/6706 [21:35<00:00,  5.18it/s, loss=2.51]\n",
            "Epoch 3: 100%|██████████| 6706/6706 [21:35<00:00,  5.18it/s, loss=2.85]\n",
            "Epoch 4: 100%|██████████| 6706/6706 [21:33<00:00,  5.18it/s, loss=2.51]\n",
            "Epoch 5: 100%|██████████| 6706/6706 [21:32<00:00,  5.19it/s, loss=1.25]\n"
          ]
        },
        {
          "output_type": "display_data",
          "data": {
            "text/plain": [
              "<Figure size 432x288 with 1 Axes>"
            ],
            "image/png": "[encoded data removed]"
          },
          "metadata": {
            "needs_background": "light"
          }
        },
        {
          "output_type": "stream",
          "name": "stderr",
          "text": [
            "100%|██████████| 495/495 [00:30<00:00, 16.01it/s]"
          ]
        },
        {
          "output_type": "stream",
          "name": "stdout",
          "text": [
            " \n",
            "Exact Match accuracy is: 0.32048160174880364\n",
            "F1 score is: 0.4623376623376623\n"
          ]
        },
        {
          "output_type": "stream",
          "name": "stderr",
          "text": [
            "\n"
          ]
        }
      ]
    },
    {
      "cell_type": "markdown",
      "source": [
        "# **Model 7** "
      ],
      "metadata": {
        "id": "j9znn5OCdRTZ"
      }
    },
    {
      "cell_type": "code",
      "source": [
        "#No layer of BERT would be frozen.\n",
        "model = model_fineTune_on_coqa\n",
        "train_dataset = coqa_train_dataset\n",
        "val_dataset = coqa_val_dataset\n",
        "batch_size = 32\n",
        "shuffle = True\n",
        "learning_rate = 5e-5\n",
        "num_epochs = 1\n",
        "\n",
        "\n",
        "model7_fineTune_on_coqa, model7_loss = train_model(model, train_dataset, batch_size, shuffle, learning_rate, num_epochs)\n",
        "\n",
        "x = num_epochs\n",
        "y = model7_loss\n",
        "plot_loss(x, y)\n",
        "\n",
        "model = model7_fineTune_on_coqa\n",
        "\n",
        "#Evaluate model on coqa validation dataset\n",
        "model7_fineTuned_on_coqa_accuracy, model7_fineTuned_on_coqa_f1_score, model7_start_true_coqa, model7_end_true_coqa, model7_start_pred_coqa, model7_end_pred_coqa, model7_inputIDs = evaluate_on_model(model, val_dataset)"
      ],
      "metadata": {
        "id": "Op1wTfKmdHSR",
        "colab": {
          "base_uri": "https://localhost:8080/",
          "height": 467
        },
        "outputId": "41a62a1e-8771-4f87-ba12-03a10eca5427"
      },
      "execution_count": null,
      "outputs": [
        {
          "output_type": "stream",
          "name": "stderr",
          "text": [
            "/usr/local/lib/python3.7/dist-packages/transformers/optimization.py:310: FutureWarning: This implementation of AdamW is deprecated and will be removed in a future version. Use the PyTorch implementation torch.optim.AdamW instead, or set `no_deprecation_warning=True` to disable this warning\n",
            "  FutureWarning,\n",
            "Epoch 1: 100%|██████████| 3353/3353 [20:08<00:00,  2.78it/s, loss=2.68]\n"
          ]
        },
        {
          "output_type": "display_data",
          "data": {
            "text/plain": [
              "<Figure size 432x288 with 1 Axes>"
            ],
            "image/png": "[encoded data removed]"
          },
          "metadata": {
            "needs_background": "light"
          }
        },
        {
          "output_type": "stream",
          "name": "stderr",
          "text": [
            "100%|██████████| 495/495 [00:31<00:00, 15.93it/s]"
          ]
        },
        {
          "output_type": "stream",
          "name": "stdout",
          "text": [
            " \n",
            "Exact Match accuracy is: 0.31902958154678346\n",
            "F1 score is: 0.4814303751803752\n"
          ]
        },
        {
          "output_type": "stream",
          "name": "stderr",
          "text": [
            "\n"
          ]
        }
      ]
    },
    {
      "cell_type": "markdown",
      "source": [
        "The results of the models shown above show that generally we get a higher F1 score when we have more trainable parameters i.e. lesser or no layer is frozen."
      ],
      "metadata": {
        "id": "CUfddroJGFxK"
      }
    },
    {
      "cell_type": "markdown",
      "source": [
        "# **SQUAD 2.0 DATASET**"
      ],
      "metadata": {
        "id": "t1aaqs99TXBc"
      }
    },
    {
      "cell_type": "markdown",
      "source": [
        "### Load Squad 2.0 data set"
      ],
      "metadata": {
        "id": "l1mDNeOTuRcc"
      }
    },
    {
      "cell_type": "code",
      "source": [
        "squad_train_path = '/content/drive/MyDrive/w266_NLP_project/data/SQUAD_datasets/train-v2.0.json'\n",
        "squad_eval_path = '/content/drive/MyDrive/w266_NLP_project/data/SQUAD_datasets/dev-v2.0.json'"
      ],
      "metadata": {
        "id": "EzZ2Hn2WpN7-"
      },
      "execution_count": null,
      "outputs": []
    },
    {
      "cell_type": "code",
      "source": [
        "#Define function to read squad 2.0 dataset.\n",
        "def read_squad(path):\n",
        "    with open(path, 'rb') as f:\n",
        "        squad_dict = json.load(f)\n",
        "\n",
        "    # initialize lists for contexts, questions, and answers\n",
        "    contexts = []\n",
        "    questions = []\n",
        "    answers = []\n",
        "    # iterate through all data in squad data\n",
        "    for group in squad_dict['data']:\n",
        "        for passage in group['paragraphs']:\n",
        "            context = passage['context']\n",
        "            for qa in passage['qas']:\n",
        "                question = qa['question']\n",
        "                if 'plausible_answers' in qa.keys():\n",
        "                    access = 'plausible_answers'\n",
        "                else:\n",
        "                    access = 'answers'\n",
        "                for answer in qa['answers']:\n",
        "                    # append data to lists\n",
        "                    contexts.append(context)\n",
        "                    questions.append(question)\n",
        "                    answers.append(answer)\n",
        "    # return formatted data lists\n",
        "    return contexts, questions, answers"
      ],
      "metadata": {
        "id": "zWgAj5y8vO77"
      },
      "execution_count": null,
      "outputs": []
    },
    {
      "cell_type": "code",
      "source": [
        "squad_train_contexts, squad_train_questions, squad_train_answers = read_squad(squad_train_path)\n",
        "squad_val_contexts, squad_val_questions, squad_val_answers = read_squad(squad_eval_path)"
      ],
      "metadata": {
        "id": "GsGI4jJdvZfw"
      },
      "execution_count": null,
      "outputs": []
    },
    {
      "cell_type": "code",
      "source": [
        "#Let's have an example contexts\n",
        "squad_train_contexts[0]"
      ],
      "metadata": {
        "colab": {
          "base_uri": "https://localhost:8080/",
          "height": 87
        },
        "id": "eV02_Mf1vZjn",
        "outputId": "19f19c7c-e640-4371-ff55-d3547a8854c4"
      },
      "execution_count": null,
      "outputs": [
        {
          "output_type": "execute_result",
          "data": {
            "text/plain": [
              "'Beyoncé Giselle Knowles-Carter (/biːˈjɒnseɪ/ bee-YON-say) (born September 4, 1981) is an American singer, songwriter, record producer and actress. Born and raised in Houston, Texas, she performed in various singing and dancing competitions as a child, and rose to fame in the late 1990s as lead singer of R&B girl-group Destiny\\'s Child. Managed by her father, Mathew Knowles, the group became one of the world\\'s best-selling girl groups of all time. Their hiatus saw the release of Beyoncé\\'s debut album, Dangerously in Love (2003), which established her as a solo artist worldwide, earned five Grammy Awards and featured the Billboard Hot 100 number-one singles \"Crazy in Love\" and \"Baby Boy\".'"
            ],
            "application/vnd.google.colaboratory.intrinsic+json": {
              "type": "string"
            }
          },
          "metadata": {},
          "execution_count": 41
        }
      ]
    },
    {
      "cell_type": "code",
      "source": [
        "#Let's have an example answer\n",
        "squad_train_answers[0]"
      ],
      "metadata": {
        "colab": {
          "base_uri": "https://localhost:8080/"
        },
        "id": "Wuf7nLm_vZmq",
        "outputId": "09fe16ac-dc11-435a-f5e9-07ad98e450a9"
      },
      "execution_count": null,
      "outputs": [
        {
          "output_type": "execute_result",
          "data": {
            "text/plain": [
              "{'text': 'in the late 1990s', 'answer_start': 269}"
            ]
          },
          "metadata": {},
          "execution_count": 42
        }
      ]
    },
    {
      "cell_type": "markdown",
      "source": [
        "Since BERT can be off in the answer due to the special tokens (CLS and SEP), we would create a function to cater for this offset."
      ],
      "metadata": {
        "id": "uWVYhxFnvt8s"
      }
    },
    {
      "cell_type": "code",
      "source": [
        "def squad_add_end_idx(answers, contexts):\n",
        "    # loop through each answer-context pair\n",
        "    for answer, context in zip(answers, contexts):\n",
        "        # gold_text refers to the answer we are expecting to find in context\n",
        "        gold_text = answer['text']\n",
        "        # we already know the start index\n",
        "        start_idx = answer['answer_start']\n",
        "        # and ideally this would be the end index...\n",
        "        end_idx = start_idx + len(gold_text)\n",
        "\n",
        "        # ...however, sometimes squad answers are off by a character or two\n",
        "        if context[start_idx:end_idx] == gold_text:\n",
        "            # if the answer is not off :)\n",
        "            answer['answer_end'] = end_idx\n",
        "        else:\n",
        "            for n in [1, 2]:\n",
        "                if context[start_idx-n:end_idx-n] == gold_text:\n",
        "                    # this means the answer is off by 'n' tokens\n",
        "                    answer['answer_start'] = start_idx - n\n",
        "                    answer['answer_end'] = end_idx - n"
      ],
      "metadata": {
        "id": "Eoqd9pKMvZp1"
      },
      "execution_count": null,
      "outputs": []
    },
    {
      "cell_type": "code",
      "source": [
        "squad_add_end_idx(squad_train_answers, squad_train_contexts)\n",
        "squad_add_end_idx(squad_val_answers, squad_val_contexts)"
      ],
      "metadata": {
        "id": "7lly0vhuvZsa"
      },
      "execution_count": null,
      "outputs": []
    },
    {
      "cell_type": "markdown",
      "source": [
        "## Encode"
      ],
      "metadata": {
        "id": "OwvIafQwwPOv"
      }
    },
    {
      "cell_type": "code",
      "source": [
        "squad_train_encodings = tokenizer(squad_train_contexts, squad_train_questions, truncation=True, padding=True)\n",
        "squad_val_encodings = tokenizer(squad_val_contexts, squad_val_questions, truncation=True, padding=True)"
      ],
      "metadata": {
        "id": "Ib-sqc64vZvs"
      },
      "execution_count": null,
      "outputs": []
    },
    {
      "cell_type": "markdown",
      "source": [
        "Update the start and end token positions"
      ],
      "metadata": {
        "id": "3t4g3e6FwjGe"
      }
    },
    {
      "cell_type": "code",
      "source": [
        "add_token_positions(squad_train_encodings, squad_train_answers)\n",
        "add_token_positions(squad_val_encodings, squad_val_answers)"
      ],
      "metadata": {
        "id": "rssP3Muiwada"
      },
      "execution_count": null,
      "outputs": []
    },
    {
      "cell_type": "markdown",
      "source": [
        "##Create Squad train and Val dataset using Pytorch Dataset class"
      ],
      "metadata": {
        "id": "PokH2MtYAJ1i"
      }
    },
    {
      "cell_type": "code",
      "source": [
        "class SquadDataset(torch.utils.data.Dataset):\n",
        "    def __init__(self, encodings):\n",
        "        self.encodings = encodings\n",
        "\n",
        "    def __getitem__(self, idx):\n",
        "        return {key: torch.tensor(val[idx]) for key, val in self.encodings.items()}\n",
        "\n",
        "    def __len__(self):\n",
        "        return len(self.encodings.input_ids)\n",
        "squad_train_dataset = SquadDataset(squad_train_encodings)\n",
        "squad_val_dataset = SquadDataset(squad_val_encodings)"
      ],
      "metadata": {
        "id": "ZPiuS4pkwqWS"
      },
      "execution_count": null,
      "outputs": []
    },
    {
      "cell_type": "markdown",
      "source": [
        "## Fine Tune model on squad 2.0 training dataset and then evaluate on squad validated dataset."
      ],
      "metadata": {
        "id": "tJUvgbp8xdSl"
      }
    },
    {
      "cell_type": "code",
      "source": [
        "model_fineTune_on_squad = DistilBertForQuestionAnswering.from_pretrained(\"distilbert-base-uncased\")"
      ],
      "metadata": {
        "colab": {
          "base_uri": "https://localhost:8080/"
        },
        "id": "ZpKS-83axCDz",
        "outputId": "3c202397-9914-4e02-d440-c22004f93c04"
      },
      "execution_count": null,
      "outputs": [
        {
          "output_type": "stream",
          "name": "stderr",
          "text": [
            "Some weights of the model checkpoint at distilbert-base-uncased were not used when initializing DistilBertForQuestionAnswering: ['vocab_projector.weight', 'vocab_layer_norm.weight', 'vocab_transform.bias', 'vocab_transform.weight', 'vocab_projector.bias', 'vocab_layer_norm.bias']\n",
            "- This IS expected if you are initializing DistilBertForQuestionAnswering from the checkpoint of a model trained on another task or with another architecture (e.g. initializing a BertForSequenceClassification model from a BertForPreTraining model).\n",
            "- This IS NOT expected if you are initializing DistilBertForQuestionAnswering from the checkpoint of a model that you expect to be exactly identical (initializing a BertForSequenceClassification model from a BertForSequenceClassification model).\n",
            "Some weights of DistilBertForQuestionAnswering were not initialized from the model checkpoint at distilbert-base-uncased and are newly initialized: ['qa_outputs.weight', 'qa_outputs.bias']\n",
            "You should probably TRAIN this model on a down-stream task to be able to use it for predictions and inference.\n"
          ]
        }
      ]
    },
    {
      "cell_type": "markdown",
      "source": [
        "# **Model 8** "
      ],
      "metadata": {
        "id": "s3CnjSIVx5V4"
      }
    },
    {
      "cell_type": "code",
      "source": [
        "#Here I will freeze layers 0, 1, 2, 3 of BERT.\n",
        "\n",
        "model = model_fineTune_on_squad\n",
        "train_dataset = squad_train_dataset\n",
        "val_dataset = squad_val_dataset\n",
        "batch_size = 16\n",
        "shuffle = True\n",
        "learning_rate = 5e-5\n",
        "num_epochs = 1\n",
        "\n",
        "\n",
        "model8_fineTune_on_squad, model8_loss = train_model(model, train_dataset, batch_size, shuffle, learning_rate, num_epochs)\n",
        "\n",
        "# x = num_epochs\n",
        "# y = model8_loss\n",
        "# plot_loss(x, y)\n",
        "\n",
        "model = model8_fineTune_on_squad\n",
        "model8_fineTune_on_squad_accuracy, model8_fineTune_on_squad_f1_score, model8_start_true_squad, model8_end_true_squad, model8_start_pred_squad, model8_end_pred_squad, model8_inputIDs_squad = evaluate_on_model(model, val_dataset)"
      ],
      "metadata": {
        "colab": {
          "base_uri": "https://localhost:8080/"
        },
        "id": "q7oku6S25mnl",
        "outputId": "2307cc98-4342-4ab9-bc7c-46b93478d09d"
      },
      "execution_count": null,
      "outputs": [
        {
          "output_type": "stream",
          "name": "stderr",
          "text": [
            "/usr/local/lib/python3.7/dist-packages/transformers/optimization.py:310: FutureWarning: This implementation of AdamW is deprecated and will be removed in a future version. Use the PyTorch implementation torch.optim.AdamW instead, or set `no_deprecation_warning=True` to disable this warning\n",
            "  FutureWarning,\n",
            "Epoch 1: 100%|██████████| 5427/5427 [14:26<00:00,  6.26it/s, loss=0.435]\n",
            "100%|██████████| 1269/1269 [01:19<00:00, 15.90it/s]"
          ]
        },
        {
          "output_type": "stream",
          "name": "stdout",
          "text": [
            " \n",
            "Exact Match accuracy is: 0.5992344928578047\n",
            "F1 score is: 0.7768490374873354\n"
          ]
        },
        {
          "output_type": "stream",
          "name": "stderr",
          "text": [
            "\n"
          ]
        }
      ]
    },
    {
      "cell_type": "markdown",
      "source": [
        "# **Model 9** "
      ],
      "metadata": {
        "id": "2ShbnExC-u7s"
      }
    },
    {
      "cell_type": "code",
      "source": [
        "#Here I will freeze layers 0, 1, 2, 3, 4 of BERT.\n",
        "\n",
        "model = model_fineTune_on_squad\n",
        "train_dataset = squad_train_dataset\n",
        "val_dataset = squad_val_dataset\n",
        "batch_size = 16\n",
        "shuffle = True\n",
        "learning_rate = 5e-5\n",
        "num_epochs = 1\n",
        "\n",
        "\n",
        "model9_fineTune_on_squad, model9_loss = train_model(model, train_dataset, batch_size, shuffle, learning_rate, num_epochs)\n",
        "\n",
        "# x = num_epochs\n",
        "# y = model9_loss\n",
        "# plot_loss(x, y)\n",
        "\n",
        "model = model9_fineTune_on_squad\n",
        "\n",
        "model9_fineTune_on_squad_accuracy, model9_fineTune_on_squad_f1_score, model9_start_true_squad, model9_end_true_squad, model9_start_pred_squad, model9_end_pred_squad, model9_inputIDs_squad = evaluate_on_model(model, val_dataset)"
      ],
      "metadata": {
        "colab": {
          "base_uri": "https://localhost:8080/"
        },
        "id": "ZshJWaoY5mi_",
        "outputId": "ee6652a3-cfc4-422b-89d3-d9222de44787"
      },
      "execution_count": null,
      "outputs": [
        {
          "output_type": "stream",
          "name": "stderr",
          "text": [
            "/usr/local/lib/python3.7/dist-packages/transformers/optimization.py:310: FutureWarning: This implementation of AdamW is deprecated and will be removed in a future version. Use the PyTorch implementation torch.optim.AdamW instead, or set `no_deprecation_warning=True` to disable this warning\n",
            "  FutureWarning,\n",
            "Epoch 1: 100%|██████████| 5427/5427 [13:39<00:00,  6.62it/s, loss=2.05]\n",
            "100%|██████████| 1269/1269 [01:19<00:00, 15.90it/s]"
          ]
        },
        {
          "output_type": "stream",
          "name": "stdout",
          "text": [
            " \n",
            "Exact Match accuracy is: 0.49559903750746526\n",
            "F1 score is: 0.678585500394011\n"
          ]
        },
        {
          "output_type": "stream",
          "name": "stderr",
          "text": [
            "\n"
          ]
        }
      ]
    },
    {
      "cell_type": "markdown",
      "source": [
        "# **Model 10** "
      ],
      "metadata": {
        "id": "tQCZCSao5hfU"
      }
    },
    {
      "cell_type": "code",
      "source": [
        "#No Bert layer is frozen\n",
        "\n",
        "model = model_fineTune_on_squad\n",
        "train_dataset = squad_train_dataset\n",
        "val_dataset = squad_val_dataset\n",
        "batch_size = 16\n",
        "shuffle = True\n",
        "learning_rate = 5e-5\n",
        "num_epochs = 1\n",
        "\n",
        "\n",
        "model10_fineTune_on_squad, model10_loss = train_model(model, train_dataset, batch_size, shuffle, learning_rate, num_epochs)\n",
        "\n",
        "# x = num_epochs\n",
        "# y = model10_loss\n",
        "# plot_loss(x, y)\n",
        "\n",
        "model = model10_fineTune_on_squad\n",
        "model10_fineTune_on_squad_accuracy, model10_fineTune_on_squad_f1_score, model10_start_true_squad, model10_end_true_squad, model10_start_pred_squad, model10_end_pred_squad, model10_inputIDs_squad = evaluate_on_model(model, val_dataset)"
      ],
      "metadata": {
        "colab": {
          "base_uri": "https://localhost:8080/"
        },
        "id": "ndmgViPmC5tH",
        "outputId": "c9b63602-a9f5-497e-9de0-5bc8d869ae3f"
      },
      "execution_count": null,
      "outputs": [
        {
          "output_type": "stream",
          "name": "stderr",
          "text": [
            "Epoch 1: 100%|██████████| 5427/5427 [17:26<00:00,  5.18it/s, loss=0.539]\n",
            "100%|██████████| 1269/1269 [01:19<00:00, 16.00it/s]"
          ]
        },
        {
          "output_type": "stream",
          "name": "stdout",
          "text": [
            " \n",
            "Exact Match accuracy is: 0.6576466283975998\n",
            "F1 score is: 0.8259983958122256\n"
          ]
        },
        {
          "output_type": "stream",
          "name": "stderr",
          "text": [
            "\n"
          ]
        }
      ]
    },
    {
      "cell_type": "code",
      "source": [
        "#Save the model\n",
        "squad_model_path = '/content/drive/MyDrive/w266_NLP_project/savedModel/squad_distillbert_custom'\n",
        "model10_fineTune_on_squad.save_pretrained(squad_model_path)"
      ],
      "metadata": {
        "id": "1wPve0Lu5U9d"
      },
      "execution_count": null,
      "outputs": []
    },
    {
      "cell_type": "code",
      "source": [
        "#load the model\n",
        "model = model10_fineTune_on_squad.from_pretrained(coqa_model_path)"
      ],
      "metadata": {
        "id": "8HiDcZXp5VNK"
      },
      "execution_count": null,
      "outputs": []
    },
    {
      "cell_type": "markdown",
      "source": [
        "# **Model 11** "
      ],
      "metadata": {
        "id": "_dSrYBUKEhxr"
      }
    },
    {
      "cell_type": "code",
      "source": [
        "#No Bert layer is frozen\n",
        "\n",
        "model = model_fineTune_on_squad\n",
        "train_dataset = squad_train_dataset\n",
        "val_dataset = squad_val_dataset\n",
        "batch_size = 16\n",
        "shuffle = True\n",
        "learning_rate = 5e-5\n",
        "num_epochs = 3\n",
        "\n",
        "\n",
        "\n",
        "model11_fineTune_on_squad, model11_loss = train_model(model, train_dataset, batch_size, shuffle, learning_rate, num_epochs)\n",
        "\n",
        "x = num_epochs\n",
        "y = model11_loss\n",
        "plot_loss(x, y)\n",
        "\n",
        "model = model11_fineTune_on_squad\n",
        "model11_fineTune_on_squad_accuracy, model11_fineTune_on_squad_f1_score, model11_start_true_squad, model11_end_true_squad, model11_start_pred_squad, model11_end_pred_squad, model11_inputIDs_squad = evaluate_on_model(model, val_dataset)"
      ],
      "metadata": {
        "colab": {
          "base_uri": "https://localhost:8080/",
          "height": 501
        },
        "id": "Un1VDsVFzw59",
        "outputId": "91097525-2bbb-4a46-f3d4-20c549479480"
      },
      "execution_count": null,
      "outputs": [
        {
          "output_type": "stream",
          "name": "stderr",
          "text": [
            "/usr/local/lib/python3.7/dist-packages/transformers/optimization.py:310: FutureWarning: This implementation of AdamW is deprecated and will be removed in a future version. Use the PyTorch implementation torch.optim.AdamW instead, or set `no_deprecation_warning=True` to disable this warning\n",
            "  FutureWarning,\n",
            "Epoch 1: 100%|██████████| 5427/5427 [17:33<00:00,  5.15it/s, loss=2.21]\n",
            "Epoch 2: 100%|██████████| 5427/5427 [17:32<00:00,  5.16it/s, loss=0.89]\n",
            "Epoch 3: 100%|██████████| 5427/5427 [17:32<00:00,  5.16it/s, loss=0.278]\n"
          ]
        },
        {
          "output_type": "display_data",
          "data": {
            "text/plain": [
              "<Figure size 432x288 with 1 Axes>"
            ],
            "image/png": "[encoded data removed]"
          },
          "metadata": {
            "needs_background": "light"
          }
        },
        {
          "output_type": "stream",
          "name": "stderr",
          "text": [
            "100%|██████████| 1269/1269 [01:19<00:00, 15.87it/s]"
          ]
        },
        {
          "output_type": "stream",
          "name": "stdout",
          "text": [
            " \n",
            "Exact Match accuracy is: 0.6500443262411347\n",
            "F1 score is: 0.8178930260047281\n"
          ]
        },
        {
          "output_type": "stream",
          "name": "stderr",
          "text": [
            "\n"
          ]
        }
      ]
    },
    {
      "cell_type": "markdown",
      "source": [
        "# **Model 12** "
      ],
      "metadata": {
        "id": "MUbCuEf9WsNU"
      }
    },
    {
      "cell_type": "code",
      "source": [
        "#No Bert layer is frozen\n",
        "\n",
        "model = model_fineTune_on_squad\n",
        "train_dataset = squad_train_dataset\n",
        "val_dataset = squad_val_dataset\n",
        "batch_size = 16\n",
        "shuffle = True\n",
        "learning_rate = 5e-5\n",
        "num_epochs = 5\n",
        "\n",
        "\n",
        "\n",
        "model12_fineTune_on_squad, model12_loss = train_model(model, train_dataset, batch_size, shuffle, learning_rate, num_epochs)\n",
        "\n",
        "x = num_epochs\n",
        "y = model12_loss\n",
        "plot_loss(x, y)\n",
        "\n",
        "model = model12_fineTune_on_squad\n",
        "model12_fineTune_on_squad_accuracy, model12_fineTune_on_squad_f1_score, model12_start_true_squad, model12_end_true_squad, model12_start_pred_squad, model12_end_pred_squad, model12_inputIDs_squad = evaluate_on_model(model, val_dataset)"
      ],
      "metadata": {
        "colab": {
          "base_uri": "https://localhost:8080/",
          "height": 536
        },
        "id": "lJADeF5zWu6C",
        "outputId": "835d6e06-2c67-4109-d8bf-4e6f0c8b655c"
      },
      "execution_count": null,
      "outputs": [
        {
          "output_type": "stream",
          "name": "stderr",
          "text": [
            "/usr/local/lib/python3.7/dist-packages/transformers/optimization.py:310: FutureWarning: This implementation of AdamW is deprecated and will be removed in a future version. Use the PyTorch implementation torch.optim.AdamW instead, or set `no_deprecation_warning=True` to disable this warning\n",
            "  FutureWarning,\n",
            "Epoch 1: 100%|██████████| 5427/5427 [17:32<00:00,  5.16it/s, loss=1.34]\n",
            "Epoch 2: 100%|██████████| 5427/5427 [17:31<00:00,  5.16it/s, loss=2.48]\n",
            "Epoch 3: 100%|██████████| 5427/5427 [17:31<00:00,  5.16it/s, loss=0.725]\n",
            "Epoch 4: 100%|██████████| 5427/5427 [17:31<00:00,  5.16it/s, loss=0.599]\n",
            "Epoch 5: 100%|██████████| 5427/5427 [17:30<00:00,  5.16it/s, loss=1.27]\n"
          ]
        },
        {
          "output_type": "display_data",
          "data": {
            "text/plain": [
              "<Figure size 432x288 with 1 Axes>"
            ],
            "image/png": "[encoded data removed]"
          },
          "metadata": {
            "needs_background": "light"
          }
        },
        {
          "output_type": "stream",
          "name": "stderr",
          "text": [
            "100%|██████████| 1269/1269 [01:19<00:00, 15.90it/s]"
          ]
        },
        {
          "output_type": "stream",
          "name": "stdout",
          "text": [
            " \n",
            "Exact Match accuracy is: 0.6476556343695045\n",
            "F1 score is: 0.8143223010244287\n"
          ]
        },
        {
          "output_type": "stream",
          "name": "stderr",
          "text": [
            "\n"
          ]
        }
      ]
    },
    {
      "cell_type": "markdown",
      "source": [
        "# **Model 13** "
      ],
      "metadata": {
        "id": "t5fGJhvmZlki"
      }
    },
    {
      "cell_type": "code",
      "source": [
        "#No Bert layer is frozen\n",
        "\n",
        "model = model_fineTune_on_squad\n",
        "train_dataset = squad_train_dataset\n",
        "val_dataset = squad_val_dataset\n",
        "batch_size = 32\n",
        "shuffle = True\n",
        "learning_rate = 5e-5\n",
        "num_epochs = 1\n",
        "\n",
        "\n",
        "\n",
        "model13_fineTune_on_squad, model13_loss = train_model(model, train_dataset, batch_size, shuffle, learning_rate, num_epochs)\n",
        "\n",
        "# x = num_epochs\n",
        "# y = model13_loss\n",
        "# plot_loss(x, y)\n",
        "\n",
        "model = model13_fineTune_on_squad\n",
        "model13_fineTune_on_squad_accuracy, model13_fineTune_on_squad_f1_score, model13_start_true_squad, model13_end_true_squad, model13_start_pred_squad, model13_end_pred_squad, model13_inputIDs_squad = evaluate_on_model(model, val_dataset)\n",
        "model13_fineTune_on_squad_accuracy, model13_fineTune_on_squad_f1_score = evaluate_on_model(model, val_dataset)"
      ],
      "metadata": {
        "colab": {
          "base_uri": "https://localhost:8080/"
        },
        "id": "0DNqS4juWuyx",
        "outputId": "c627f603-768c-4fa4-8499-c50d96664fcc"
      },
      "execution_count": null,
      "outputs": [
        {
          "output_type": "stream",
          "name": "stderr",
          "text": [
            "/usr/local/lib/python3.7/dist-packages/transformers/optimization.py:310: FutureWarning: This implementation of AdamW is deprecated and will be removed in a future version. Use the PyTorch implementation torch.optim.AdamW instead, or set `no_deprecation_warning=True` to disable this warning\n",
            "  FutureWarning,\n",
            "Epoch 1: 100%|██████████| 2714/2714 [16:22<00:00,  2.76it/s, loss=0.573]\n",
            "100%|██████████| 1269/1269 [01:19<00:00, 15.92it/s]"
          ]
        },
        {
          "output_type": "stream",
          "name": "stdout",
          "text": [
            " \n",
            "Exact Match accuracy is: 0.6582868963251018\n",
            "F1 score is: 0.8231031183158842\n"
          ]
        },
        {
          "output_type": "stream",
          "name": "stderr",
          "text": [
            "\n"
          ]
        }
      ]
    },
    {
      "cell_type": "markdown",
      "source": [
        "Fine-tuning models on the Squad 2.0 dataset and evaluating on the squad 2.0 validation dataset also show that the lesser the number of layers frozen, the better the model performance.\n",
        "\n",
        "\n",
        "Now, since model 10 gave us a better model performance when evaluated on the squad 2.0 dataset, we would then evaluate it on the coqa validation dataset so we could compare its performance with that of the model fine-tuned on the coqa dataset."
      ],
      "metadata": {
        "id": "CJDyEeT4NvGE"
      }
    },
    {
      "cell_type": "markdown",
      "source": [
        "## Evaluate Squad Best Fine-Tuned Model (Model 10) on coqa Validation dataset"
      ],
      "metadata": {
        "id": "ei-pXKBwx5NU"
      }
    },
    {
      "cell_type": "code",
      "source": [
        "model = model10_fineTune_on_squad\n",
        "val_dataset = coqa_val_dataset\n",
        "\n",
        "model_ft_on_squad_eval_on_coqa_acc, model_ft_on_squad_eval_on_coqa_f1_score, my_start_true_squad, my_end_true_squad, my_start_pred_squad, my_end_pred_squad, my_inputIDs_squad = evaluate_on_model(model, val_dataset)\n",
        "# model_ft_on_squad_eval_on_coqa_acc, model_ft_on_squad_eval_on_coqa_f1_score = evaluate_on_model(model, val_dataset)"
      ],
      "metadata": {
        "colab": {
          "base_uri": "https://localhost:8080/"
        },
        "id": "yEXJy9-HSvZI",
        "outputId": "cb37598d-f9fe-4b5d-f519-252ff885a94c"
      },
      "execution_count": null,
      "outputs": [
        {
          "output_type": "stream",
          "name": "stderr",
          "text": [
            "100%|██████████| 495/495 [01:08<00:00,  7.22it/s]"
          ]
        },
        {
          "output_type": "stream",
          "name": "stdout",
          "text": [
            " \n",
            "Exact Match accuracy is: 0.17050865802048432\n",
            "F1 score is: 0.30113636363636365\n"
          ]
        },
        {
          "output_type": "stream",
          "name": "stderr",
          "text": [
            "\n"
          ]
        }
      ]
    },
    {
      "cell_type": "markdown",
      "source": [
        "We can see that the DistilBert model fine-tuned on the CoQA dataset outperforms the model fine-tuned on the SQuAD dataset by about 19.04% F1 score when both are evaluated on the CoQA validation dataset. This might be due to the fact it was actually fine-tuned on the CoQA dataset itself. However, we can see that the DistilBert model did perform better on the SQuAD 2.0 dataset than on the CoQA when each of them were evaluated on their respective validation dataset. We can attribute this to the conversational nature of questions in the CoQA dataset as being very challenging."
      ],
      "metadata": {
        "id": "LArO_lLFZCmn"
      }
    },
    {
      "cell_type": "markdown",
      "source": [
        "# **Compare coqa and squad dataset** "
      ],
      "metadata": {
        "id": "Gb7C7M2WVqqL"
      }
    },
    {
      "cell_type": "code",
      "source": [
        "coqa_train_df = coqa_train.copy()\n",
        "coqa_train_df.head(3)"
      ],
      "metadata": {
        "colab": {
          "base_uri": "https://localhost:8080/",
          "height": 143
        },
        "id": "V-OoHUdlaDYu",
        "outputId": "0ab42e27-4943-4028-a579-1d5e5c4d4b2b"
      },
      "execution_count": null,
      "outputs": [
        {
          "output_type": "execute_result",
          "data": {
            "text/plain": [
              "                                             context  \\\n",
              "0  The Vatican Apostolic Library (), more commonl...   \n",
              "1  The Vatican Apostolic Library (), more commonl...   \n",
              "2  The Vatican Apostolic Library (), more commonl...   \n",
              "\n",
              "                            question                         convo_answer  \\\n",
              "0  When was the Vat formally opened?  It was formally established in 1475   \n",
              "1           what is the library for?                             research   \n",
              "2                 for what subjects?                     history, and law   \n",
              "\n",
              "   span_start  span_end                                          span_text  \n",
              "0         151       179                       Formally established in 1475  \n",
              "1         454       494           he Vatican Library is a research library  \n",
              "2         457       511  Vatican Library is a research library for hist...  "
            ],
            "text/html": [
              "\n",
              "  <div id=\"df-f8f8e72d-8dc3-4bdb-86d1-1e2219c35dee\">\n",
              "    <div class=\"colab-df-container\">\n",
              "      <div>\n",
              "<style scoped>\n",
              "    .dataframe tbody tr th:only-of-type {\n",
              "        vertical-align: middle;\n",
              "    }\n",
              "\n",
              "    .dataframe tbody tr th {\n",
              "        vertical-align: top;\n",
              "    }\n",
              "\n",
              "    .dataframe thead th {\n",
              "        text-align: right;\n",
              "    }\n",
              "</style>\n",
              "<table border=\"1\" class=\"dataframe\">\n",
              "  <thead>\n",
              "    <tr style=\"text-align: right;\">\n",
              "      <th></th>\n",
              "      <th>context</th>\n",
              "      <th>question</th>\n",
              "      <th>convo_answer</th>\n",
              "      <th>span_start</th>\n",
              "      <th>span_end</th>\n",
              "      <th>span_text</th>\n",
              "    </tr>\n",
              "  </thead>\n",
              "  <tbody>\n",
              "    <tr>\n",
              "      <th>0</th>\n",
              "      <td>The Vatican Apostolic Library (), more commonl...</td>\n",
              "      <td>When was the Vat formally opened?</td>\n",
              "      <td>It was formally established in 1475</td>\n",
              "      <td>151</td>\n",
              "      <td>179</td>\n",
              "      <td>Formally established in 1475</td>\n",
              "    </tr>\n",
              "    <tr>\n",
              "      <th>1</th>\n",
              "      <td>The Vatican Apostolic Library (), more commonl...</td>\n",
              "      <td>what is the library for?</td>\n",
              "      <td>research</td>\n",
              "      <td>454</td>\n",
              "      <td>494</td>\n",
              "      <td>he Vatican Library is a research library</td>\n",
              "    </tr>\n",
              "    <tr>\n",
              "      <th>2</th>\n",
              "      <td>The Vatican Apostolic Library (), more commonl...</td>\n",
              "      <td>for what subjects?</td>\n",
              "      <td>history, and law</td>\n",
              "      <td>457</td>\n",
              "      <td>511</td>\n",
              "      <td>Vatican Library is a research library for hist...</td>\n",
              "    </tr>\n",
              "  </tbody>\n",
              "</table>\n",
              "</div>\n",
              "      <button class=\"colab-df-convert\" onclick=\"convertToInteractive('df-f8f8e72d-8dc3-4bdb-86d1-1e2219c35dee')\"\n",
              "              title=\"Convert this dataframe to an interactive table.\"\n",
              "              style=\"display:none;\">\n",
              "        \n",
              "  <svg xmlns=\"http://www.w3.org/2000/svg\" height=\"24px\"viewBox=\"0 0 24 24\"\n",
              "       width=\"24px\">\n",
              "    <path d=\"M0 0h24v24H0V0z\" fill=\"none\"/>\n",
              "    <path d=\"M18.56 5.44l.94 2.06.94-2.06 2.06-.94-2.06-.94-.94-2.06-.94 2.06-2.06.94zm-11 1L8.5 8.5l.94-2.06 2.06-.94-2.06-.94L8.5 2.5l-.94 2.06-2.06.94zm10 10l.94 2.06.94-2.06 2.06-.94-2.06-.94-.94-2.06-.94 2.06-2.06.94z\"/><path d=\"M17.41 7.96l-1.37-1.37c-.4-.4-.92-.59-1.43-.59-.52 0-1.04.2-1.43.59L10.3 9.45l-7.72 7.72c-.78.78-.78 2.05 0 2.83L4 21.41c.39.39.9.59 1.41.59.51 0 1.02-.2 1.41-.59l7.78-7.78 2.81-2.81c.8-.78.8-2.07 0-2.86zM5.41 20L4 18.59l7.72-7.72 1.47 1.35L5.41 20z\"/>\n",
              "  </svg>\n",
              "      </button>\n",
              "      \n",
              "  <style>\n",
              "    .colab-df-container {\n",
              "      display:flex;\n",
              "      flex-wrap:wrap;\n",
              "      gap: 12px;\n",
              "    }\n",
              "\n",
              "    .colab-df-convert {\n",
              "      background-color: #E8F0FE;\n",
              "      border: none;\n",
              "      border-radius: 50%;\n",
              "      cursor: pointer;\n",
              "      display: none;\n",
              "      fill: #1967D2;\n",
              "      height: 32px;\n",
              "      padding: 0 0 0 0;\n",
              "      width: 32px;\n",
              "    }\n",
              "\n",
              "    .colab-df-convert:hover {\n",
              "      background-color: #E2EBFA;\n",
              "      box-shadow: 0px 1px 2px rgba(60, 64, 67, 0.3), 0px 1px 3px 1px rgba(60, 64, 67, 0.15);\n",
              "      fill: #174EA6;\n",
              "    }\n",
              "\n",
              "    [theme=dark] .colab-df-convert {\n",
              "      background-color: #3B4455;\n",
              "      fill: #D2E3FC;\n",
              "    }\n",
              "\n",
              "    [theme=dark] .colab-df-convert:hover {\n",
              "      background-color: #434B5C;\n",
              "      box-shadow: 0px 1px 3px 1px rgba(0, 0, 0, 0.15);\n",
              "      filter: drop-shadow(0px 1px 2px rgba(0, 0, 0, 0.3));\n",
              "      fill: #FFFFFF;\n",
              "    }\n",
              "  </style>\n",
              "\n",
              "      <script>\n",
              "        const buttonEl =\n",
              "          document.querySelector('#df-f8f8e72d-8dc3-4bdb-86d1-1e2219c35dee button.colab-df-convert');\n",
              "        buttonEl.style.display =\n",
              "          google.colab.kernel.accessAllowed ? 'block' : 'none';\n",
              "\n",
              "        async function convertToInteractive(key) {\n",
              "          const element = document.querySelector('#df-f8f8e72d-8dc3-4bdb-86d1-1e2219c35dee');\n",
              "          const dataTable =\n",
              "            await google.colab.kernel.invokeFunction('convertToInteractive',\n",
              "                                                     [key], {});\n",
              "          if (!dataTable) return;\n",
              "\n",
              "          const docLinkHtml = 'Like what you see? Visit the ' +\n",
              "            '<a target=\"_blank\" href=https://colab.research.google.com/notebooks/data_table.ipynb>data table notebook</a>'\n",
              "            + ' to learn more about interactive tables.';\n",
              "          element.innerHTML = '';\n",
              "          dataTable['output_type'] = 'display_data';\n",
              "          await google.colab.output.renderOutput(dataTable, element);\n",
              "          const docLink = document.createElement('div');\n",
              "          docLink.innerHTML = docLinkHtml;\n",
              "          element.appendChild(docLink);\n",
              "        }\n",
              "      </script>\n",
              "    </div>\n",
              "  </div>\n",
              "  "
            ]
          },
          "metadata": {},
          "execution_count": 102
        }
      ]
    },
    {
      "cell_type": "code",
      "source": [
        "squad_train_df = pd.DataFrame(list(zip(squad_train_contexts, squad_train_questions,squad_train_answers)),\n",
        "               columns =['context', 'question', 'answer'])\n",
        "\n",
        "squad_train_df.head(3)"
      ],
      "metadata": {
        "colab": {
          "base_uri": "https://localhost:8080/",
          "height": 143
        },
        "id": "JfzlQ2inVy07",
        "outputId": "fbbb6903-3a9a-4648-e6a5-40de0bc17a66"
      },
      "execution_count": null,
      "outputs": [
        {
          "output_type": "execute_result",
          "data": {
            "text/plain": [
              "                                             context  \\\n",
              "0  Beyoncé Giselle Knowles-Carter (/biːˈjɒnseɪ/ b...   \n",
              "1  Beyoncé Giselle Knowles-Carter (/biːˈjɒnseɪ/ b...   \n",
              "2  Beyoncé Giselle Knowles-Carter (/biːˈjɒnseɪ/ b...   \n",
              "\n",
              "                                            question  \\\n",
              "0           When did Beyonce start becoming popular?   \n",
              "1  What areas did Beyonce compete in when she was...   \n",
              "2  When did Beyonce leave Destiny's Child and bec...   \n",
              "\n",
              "                                              answer  \n",
              "0  {'text': 'in the late 1990s', 'answer_start': ...  \n",
              "1  {'text': 'singing and dancing', 'answer_start'...  \n",
              "2              {'text': '2003', 'answer_start': 526}  "
            ],
            "text/html": [
              "\n",
              "  <div id=\"df-0ec7555f-63a0-4dfc-946b-460e67c349e7\">\n",
              "    <div class=\"colab-df-container\">\n",
              "      <div>\n",
              "<style scoped>\n",
              "    .dataframe tbody tr th:only-of-type {\n",
              "        vertical-align: middle;\n",
              "    }\n",
              "\n",
              "    .dataframe tbody tr th {\n",
              "        vertical-align: top;\n",
              "    }\n",
              "\n",
              "    .dataframe thead th {\n",
              "        text-align: right;\n",
              "    }\n",
              "</style>\n",
              "<table border=\"1\" class=\"dataframe\">\n",
              "  <thead>\n",
              "    <tr style=\"text-align: right;\">\n",
              "      <th></th>\n",
              "      <th>context</th>\n",
              "      <th>question</th>\n",
              "      <th>answer</th>\n",
              "    </tr>\n",
              "  </thead>\n",
              "  <tbody>\n",
              "    <tr>\n",
              "      <th>0</th>\n",
              "      <td>Beyoncé Giselle Knowles-Carter (/biːˈjɒnseɪ/ b...</td>\n",
              "      <td>When did Beyonce start becoming popular?</td>\n",
              "      <td>{'text': 'in the late 1990s', 'answer_start': ...</td>\n",
              "    </tr>\n",
              "    <tr>\n",
              "      <th>1</th>\n",
              "      <td>Beyoncé Giselle Knowles-Carter (/biːˈjɒnseɪ/ b...</td>\n",
              "      <td>What areas did Beyonce compete in when she was...</td>\n",
              "      <td>{'text': 'singing and dancing', 'answer_start'...</td>\n",
              "    </tr>\n",
              "    <tr>\n",
              "      <th>2</th>\n",
              "      <td>Beyoncé Giselle Knowles-Carter (/biːˈjɒnseɪ/ b...</td>\n",
              "      <td>When did Beyonce leave Destiny's Child and bec...</td>\n",
              "      <td>{'text': '2003', 'answer_start': 526}</td>\n",
              "    </tr>\n",
              "  </tbody>\n",
              "</table>\n",
              "</div>\n",
              "      <button class=\"colab-df-convert\" onclick=\"convertToInteractive('df-0ec7555f-63a0-4dfc-946b-460e67c349e7')\"\n",
              "              title=\"Convert this dataframe to an interactive table.\"\n",
              "              style=\"display:none;\">\n",
              "        \n",
              "  <svg xmlns=\"http://www.w3.org/2000/svg\" height=\"24px\"viewBox=\"0 0 24 24\"\n",
              "       width=\"24px\">\n",
              "    <path d=\"M0 0h24v24H0V0z\" fill=\"none\"/>\n",
              "    <path d=\"M18.56 5.44l.94 2.06.94-2.06 2.06-.94-2.06-.94-.94-2.06-.94 2.06-2.06.94zm-11 1L8.5 8.5l.94-2.06 2.06-.94-2.06-.94L8.5 2.5l-.94 2.06-2.06.94zm10 10l.94 2.06.94-2.06 2.06-.94-2.06-.94-.94-2.06-.94 2.06-2.06.94z\"/><path d=\"M17.41 7.96l-1.37-1.37c-.4-.4-.92-.59-1.43-.59-.52 0-1.04.2-1.43.59L10.3 9.45l-7.72 7.72c-.78.78-.78 2.05 0 2.83L4 21.41c.39.39.9.59 1.41.59.51 0 1.02-.2 1.41-.59l7.78-7.78 2.81-2.81c.8-.78.8-2.07 0-2.86zM5.41 20L4 18.59l7.72-7.72 1.47 1.35L5.41 20z\"/>\n",
              "  </svg>\n",
              "      </button>\n",
              "      \n",
              "  <style>\n",
              "    .colab-df-container {\n",
              "      display:flex;\n",
              "      flex-wrap:wrap;\n",
              "      gap: 12px;\n",
              "    }\n",
              "\n",
              "    .colab-df-convert {\n",
              "      background-color: #E8F0FE;\n",
              "      border: none;\n",
              "      border-radius: 50%;\n",
              "      cursor: pointer;\n",
              "      display: none;\n",
              "      fill: #1967D2;\n",
              "      height: 32px;\n",
              "      padding: 0 0 0 0;\n",
              "      width: 32px;\n",
              "    }\n",
              "\n",
              "    .colab-df-convert:hover {\n",
              "      background-color: #E2EBFA;\n",
              "      box-shadow: 0px 1px 2px rgba(60, 64, 67, 0.3), 0px 1px 3px 1px rgba(60, 64, 67, 0.15);\n",
              "      fill: #174EA6;\n",
              "    }\n",
              "\n",
              "    [theme=dark] .colab-df-convert {\n",
              "      background-color: #3B4455;\n",
              "      fill: #D2E3FC;\n",
              "    }\n",
              "\n",
              "    [theme=dark] .colab-df-convert:hover {\n",
              "      background-color: #434B5C;\n",
              "      box-shadow: 0px 1px 3px 1px rgba(0, 0, 0, 0.15);\n",
              "      filter: drop-shadow(0px 1px 2px rgba(0, 0, 0, 0.3));\n",
              "      fill: #FFFFFF;\n",
              "    }\n",
              "  </style>\n",
              "\n",
              "      <script>\n",
              "        const buttonEl =\n",
              "          document.querySelector('#df-0ec7555f-63a0-4dfc-946b-460e67c349e7 button.colab-df-convert');\n",
              "        buttonEl.style.display =\n",
              "          google.colab.kernel.accessAllowed ? 'block' : 'none';\n",
              "\n",
              "        async function convertToInteractive(key) {\n",
              "          const element = document.querySelector('#df-0ec7555f-63a0-4dfc-946b-460e67c349e7');\n",
              "          const dataTable =\n",
              "            await google.colab.kernel.invokeFunction('convertToInteractive',\n",
              "                                                     [key], {});\n",
              "          if (!dataTable) return;\n",
              "\n",
              "          const docLinkHtml = 'Like what you see? Visit the ' +\n",
              "            '<a target=\"_blank\" href=https://colab.research.google.com/notebooks/data_table.ipynb>data table notebook</a>'\n",
              "            + ' to learn more about interactive tables.';\n",
              "          element.innerHTML = '';\n",
              "          dataTable['output_type'] = 'display_data';\n",
              "          await google.colab.output.renderOutput(dataTable, element);\n",
              "          const docLink = document.createElement('div');\n",
              "          docLink.innerHTML = docLinkHtml;\n",
              "          element.appendChild(docLink);\n",
              "        }\n",
              "      </script>\n",
              "    </div>\n",
              "  </div>\n",
              "  "
            ]
          },
          "metadata": {},
          "execution_count": 100
        }
      ]
    },
    {
      "cell_type": "code",
      "source": [
        "#Define a function to determine and plot the frequency of first word in each question of either a coqa or squad 2.0 dataset.\n",
        "def plot_first_word_in_each_question(dataset, name_of_dataset, n):\n",
        "  \"\"\"\n",
        "  dataset - Is the dataset filename or variable name\n",
        "  n - Is the top n words. e.g. n=20 means the top 20 words that begins any question in the respective dataset.\n",
        "  \"\"\"\n",
        "  first_word_count = {}\n",
        "  for idx, row in dataset.iterrows():\n",
        "    first_wrd = row[\"question\"].split()[0]\n",
        "    if first_wrd in first_word_count:\n",
        "      first_word_count[first_wrd] += 1\n",
        "    else:\n",
        "      first_word_count[first_wrd] = 1\n",
        "\n",
        "  first_word_count_df = pd.DataFrame(list(first_word_count.items()),columns = ['Words','Frequency'])\n",
        "  first_word_count_df= first_word_count_df.sort_values('Frequency', ascending = False )[0:n]\n",
        "  plt.figure(figsize=(10,6))\n",
        "  plt.bar('Words', 'Frequency',data=first_word_count_df)\n",
        "  plt.xlabel(\"Words\")\n",
        "  plt.ylabel(\"Count of words\")\n",
        "  plt.title(f\"Frequency of first word in each question in {name_of_dataset} dataset\", size = 18)\n",
        "  plt.xticks(rotation = 90) \n",
        "\n"
      ],
      "metadata": {
        "id": "0WMmbLCJa1gM"
      },
      "execution_count": null,
      "outputs": []
    },
    {
      "cell_type": "code",
      "source": [
        "plot_first_word_in_each_question(coqa_train_df, 'Coqa', 20)"
      ],
      "metadata": {
        "colab": {
          "base_uri": "https://localhost:8080/",
          "height": 479
        },
        "id": "1ZkRFG8fv8V7",
        "outputId": "e6b133a2-b88d-4f52-96c2-b4a2b456dcf6"
      },
      "execution_count": null,
      "outputs": [
        {
          "output_type": "display_data",
          "data": {
            "text/plain": [
              "<Figure size 720x432 with 1 Axes>"
            ],
            "image/png": "[encoded data removed]"
          },
          "metadata": {
            "needs_background": "light"
          }
        }
      ]
    },
    {
      "cell_type": "code",
      "source": [
        "plot_first_word_in_each_question(squad_train_df, 'Squad', 20)"
      ],
      "metadata": {
        "colab": {
          "base_uri": "https://localhost:8080/",
          "height": 517
        },
        "id": "Py7UhnGasZcc",
        "outputId": "5c0e07a9-509c-49d0-9b11-644c9e038397"
      },
      "execution_count": null,
      "outputs": [
        {
          "output_type": "display_data",
          "data": {
            "text/plain": [
              "<Figure size 720x432 with 1 Axes>"
            ],
            "image/png": "[encoded data removed]"
          },
          "metadata": {
            "needs_background": "light"
          }
        }
      ]
    },
    {
      "cell_type": "code",
      "source": [
        "#Define a function to determine and plot the frequency of length of question in the dataset.\n",
        "\n",
        "\n",
        "def plot_len_word_count_in_each_question(dataset, name_of_dataset, n):\n",
        "  \"\"\" dataset - Is the dataset filename or variable name\n",
        "  n - Is the top n longest questions. e.g. n=20 means the top 20 questions with the longest length in the respective dataset.\n",
        "  \"\"\"\n",
        "\n",
        "  length_of_question_count = {}\n",
        "  for idx, row in dataset.iterrows():\n",
        "    # if idx == 1:\n",
        "    #   break\n",
        "    length_of_ques = str(len(row[\"question\"].split()))\n",
        "    if length_of_ques in length_of_question_count:\n",
        "        length_of_question_count[length_of_ques] += 1\n",
        "    else:\n",
        "      length_of_question_count[length_of_ques] = 1\n",
        "  len_ques_count_df = pd.DataFrame(list(length_of_question_count.items()),columns = ['Number_of_words','Frequency'])\n",
        "  len_ques_count_df= len_ques_count_df.sort_values('Frequency', ascending = False )[0:n]\n",
        "  plt.figure(figsize=(10,6))\n",
        "  plt.bar('Number_of_words', 'Frequency',data=len_ques_count_df)\n",
        "  plt.xlabel(\"Number_of_words\")\n",
        "  plt.ylabel(\"Frequency\")\n",
        "  plt.title(f\"Frequency of length of question in {name_of_dataset} dataset\", size = 18)\n",
        "  # plt.xticks(rotation = 90) "
      ],
      "metadata": {
        "id": "u9NKjWZ6APr0"
      },
      "execution_count": null,
      "outputs": []
    },
    {
      "cell_type": "code",
      "source": [
        "plot_len_word_count_in_each_question(coqa_train_df, 'Coqa', 10)"
      ],
      "metadata": {
        "colab": {
          "base_uri": "https://localhost:8080/",
          "height": 429
        },
        "id": "Z9cwMnBqBvoZ",
        "outputId": "39a1a182-087c-45fc-e342-848924228681"
      },
      "execution_count": null,
      "outputs": [
        {
          "output_type": "display_data",
          "data": {
            "text/plain": [
              "<Figure size 720x432 with 1 Axes>"
            ],
            "image/png": "[encoded data removed]"
          },
          "metadata": {
            "needs_background": "light"
          }
        }
      ]
    },
    {
      "cell_type": "code",
      "source": [
        "plot_len_word_count_in_each_question(squad_train_df, 'Squad', 10) "
      ],
      "metadata": {
        "colab": {
          "base_uri": "https://localhost:8080/",
          "height": 429
        },
        "id": "SOvMXhQ5Bvw7",
        "outputId": "df74a90e-d1ff-42fa-ba12-2b0bc4b3ce94"
      },
      "execution_count": null,
      "outputs": [
        {
          "output_type": "display_data",
          "data": {
            "text/plain": [
              "<Figure size 720x432 with 1 Axes>"
            ],
            "image/png": "[encoded data removed]"
          },
          "metadata": {
            "needs_background": "light"
          }
        }
      ]
    },
    {
      "cell_type": "markdown",
      "source": [
        "The analysis of both datasets above showed that there are major differences. Nearly half of SQuAD 2.0 questions are dominated by “what” questions whereas the CoQA dataset has a distribution of other words such as “who”, “how”, “did”, “where”, “was” although questions starting with “what” still took a larger pie of the distribution.\n",
        "Also, if you take a look at the length of the questions in both SQuAD 2.0 and CoQA above,  the CoQA datasets questions are usually shorter compared to questions in the SQuAD 2.0 dataset. This might be due to the conversational nature of the datasets. We can also see that there are a number of questions in the CoQA datasets that only have a length of either 1, 2 or 3 words. Such questions would be difficult for machines to answer.\n"
      ],
      "metadata": {
        "id": "whmXUUr3c3Mb"
      }
    },
    {
      "cell_type": "markdown",
      "source": [
        "## Comparison of Predictions to ground true answers"
      ],
      "metadata": {
        "id": "fc0E7FnOd_aw"
      }
    },
    {
      "cell_type": "markdown",
      "source": [
        "#### Model trained on Coqa and Evaluated on CoQA"
      ],
      "metadata": {
        "id": "uL5l0GujJWzx"
      }
    },
    {
      "cell_type": "markdown",
      "source": [
        "Now let's take a look at the first eighty questions, their ground truth answers and predicted answers by the models. First, we will take a look at that of model 4 since out of all the models trained and evaluated on CoQA datasets, it gave us the best f1 score.  Then after this, we would take a look at model 10 since it was trained on SQuAD 2.0 but evaluated on CoQA."
      ],
      "metadata": {
        "id": "TAAZP71jW1Ov"
      }
    },
    {
      "cell_type": "code",
      "source": [
        "print(\"T/F Logits\\tstart\\tend\\n\")\n",
        "\n",
        "question_counter = 0\n",
        "for i in range(len(model4_start_true_coqa)):\n",
        "  if i == 5:\n",
        "    break\n",
        "  \n",
        "  for j in range(len(model4_start_true_coqa[i])):    \n",
        "    print(f\"Question: {coqa_val_questions[question_counter]}\")\n",
        "    tokens_true = tokenizer.convert_ids_to_tokens(model4_inputIDs[i][j])\n",
        "    tokens_true_list = tokens_true[model4_start_true_coqa[i][j]:model4_end_true_coqa[i][j]+1]    \n",
        "    sentence_true = tokenizer.convert_tokens_to_string(tokens_true_list)\n",
        "    print(f\"True Answer: {sentence_true}\")\n",
        "    print(f\"True Logits\\t{model4_start_true_coqa[i][j]}\\t{model4_end_true_coqa[i][j]}\")\n",
        "    # print(\"\")\n",
        "    tokens_pred = tokenizer.convert_ids_to_tokens(model4_inputIDs[i][j])\n",
        "    tokens_pred_list = tokens_pred[model4_start_pred_coqa[i][j]:model4_end_pred_coqa[i][j]+1]    \n",
        "    sentence_pred = tokenizer.convert_tokens_to_string(tokens_pred_list)\n",
        "    print(f\"Pred Answer: {sentence_pred}\")\n",
        "    print(f\"Pred Logits\\t{model4_start_pred_coqa[i][j]}\\t{model4_end_pred_coqa[i][j]}\")\n",
        "    print(\"\")\n",
        "    question_counter +=1 "
      ],
      "metadata": {
        "colab": {
          "base_uri": "https://localhost:8080/"
        },
        "id": "WfhpwZv3e30m",
        "outputId": "212014b5-f6bf-4eef-9c6e-ac5afb5f5b86"
      },
      "execution_count": null,
      "outputs": [
        {
          "output_type": "stream",
          "name": "stdout",
          "text": [
            "T/F Logits\tstart\tend\n",
            "\n",
            "Question: What color was Cotton?\n",
            "True Answer: a little white kitten named cotton.\n",
            "True Logits\t16\t22\n",
            "Pred Answer: white kitten named cotton.\n",
            "Pred Logits\t18\t22\n",
            "\n",
            "Question: Where did she live?\n",
            "True Answer: in a barn near a farm house, there lived a little white kitten\n",
            "True Logits\t6\t19\n",
            "Pred Answer: once upon a time, in a barn near a farm house, there lived a little white kitten named cotton.\n",
            "Pred Logits\t1\t22\n",
            "\n",
            "Question: Did she live alone?\n",
            "True Answer: cotton wasn ' t alone\n",
            "True Logits\t46\t50\n",
            "Pred Answer: she shared her hay bed with her mommy and 5 other sisters.\n",
            "Pred Logits\t62\t74\n",
            "\n",
            "Question: Who did she live with?\n",
            "True Answer: with her mommy and 5 other sisters.\n",
            "True Logits\t67\t74\n",
            "Pred Answer: she shared her hay bed with her mommy and 5 other sisters.\n",
            "Pred Logits\t62\t74\n",
            "\n",
            "Question: What color were her sisters?\n",
            "True Answer: her sisters were all orange with beautiful white tiger stripes\n",
            "True Logits\t101\t110\n",
            "Pred Answer: \n",
            "Pred Logits\t75\t74\n",
            "\n",
            "Question: Was Cotton happy that she looked different than the rest of her family?\n",
            "True Answer: being different made cotton quite sad.\n",
            "True Logits\t117\t123\n",
            "Pred Answer: she often wished she looked like the rest of her family.\n",
            "Pred Logits\t124\t135\n",
            "\n",
            "Question: What did she do to try to make herself the same color as her sisters?\n",
            "True Answer: she used it to paint herself like them.\n",
            "True Logits\t154\t162\n",
            "Pred Answer: her sisters licked her face until cotton ' s fur was all all dry.\n",
            "Pred Logits\t266\t280\n",
            "\n",
            "Question: Whose paint was it?\n",
            "True Answer: the old farmer ' s orange paint,\n",
            "True Logits\t146\t153\n",
            "Pred Answer: cotton found a can of the old farmer ' s orange paint,\n",
            "Pred Logits\t141\t153\n",
            "\n",
            "Question: What did Cotton's mother and siblings do when they saw her painted orange?\n",
            "True Answer: when her mommy and sisters found her they started laughing.\n",
            "True Logits\t163\t173\n",
            "Pred Answer: when her mommy and sisters found her they started laughing.\n",
            "Pred Logits\t163\t173\n",
            "\n",
            "Question: Where did Cotton's mother put her to clean the paint off?\n",
            "True Answer: mommy picked her up and dropped her into a big bucket of water.\n",
            "True Logits\t243\t256\n",
            "Pred Answer: cotton ' s mommy rubbed her face on cotton ' s and said \" oh cotton, but your fur is so pretty and special, like you. we would never want you to be any other way \". and with that, cotton ' s mommy picked her up and dropped her into a big bucket of water.\n",
            "Pred Logits\t195\t256\n",
            "\n",
            "Question: What did the other cats do when Cotton emerged from the bucket of water?\n",
            "True Answer: her sisters licked her face\n",
            "True Logits\t266\t270\n",
            "Pred Answer: cotton ' s mommy picked her up and dropped her into a big bucket of water.\n",
            "Pred Logits\t240\t256\n",
            "\n",
            "Question: Did they want Cotton to change the color of her fur?\n",
            "True Answer: we would never want you to be any other way \"\n",
            "True Logits\t224\t234\n",
            "Pred Answer: next time you might mess up that pretty white fur of yours and we wouldn ' t want that! \"\n",
            "Pred Logits\t298\t318\n",
            "\n",
            "Question: what was the name of the fish\n",
            "True Answer: \n",
            "True Logits\t512\t10\n",
            "Pred Answer: asta.\n",
            "Pred Logits\t8\t10\n",
            "\n",
            "Question: What looked like a birds belly\n",
            "True Answer: a bottle\n",
            "True Logits\t41\t42\n",
            "Pred Answer: it looks like a bird ' s belly,\n",
            "Pred Logits\t79\t87\n",
            "\n",
            "Question: who said that\n",
            "True Answer: \n",
            "True Logits\t512\t92\n",
            "Pred Answer: \" what is it? \" said asta ' s friend sharkie.\n",
            "Pred Logits\t63\t77\n",
            "\n",
            "Question: Was Sharkie a friend?\n",
            "True Answer: asta ' s friend sharkie.\n",
            "True Logits\t70\t77\n",
            "Pred Answer: \" what is it? \" said asta ' s friend sharkie.\n",
            "Pred Logits\t63\t77\n",
            "\n",
            "Question: did they get the bottle?\n",
            "True Answer: so they caught the bottle\n",
            "True Logits\t141\t145\n",
            "Pred Answer: so they caught the bottle and carried it down to the bottom of the ocean.\n",
            "Pred Logits\t141\t156\n",
            "\n",
            "Question: What was in it\n",
            "True Answer: \n",
            "True Logits\t512\t181\n",
            "Pred Answer: it was a note.\n",
            "Pred Logits\t177\t181\n",
            "\n",
            "Question: Did a little boy write the note\n",
            "True Answer: this note is from a little girl.\n",
            "True Logits\t250\t257\n",
            "Pred Answer: asta ' s papa read the note. he told asta and sharkie, \" this note is from a little girl.\n",
            "Pred Logits\t232\t257\n",
            "\n",
            "Question: Who could read the note\n",
            "True Answer: asta ' s papa read the note.\n",
            "True Logits\t232\t240\n",
            "Pred Answer: sharkie could not read the note.\n",
            "Pred Logits\t203\t210\n",
            "\n",
            "Question: did they write back\n",
            "True Answer: we can write a note to her. but you have to find another bottle so we can send it to her. \" and that is what they did.\n",
            "True Logits\t273\t303\n",
            "Pred Answer: the note was written in orange crayon on white paper.\n",
            "Pred Logits\t182\t194\n",
            "\n",
            "Question: Who is at the door?\n",
            "True Answer: on the step, i find the elderly chinese lady, small and slight, holding the hand of a little boy.\n",
            "True Logits\t5\t27\n",
            "Pred Answer: her daughter bought the house next door last october.\n",
            "Pred Logits\t61\t70\n",
            "\n",
            "Question: Is she carrying something?\n",
            "True Answer: she holds a paper carrier bag.\n",
            "True Logits\t33\t39\n",
            "Pred Answer: she holds a paper carrier bag.\n",
            "Pred Logits\t33\t39\n",
            "\n",
            "Question: What?\n",
            "True Answer: a paper carrier bag.\n",
            "True Logits\t35\t39\n",
            "Pred Answer: my doorbell rings. on the step, i find the elderly chinese lady, small and slight, holding the hand of a little boy. in her other hand, she holds a paper carrier bag. i know this lady. it is not her first visit. she is the boy ' s grandmother, and her daughter bought the house next door last october. her daughter, nicole, speaks fluent english. but she is now in shanghai, and her parents are here with the little boy. nicole has obviously told her mother that i am having heart surgery soon, so her mother has decided i need more nutrients. i know what is inside the bag - - a thermos with hot soup and a stainless - steel container with rice, vegetables and either chicken, meat or shrimp, sometimes with a kind of pancake. this has become an almost - daily practice. communication between us is somewhat affected by the fact that she doesn ' t speak english and all i can say in chinese is hello. once, she brought an ipad as well as the food.\n",
            "Pred Logits\t1\t209\n",
            "\n",
            "Question: Do I know her?\n",
            "True Answer: i know this lady.\n",
            "True Logits\t40\t44\n",
            "Pred Answer: i know this lady.\n",
            "Pred Logits\t40\t44\n",
            "\n",
            "Question: Who is her daughter?\n",
            "True Answer: her daughter, nicole,\n",
            "True Logits\t71\t75\n",
            "Pred Answer: her daughter, nicole,\n",
            "Pred Logits\t71\t75\n",
            "\n",
            "Question: Where does Nicole live?\n",
            "True Answer: \n",
            "True Logits\t512\t86\n",
            "Pred Answer: shanghai,\n",
            "Pred Logits\t85\t86\n",
            "\n",
            "Question: How is she related to the boy?\n",
            "True Answer: she is the boy ' s grandmother, and her daughter bought the house next door last october.\n",
            "True Logits\t52\t70\n",
            "Pred Answer: she is the boy ' s grandmother,\n",
            "Pred Logits\t52\t59\n",
            "\n",
            "Question: What is in the bag?\n",
            "True Answer: a thermos with hot soup and a stainless - steel container with rice, vegetables and either chicken, meat or shrimp, sometimes with a kind of pancake.\n",
            "True Logits\t130\t162\n",
            "Pred Answer: \n",
            "Pred Logits\t130\t39\n",
            "\n",
            "Question: Has she done this before?\n",
            "True Answer: this has become an almost - daily practice.\n",
            "True Logits\t163\t171\n",
            "Pred Answer: once, she brought an ipad as well as the food.\n",
            "Pred Logits\t198\t209\n",
            "\n",
            "Question: Why?\n",
            "True Answer: nicole has obviously told her mother that i am having heart surgery soon, so her mother has decided i need more nutrients.\n",
            "True Logits\t97\t120\n",
            "Pred Answer: so her mother has decided i need more nutrients.\n",
            "Pred Logits\t111\t120\n",
            "\n",
            "Question: What has helped us communicate?\n",
            "True Answer: an ipad\n",
            "True Logits\t202\t203\n",
            "Pred Answer: communication between us is somewhat affected by the fact that she doesn ' t speak english and all i can say in chinese is hello.\n",
            "Pred Logits\t172\t197\n",
            "\n",
            "Question: What kind of dishes does she bring?\n",
            "True Answer: hot soup and a stainless - steel container with rice, vegetables and either chicken, meat or shrimp, sometimes with a kind of pancake.\n",
            "True Logits\t135\t162\n",
            "Pred Answer: she brought an ipad as well as the food.\n",
            "Pred Logits\t200\t209\n",
            "\n",
            "Question: What do I do to help communicate with her?\n",
            "True Answer: i am now working on some more chinese words -\n",
            "True Logits\t401\t410\n",
            "Pred Answer: communication between us is somewhat affected by the fact that she doesn ' t speak english and all i can say in chinese is hello.\n",
            "Pred Logits\t172\t197\n",
            "\n",
            "Question: Do she continue bringing the bag?\n",
            "True Answer: the doorbell keeps ringing and there is the familiar brown paper carrier bag, handed smilingly to me.\n",
            "True Logits\t381\t400\n",
            "Pred Answer: once, she brought an ipad as well as the food.\n",
            "Pred Logits\t198\t209\n",
            "\n",
            "Question: What is the first phrase I learn?\n",
            "True Answer: \" thank you \"\n",
            "True Logits\t426\t429\n",
            "Pred Answer: thank you \" is, of course, the first one. somehow, it seems inadequate.\n",
            "Pred Logits\t427\t444\n",
            "\n",
            "Question: Is someone in showbiz?\n",
            "True Answer: \n",
            "True Logits\t512\t56\n",
            "Pred Answer: dennis farina, the dapper, mustachioed cop - turned - actor\n",
            "Pred Logits\t6\t21\n",
            "\n",
            "Question: Whom?\n",
            "True Answer: \n",
            "True Logits\t512\t57\n",
            "Pred Answer: dennis farina, the dapper, mustachioed cop - turned - actor best known for his tough - as - nails work in such tv series as \" law & order, \" \" crime story, \" and \" miami vice, \" has died. he was 69. \" we are deeply saddened by the loss of a great actor and a wonderful man, \" said his publicist, lori de waal, in a statement monday. \" dennis farina was always warmhearted and professional, with a great sense of humor and passion for his profession. he will be greatly missed by his family, friends and colleagues. \" farina, who had a long career as a police officer in chicago, got into acting through director michael mann, who used him as a consultant and cast him in his 1981 movie, \" thief. \" that role led to others in such mann - created shows as \" miami vice \" ( in which farina played a mobster ) and \" crime story \" ( in which he starred as lt. mike torello ). farina also had roles, generally as either cops or gangsters, in a number of movies, including \" midnight run \" ( 1988 ), \" get shorty \" ( 1995 ), \" the mod squad \" ( 1999 ) and \" snatch \" ( 2000 ). in 2004, he joined the cast of the long - running \" law & order \" after jerry orbach ' s departure, playing detective joe fontana,\n",
            "Pred Logits\t6\t300\n",
            "\n",
            "Question: What did he do?\n",
            "True Answer: \n",
            "True Logits\t512\t22\n",
            "Pred Answer: cast him in his 1981 movie, \" thief. \" that role led to others in such mann - created shows as \" miami vice \" ( in which farina played a mobster ) and \" crime story \" ( in which he starred as lt. mike torello ). farina also had roles, generally as either cops or gangsters, in a number of movies, including \" midnight run \" ( 1988 ), \" get shorty \" ( 1995 ), \" the mod squad \" ( 1999 ) and \" snatch \" ( 2000 ). in 2004, he joined the cast of the long - running \" law & order \" after jerry orbach ' s departure, playing detective joe fontana,\n",
            "Pred Logits\t162\t300\n",
            "\n",
            "Question: Is he still alive?\n",
            "True Answer: dennis farina, the dapper, mustachioed cop - turned - actor best known for his tough - as - nails work in such tv series as \" law & order, \" \" crime story, \" and \" miami vice, \" has died.\n",
            "True Logits\t6\t56\n",
            "Pred Answer: dennis farina, the dapper, mustachioed cop - turned - actor best known for his tough - as - nails work in such tv series as \" law & order, \" \" crime story, \" and \" miami vice, \" has died. he was 69.\n",
            "Pred Logits\t6\t60\n",
            "\n",
            "Question: Was he in movies?\n",
            "True Answer: farina, who had a long career as a police officer in chicago, got into acting through director michael mann, who used him as a consultant and cast him in his 1981 movie, \" thief. \"\n",
            "True Logits\t132\t172\n",
            "Pred Answer: farina also had roles, generally as either cops or gangsters, in a number of movies,\n",
            "Pred Logits\t217\t236\n",
            "\n",
            "Question: Anything recent?\n",
            "True Answer: farina also had roles, generally as either cops or gangsters, in a number of movies, including \" midnight run \" ( 1988 ), \" get shorty \" ( 1995 ), \" the mod squad \" ( 1999 ) and \" snatch \" ( 2000 ).\n",
            "True Logits\t217\t270\n",
            "Pred Answer: farina also had roles, generally as either cops or gangsters, in a number of movies, including \" midnight run \" ( 1988 ), \" get shorty \" ( 1995 ), \" the mod squad \" ( 1999 ) and \" snatch \" ( 2000 ).\n",
            "Pred Logits\t217\t270\n",
            "\n",
            "Question: What happened in the early 80's?\n",
            "True Answer: \n",
            "True Logits\t512\t172\n",
            "Pred Answer: he was 69.\n",
            "Pred Logits\t57\t60\n",
            "\n",
            "Question: Who cast him?\n",
            "True Answer: farina, who had a long career as a police officer in chicago, got into acting through director michael mann, who used him as a consultant and cast him\n",
            "True Logits\t132\t163\n",
            "Pred Answer: farina, who had a long career as a police officer in chicago, got into acting through director michael mann, who used him as a consultant and cast him in his 1981 movie, \" thief. \"\n",
            "Pred Logits\t132\t172\n",
            "\n",
            "Question: What was the title of the movie?\n",
            "True Answer: farina, who had a long career as a police officer in chicago, got into acting through director michael mann, who used him as a consultant and cast him in his 1981 movie, \" thief. \"\n",
            "True Logits\t132\t172\n",
            "Pred Answer: \n",
            "Pred Logits\t239\t172\n",
            "\n",
            "Question: What parts did he usually get?\n",
            "True Answer: farina also had roles, generally as either cops or gangsters, in a number of movies, including \" midnight run \" ( 1988 ), \" get shorty \" ( 1995 ), \" the mod squad \" ( 1999 ) and \" snatch \" ( 2000 ).\n",
            "True Logits\t217\t270\n",
            "Pred Answer: farina also had roles, generally as either cops or gangsters,\n",
            "Pred Logits\t217\t230\n",
            "\n",
            "Question: What happened in 2004?\n",
            "True Answer: in 2004, he joined the cast of the long - running \" law & order \" after\n",
            "True Logits\t271\t288\n",
            "Pred Answer: in 2004, he joined the cast of the long - running \" law & order \"\n",
            "Pred Logits\t271\t287\n",
            "\n",
            "Question: Which one?\n",
            "True Answer: in 2004, he joined the cast of the long - running \" law & order \" after jerry orbach ' s departure,\n",
            "True Logits\t271\t295\n",
            "Pred Answer: \n",
            "Pred Logits\t217\t172\n",
            "\n",
            "Question: Who did he portray?\n",
            "True Answer: in 2004, he joined the cast of the long - running \" law & order \" after jerry orbach ' s departure, playing detective joe fontana,\n",
            "True Logits\t271\t300\n",
            "Pred Answer: joe fontana,\n",
            "Pred Logits\t298\t300\n",
            "\n",
            "Question: Did he have a beater for a car?\n",
            "True Answer: fontana was known for flashy clothes and an expensive car, a distinct counterpoint to orbach ' s rumpled lennie briscoe.\n",
            "True Logits\t315\t343\n",
            "Pred Answer: fontana was known for flashy clothes and an expensive car,\n",
            "Pred Logits\t315\t326\n",
            "\n",
            "Question: What did he have?\n",
            "True Answer: \n",
            "True Logits\t512\t343\n",
            "Pred Answer: farina, who had a long career as a police officer in chicago,\n",
            "Pred Logits\t132\t146\n",
            "\n",
            "Question: Were the characters clothes frumpy?\n",
            "True Answer: fontana was known for flashy clothes and an expensive car, a distinct counterpoint to orbach ' s rumpled lennie briscoe.\n",
            "True Logits\t315\t343\n",
            "Pred Answer: fontana was known for flashy clothes and an expensive car,\n",
            "Pred Logits\t315\t326\n",
            "\n",
            "Question: What were they like?\n",
            "True Answer: fontana was known for flashy clothes and an expensive car, a distinct counterpoint to orbach ' s rumpled lennie briscoe.\n",
            "True Logits\t315\t343\n",
            "Pred Answer: \n",
            "Pred Logits\t217\t188\n",
            "\n",
            "Question: Was he on the show for five years?\n",
            "True Answer: farina was on \" law & order \" for two years, partnered\n",
            "True Logits\t344\t357\n",
            "Pred Answer: farina was on \" law & order \" for two years,\n",
            "Pred Logits\t344\t356\n",
            "\n",
            "Question: Was he always an actor?\n",
            "True Answer: \n",
            "True Logits\t512\t42\n",
            "Pred Answer: dennis farina was always warmhearted and professional,\n",
            "Pred Logits\t96\t105\n",
            "\n",
            "Question: What had he been before?\n",
            "True Answer: \n",
            "True Logits\t512\t22\n",
            "Pred Answer: farina, who had a long career as a police officer in chicago, got into acting through director michael mann, who used him as a consultant and cast him in his 1981 movie, \" thief. \" that role led to others in such mann - created shows as \" miami vice \" ( in which farina played a mobster ) and \" crime story \" ( in which he starred as lt. mike torello ). farina also had roles, generally as either cops or gangsters, in a number of movies, including \" midnight run \" ( 1988 ), \" get shorty \" ( 1995 ), \" the mod squad \" ( 1999 ) and \" snatch \" ( 2000 ). in 2004, he joined the cast of the long - running \" law & order \" after jerry orbach ' s departure,\n",
            "Pred Logits\t132\t295\n",
            "\n",
            "Question: Where do Quinton and Kendra travel to and from every day?\n",
            "True Answer: kendra and quinton travel to and from school every day.\n",
            "True Logits\t1\t12\n",
            "Pred Answer: kendra and quinton travel to and from school every day.\n",
            "Pred Logits\t1\t12\n",
            "\n",
            "Question: Does Quinton live further from the bus stop?\n",
            "True Answer: kendra lives further from the bus stop than quinton\n",
            "True Logits\t13\t22\n",
            "Pred Answer: kendra lives further from the bus stop than quinton does,\n",
            "Pred Logits\t13\t24\n",
            "\n",
            "Question: What do they do every afternoon after school?\n",
            "True Answer: every afternoon, after school, when walking home from the bus stop they go in for cookies and milk that quinton ' s mother has ready and waiting for them.\n",
            "True Logits\t44\t76\n",
            "Pred Answer: every afternoon, after school, when walking home from the bus stop they go in for cookies and milk that quinton ' s mother has ready and waiting for them.\n",
            "Pred Logits\t44\t76\n",
            "\n",
            "Question: Does Quinton eat cheese?\n",
            "True Answer: quinton can ' t eat cheese\n",
            "True Logits\t77\t83\n",
            "Pred Answer: quinton can ' t eat cheese or cake\n",
            "Pred Logits\t77\t85\n",
            "\n",
            "Question: Do they play before their homework?\n",
            "True Answer: they both work together on their homework and when they are done they play together.\n",
            "True Logits\t95\t110\n",
            "Pred Answer: they both work together on their homework and when they are done they play together.\n",
            "Pred Logits\t95\t110\n",
            "\n",
            "Question: What does Kendra not want to miss?\n",
            "True Answer: she doesn ' t want to miss story time\n",
            "True Logits\t125\t133\n",
            "Pred Answer: kendra didn ' t want to miss the bus to school and hurried off to make it in time.\n",
            "Pred Logits\t243\t262\n",
            "\n",
            "Question: When is that?\n",
            "True Answer: which was right before bedtime.\n",
            "True Logits\t134\t140\n",
            "Pred Answer: every afternoon, after school, when walking home from the bus stop they go in for cookies and milk that quinton ' s mother has ready and waiting for them. quinton can ' t eat cheese or cake so they had the same snack every day. they both work together on their homework and when they are done they play together. kendra always makes sure to leave in time to get home for dinner. she doesn ' t want to miss story time which was right before bedtime. one morning kendra walked up to quinton ' s house, she thought something might be wrong because normally quinton was waiting outside for her and on this morning he was not to be found. kendra went up to the door and knocked. she waited and waited and yet no one answered. she saw that quinton ' s mother ' s car wasn ' t in their driveway which was weird. she waited for a few bit looking up and down the block and getting worried when quinton was nowhere to be found. kendra didn ' t want to miss the bus to school and hurried off to make it in time. the bus driver saw that she was upset and that quinton was not with her that morning.\n",
            "Pred Logits\t44\t281\n",
            "\n",
            "Question: What happened when Kendra knocked on Quinton's door?\n",
            "True Answer: no one answered.\n",
            "True Logits\t194\t197\n",
            "Pred Answer: kendra went up to the door and knocked.\n",
            "Pred Logits\t179\t187\n",
            "\n",
            "Question: Did she see the car?\n",
            "True Answer: she saw that quinton ' s mother ' s car wasn ' t in their driveway\n",
            "True Logits\t198\t214\n",
            "Pred Answer: she saw that quinton ' s mother ' s car wasn ' t in their driveway which was weird.\n",
            "Pred Logits\t198\t218\n",
            "\n",
            "Question: Did she miss the bus?\n",
            "True Answer: kendra didn ' t want to miss the bus to school and hurried off to make it in time.\n",
            "True Logits\t243\t262\n",
            "Pred Answer: kendra didn ' t want to miss the bus to school and hurried off to make it in time.\n",
            "Pred Logits\t243\t262\n",
            "\n",
            "Question: What did the bus driver see?\n",
            "True Answer: the bus driver saw that she was upset\n",
            "True Logits\t263\t270\n",
            "Pred Answer: the bus driver saw that she was upset and that quinton was not with her that morning.\n",
            "Pred Logits\t263\t281\n",
            "\n",
            "Question: Did Kendra tell him why?\n",
            "True Answer: she told him what happened\n",
            "True Logits\t282\t286\n",
            "Pred Answer: she told him what happened and he said that he was sure that everything would be okay.\n",
            "Pred Logits\t282\t299\n",
            "\n",
            "Question: What did he say?\n",
            "True Answer: he said that he was sure that everything would be okay.\n",
            "True Logits\t288\t299\n",
            "Pred Answer: he said that he was sure that everything would be okay.\n",
            "Pred Logits\t288\t299\n",
            "\n",
            "Question: When she got to school, who did she tell?\n",
            "True Answer: \n",
            "True Logits\t512\t316\n",
            "Pred Answer: kendra got to school, ran to her teacher and told him what happened that morning.\n",
            "Pred Logits\t300\t316\n",
            "\n",
            "Question: Did he frown?\n",
            "True Answer: the teacher smiled\n",
            "True Logits\t317\t319\n",
            "Pred Answer: the teacher smiled and told her not to worry,\n",
            "Pred Logits\t317\t326\n",
            "\n",
            "Question: Who had called?\n",
            "True Answer: \n",
            "True Logits\t512\t333\n",
            "Pred Answer: quinton ' s mother had called\n",
            "Pred Logits\t327\t333\n",
            "\n",
            "Question: Where did he go?\n",
            "True Answer: he was going to the dentist\n",
            "True Logits\t335\t340\n",
            "Pred Answer: he was going to the dentist\n",
            "Pred Logits\t335\t340\n",
            "\n",
            "Question: When would he be back?\n",
            "True Answer: would be at school after lunch\n",
            "True Logits\t342\t347\n",
            "Pred Answer: he was going to the dentist and would be at school after lunch\n",
            "Pred Logits\t335\t347\n",
            "\n",
            "Question: How many burroughs are there?\n",
            "True Answer: five\n",
            "True Logits\t7\t7\n",
            "Pred Answer: st. george, tompkinsville, clifton, and stapleton —\n",
            "Pred Logits\t200\t213\n",
            "\n",
            "Question: in what city?\n",
            "True Answer: new york city\n",
            "True Logits\t10\t12\n",
            "Pred Answer: staten island is one of the five boroughs of new york city in the u. s. state of new york.\n",
            "Pred Logits\t1\t23\n",
            "\n",
            "Question: and state?\n",
            "True Answer: new york.\n",
            "True Logits\t21\t23\n",
            "Pred Answer: staten island is one of the five boroughs of new york city in the u. s. state of new york.\n",
            "Pred Logits\t1\t23\n",
            "\n",
            "Question: Is staten island one?\n",
            "True Answer: one of\n",
            "True Logits\t4\t5\n",
            "Pred Answer: staten island is one of the five boroughs of new york city in the u. s. state of new york.\n",
            "Pred Logits\t1\t23\n",
            "\n",
            "Question: Where is it?\n",
            "True Answer: . in the southwest of the city,\n",
            "True Logits\t23\t30\n",
            "Pred Answer: staten island is one of the five boroughs of new york city in the u. s. state of new york.\n",
            "Pred Logits\t1\t23\n",
            "\n",
            "Question: What separates it from new jersey?\n",
            "True Answer: \n",
            "True Logits\t512\t79\n",
            "Pred Answer: the borough is separated from new jersey by the arthur kill and the kill van kull,\n",
            "Pred Logits\t62\t79\n",
            "\n"
          ]
        }
      ]
    },
    {
      "cell_type": "markdown",
      "source": [
        "#### Model trained on Squad and Evaluated on CoQA"
      ],
      "metadata": {
        "id": "qBC_jZMl-IAu"
      }
    },
    {
      "cell_type": "code",
      "source": [
        "print(\"T/F Logits\\tstart\\tend\\n\")\n",
        "\n",
        "question_counter = 0\n",
        "for i in range(len(model10_start_true_squad)):\n",
        "  if i == 5:\n",
        "    break\n",
        "  \n",
        "  for j in range(len(model10_start_true_squad[i])):    \n",
        "    print(f\"Question: {coqa_val_questions[question_counter]}\")\n",
        "    tokens_true = tokenizer.convert_ids_to_tokens(model10_inputIDs_squad[i][j])\n",
        "    tokens_true_list = tokens_true[model10_start_true_squad[i][j]:model10_end_true_squad[i][j]+1]    \n",
        "    sentence_true = tokenizer.convert_tokens_to_string(tokens_true_list)\n",
        "    print(f\"True Answer: {sentence_true}\")\n",
        "    print(f\"True Logits\\t{model10_start_true_squad[i][j]}\\t{model10_end_true_squad[i][j]}\")\n",
        "    # print(\"\")\n",
        "    tokens_pred = tokenizer.convert_ids_to_tokens(model10_inputIDs_squad[i][j])\n",
        "    tokens_pred_list = tokens_pred[model10_start_pred_squad[i][j]:model10_end_pred_squad[i][j]+1]    \n",
        "    sentence_pred = tokenizer.convert_tokens_to_string(tokens_pred_list)\n",
        "    print(f\"Pred Answer: {sentence_pred}\")\n",
        "    print(f\"Pred Logits\\t{model10_start_pred_squad[i][j]}\\t{model10_end_pred_squad[i][j]}\")\n",
        "    print(\"\")\n",
        "    question_counter +=1 "
      ],
      "metadata": {
        "id": "CQUXyhfEHvjP",
        "colab": {
          "base_uri": "https://localhost:8080/"
        },
        "outputId": "e4548c41-f99c-41cb-b714-5a748fcb120d"
      },
      "execution_count": null,
      "outputs": [
        {
          "output_type": "stream",
          "name": "stdout",
          "text": [
            "T/F Logits\tstart\tend\n",
            "\n",
            "Question: What color was Cotton?\n",
            "True Answer: a little white kitten named cotton.\n",
            "True Logits\t16\t22\n",
            "Pred Answer: white\n",
            "Pred Logits\t92\t92\n",
            "\n",
            "Question: Where did she live?\n",
            "True Answer: in a barn near a farm house, there lived a little white kitten\n",
            "True Logits\t6\t19\n",
            "Pred Answer: high up in a nice warm place above the barn\n",
            "Pred Logits\t25\t34\n",
            "\n",
            "Question: Did she live alone?\n",
            "True Answer: cotton wasn ' t alone\n",
            "True Logits\t46\t50\n",
            "Pred Answer: shared her hay bed with her mommy and 5 other sisters. all of her sisters were cute and fluffy, like cotton. but she was the only white one in the bunch. the rest of her sisters were all orange with beautiful white tiger stripes like cotton ' s mommy. being different made cotton quite sad. she often wished she looked like the rest of her family. so one day, when cotton found a can of the old farmer ' s orange paint, she used it to paint herself like them. when her mommy and sisters found her they started laughing. \" what are you doing, cotton?! \" \" i only wanted to be more like you \". cotton ' s mommy rubbed her face on cotton ' s and said \" oh cotton, but your fur is so pretty and special, like you. we would never want you to be any other way \". and with that, cotton ' s mommy picked her up and dropped her into a big bucket of water.\n",
            "Pred Logits\t63\t256\n",
            "\n",
            "Question: Who did she live with?\n",
            "True Answer: with her mommy and 5 other sisters.\n",
            "True Logits\t67\t74\n",
            "Pred Answer: her mommy and 5 other sisters.\n",
            "Pred Logits\t68\t74\n",
            "\n",
            "Question: What color were her sisters?\n",
            "True Answer: her sisters were all orange with beautiful white tiger stripes\n",
            "True Logits\t101\t110\n",
            "Pred Answer: orange\n",
            "Pred Logits\t105\t105\n",
            "\n",
            "Question: Was Cotton happy that she looked different than the rest of her family?\n",
            "True Answer: being different made cotton quite sad.\n",
            "True Logits\t117\t123\n",
            "Pred Answer: paint herself like them. when her mommy and sisters found her they started laughing. \" what are you doing, cotton?! \" \" i only wanted to be more like you \". cotton ' s mommy rubbed her face on cotton ' s and said \" oh cotton, but your fur is so pretty and special, like you. we would never want you to be any other way \". and with that, cotton ' s mommy picked her up and dropped her into a big bucket of water. when cotton came out she was herself again. her sisters licked her face\n",
            "Pred Logits\t158\t270\n",
            "\n",
            "Question: What did she do to try to make herself the same color as her sisters?\n",
            "True Answer: she used it to paint herself like them.\n",
            "True Logits\t154\t162\n",
            "Pred Answer: licked her face\n",
            "Pred Logits\t268\t270\n",
            "\n",
            "Question: Whose paint was it?\n",
            "True Answer: the old farmer ' s orange paint,\n",
            "True Logits\t146\t153\n",
            "Pred Answer: farmer ' s orange\n",
            "Pred Logits\t148\t151\n",
            "\n",
            "Question: What did Cotton's mother and siblings do when they saw her painted orange?\n",
            "True Answer: when her mommy and sisters found her they started laughing.\n",
            "True Logits\t163\t173\n",
            "Pred Answer: laughing.\n",
            "Pred Logits\t172\t173\n",
            "\n",
            "Question: Where did Cotton's mother put her to clean the paint off?\n",
            "True Answer: mommy picked her up and dropped her into a big bucket of water.\n",
            "True Logits\t243\t256\n",
            "Pred Answer: dropped her into a big bucket of water.\n",
            "Pred Logits\t248\t256\n",
            "\n",
            "Question: What did the other cats do when Cotton emerged from the bucket of water?\n",
            "True Answer: her sisters licked her face\n",
            "True Logits\t266\t270\n",
            "Pred Answer: \n",
            "Pred Logits\t248\t246\n",
            "\n",
            "Question: Did they want Cotton to change the color of her fur?\n",
            "True Answer: we would never want you to be any other way \"\n",
            "True Logits\t224\t234\n",
            "Pred Answer: \n",
            "Pred Logits\t302\t270\n",
            "\n",
            "Question: what was the name of the fish\n",
            "True Answer: \n",
            "True Logits\t512\t10\n",
            "Pred Answer: asta.\n",
            "Pred Logits\t8\t10\n",
            "\n",
            "Question: What looked like a birds belly\n",
            "True Answer: a bottle\n",
            "True Logits\t41\t42\n",
            "Pred Answer: it looks like a bird ' s belly,\n",
            "Pred Logits\t79\t87\n",
            "\n",
            "Question: who said that\n",
            "True Answer: \n",
            "True Logits\t512\t92\n",
            "Pred Answer: sharkie.\n",
            "Pred Logits\t75\t77\n",
            "\n",
            "Question: Was Sharkie a friend?\n",
            "True Answer: asta ' s friend sharkie.\n",
            "True Logits\t70\t77\n",
            "Pred Answer: it looks like a bird ' s belly, \"\n",
            "Pred Logits\t79\t88\n",
            "\n",
            "Question: did they get the bottle?\n",
            "True Answer: so they caught the bottle\n",
            "True Logits\t141\t145\n",
            "Pred Answer: they wanted to see what was inside.\n",
            "Pred Logits\t133\t140\n",
            "\n",
            "Question: What was in it\n",
            "True Answer: \n",
            "True Logits\t512\t181\n",
            "Pred Answer: orange crayon\n",
            "Pred Logits\t187\t190\n",
            "\n",
            "Question: Did a little boy write the note\n",
            "True Answer: this note is from a little girl.\n",
            "True Logits\t250\t257\n",
            "Pred Answer: she wants to be your friend.\n",
            "Pred Logits\t258\t264\n",
            "\n",
            "Question: Who could read the note\n",
            "True Answer: asta ' s papa read the note.\n",
            "True Logits\t232\t240\n",
            "Pred Answer: sharkie\n",
            "Pred Logits\t203\t204\n",
            "\n",
            "Question: did they write back\n",
            "True Answer: we can write a note to her. but you have to find another bottle so we can send it to her. \" and that is what they did.\n",
            "True Logits\t273\t303\n",
            "Pred Answer: \n",
            "Pred Logits\t265\t264\n",
            "\n",
            "Question: Who is at the door?\n",
            "True Answer: on the step, i find the elderly chinese lady, small and slight, holding the hand of a little boy.\n",
            "True Logits\t5\t27\n",
            "Pred Answer: her daughter bought the house next door last october. her daughter, nicole, speaks fluent english. but she is now in shanghai, and her parents are here with the little boy.\n",
            "Pred Logits\t61\t96\n",
            "\n",
            "Question: Is she carrying something?\n",
            "True Answer: she holds a paper carrier bag.\n",
            "True Logits\t33\t39\n",
            "Pred Answer: ipad\n",
            "Pred Logits\t203\t203\n",
            "\n",
            "Question: What?\n",
            "True Answer: a paper carrier bag.\n",
            "True Logits\t35\t39\n",
            "Pred Answer: \n",
            "Pred Logits\t365\t314\n",
            "\n",
            "Question: Do I know her?\n",
            "True Answer: i know this lady.\n",
            "True Logits\t40\t44\n",
            "Pred Answer: her mother wanted to know if the food was all right and whether it was too salty.\n",
            "Pred Logits\t226\t243\n",
            "\n",
            "Question: Who is her daughter?\n",
            "True Answer: her daughter, nicole,\n",
            "True Logits\t71\t75\n",
            "Pred Answer: bought the house next door last october. her daughter, nicole, speaks fluent english.\n",
            "Pred Logits\t63\t79\n",
            "\n",
            "Question: Where does Nicole live?\n",
            "True Answer: \n",
            "True Logits\t512\t86\n",
            "Pred Answer: shanghai,\n",
            "Pred Logits\t85\t86\n",
            "\n",
            "Question: How is she related to the boy?\n",
            "True Answer: she is the boy ' s grandmother, and her daughter bought the house next door last october.\n",
            "True Logits\t52\t70\n",
            "Pred Answer: grandmother,\n",
            "Pred Logits\t58\t59\n",
            "\n",
            "Question: What is in the bag?\n",
            "True Answer: a thermos with hot soup and a stainless - steel container with rice, vegetables and either chicken, meat or shrimp, sometimes with a kind of pancake.\n",
            "True Logits\t130\t162\n",
            "Pred Answer: hello. once, she brought an ipad as well as the food. she pointed to the screen, which displayed a message from her daughter telling me that her mother wanted to know if the food was all right and whether it was too salty. i am not used to ipads, so she indicated i should go with her to her house. then, she handed the ipad to her husband and almost immediately i found myself looking at nicole in shanghai and discussing her mother ' s cooking and salt intake. instantly, tears welled in my eyes. \" your mother just can ' t be bringing me meals like this all the time, \" i insisted. \" i can hardly do dishes\n",
            "Pred Logits\t196\t330\n",
            "\n",
            "Question: Has she done this before?\n",
            "True Answer: this has become an almost - daily practice.\n",
            "True Logits\t163\t171\n",
            "Pred Answer: cook for the three of them anyway,\n",
            "Pred Logits\t365\t372\n",
            "\n",
            "Question: Why?\n",
            "True Answer: nicole has obviously told her mother that i am having heart surgery soon, so her mother has decided i need more nutrients.\n",
            "True Logits\t97\t120\n",
            "Pred Answer: \n",
            "Pred Logits\t441\t243\n",
            "\n",
            "Question: What has helped us communicate?\n",
            "True Answer: an ipad\n",
            "True Logits\t202\t203\n",
            "Pred Answer: \n",
            "Pred Logits\t257\t243\n",
            "\n",
            "Question: What kind of dishes does she bring?\n",
            "True Answer: hot soup and a stainless - steel container with rice, vegetables and either chicken, meat or shrimp, sometimes with a kind of pancake.\n",
            "True Logits\t135\t162\n",
            "Pred Answer: ipad\n",
            "Pred Logits\t203\t203\n",
            "\n",
            "Question: What do I do to help communicate with her?\n",
            "True Answer: i am now working on some more chinese words -\n",
            "True Logits\t401\t410\n",
            "Pred Answer: \n",
            "Pred Logits\t201\t197\n",
            "\n",
            "Question: Do she continue bringing the bag?\n",
            "True Answer: the doorbell keeps ringing and there is the familiar brown paper carrier bag, handed smilingly to me.\n",
            "True Logits\t381\t400\n",
            "Pred Answer: your mother just can ' t be bringing me meals like this all the time, \" i insisted. \" i can hardly do dishes in return. \" \" oh, no, lucy. \" nicole said. \" mum doesn ' t like western food. don ' t worry about it ; she has to cook for the three of them anyway, and she wants to do it.\n",
            "Pred Logits\t305\t379\n",
            "\n",
            "Question: What is the first phrase I learn?\n",
            "True Answer: \" thank you \"\n",
            "True Logits\t426\t429\n",
            "Pred Answer: \n",
            "Pred Logits\t427\t330\n",
            "\n",
            "Question: Is someone in showbiz?\n",
            "True Answer: \n",
            "True Logits\t512\t56\n",
            "Pred Answer: joe fontana,\n",
            "Pred Logits\t298\t300\n",
            "\n",
            "Question: Whom?\n",
            "True Answer: \n",
            "True Logits\t512\t57\n",
            "Pred Answer: joe fontana,\n",
            "Pred Logits\t298\t300\n",
            "\n",
            "Question: What did he do?\n",
            "True Answer: \n",
            "True Logits\t512\t22\n",
            "Pred Answer: detective joe fontana, a role he reprised on the spinoff \" trial by jury.\n",
            "Pred Logits\t297\t313\n",
            "\n",
            "Question: Is he still alive?\n",
            "True Answer: dennis farina, the dapper, mustachioed cop - turned - actor best known for his tough - as - nails work in such tv series as \" law & order, \" \" crime story, \" and \" miami vice, \" has died.\n",
            "True Logits\t6\t56\n",
            "Pred Answer: 69.\n",
            "Pred Logits\t59\t60\n",
            "\n",
            "Question: Was he in movies?\n",
            "True Answer: farina, who had a long career as a police officer in chicago, got into acting through director michael mann, who used him as a consultant and cast him in his 1981 movie, \" thief. \"\n",
            "True Logits\t132\t172\n",
            "Pred Answer: joe fontana,\n",
            "Pred Logits\t298\t300\n",
            "\n",
            "Question: Anything recent?\n",
            "True Answer: farina also had roles, generally as either cops or gangsters, in a number of movies, including \" midnight run \" ( 1988 ), \" get shorty \" ( 1995 ), \" the mod squad \" ( 1999 ) and \" snatch \" ( 2000 ).\n",
            "True Logits\t217\t270\n",
            "Pred Answer: joe fontana, a role he reprised on the spinoff \" trial by jury.\n",
            "Pred Logits\t298\t313\n",
            "\n",
            "Question: What happened in the early 80's?\n",
            "True Answer: \n",
            "True Logits\t512\t172\n",
            "Pred Answer: \n",
            "Pred Logits\t57\t56\n",
            "\n",
            "Question: Who cast him?\n",
            "True Answer: farina, who had a long career as a police officer in chicago, got into acting through director michael mann, who used him as a consultant and cast him\n",
            "True Logits\t132\t163\n",
            "Pred Answer: michael mann,\n",
            "Pred Logits\t152\t154\n",
            "\n",
            "Question: What was the title of the movie?\n",
            "True Answer: farina, who had a long career as a police officer in chicago, got into acting through director michael mann, who used him as a consultant and cast him in his 1981 movie, \" thief. \"\n",
            "True Logits\t132\t172\n",
            "Pred Answer: trial by jury. \"\n",
            "Pred Logits\t310\t314\n",
            "\n",
            "Question: What parts did he usually get?\n",
            "True Answer: farina also had roles, generally as either cops or gangsters, in a number of movies, including \" midnight run \" ( 1988 ), \" get shorty \" ( 1995 ), \" the mod squad \" ( 1999 ) and \" snatch \" ( 2000 ).\n",
            "True Logits\t217\t270\n",
            "Pred Answer: warmhearted and professional,\n",
            "Pred Logits\t101\t105\n",
            "\n",
            "Question: What happened in 2004?\n",
            "True Answer: in 2004, he joined the cast of the long - running \" law & order \" after\n",
            "True Logits\t271\t288\n",
            "Pred Answer: after jerry orbach ' s departure,\n",
            "Pred Logits\t288\t295\n",
            "\n",
            "Question: Which one?\n",
            "True Answer: in 2004, he joined the cast of the long - running \" law & order \" after jerry orbach ' s departure,\n",
            "True Logits\t271\t295\n",
            "Pred Answer: joe fontana,\n",
            "Pred Logits\t298\t300\n",
            "\n",
            "Question: Who did he portray?\n",
            "True Answer: in 2004, he joined the cast of the long - running \" law & order \" after jerry orbach ' s departure, playing detective joe fontana,\n",
            "True Logits\t271\t300\n",
            "Pred Answer: joe fontana,\n",
            "Pred Logits\t298\t300\n",
            "\n",
            "Question: Did he have a beater for a car?\n",
            "True Answer: fontana was known for flashy clothes and an expensive car, a distinct counterpoint to orbach ' s rumpled lennie briscoe.\n",
            "True Logits\t315\t343\n",
            "Pred Answer: joe fontana,\n",
            "Pred Logits\t298\t300\n",
            "\n",
            "Question: What did he have?\n",
            "True Answer: \n",
            "True Logits\t512\t343\n",
            "Pred Answer: joe fontana, a role he reprised on the spinoff \" trial by jury. \" fontana was known for flashy clothes and an expensive car,\n",
            "Pred Logits\t298\t326\n",
            "\n",
            "Question: Were the characters clothes frumpy?\n",
            "True Answer: fontana was known for flashy clothes and an expensive car, a distinct counterpoint to orbach ' s rumpled lennie briscoe.\n",
            "True Logits\t315\t343\n",
            "Pred Answer: joe fontana,\n",
            "Pred Logits\t298\t300\n",
            "\n",
            "Question: What were they like?\n",
            "True Answer: fontana was known for flashy clothes and an expensive car, a distinct counterpoint to orbach ' s rumpled lennie briscoe.\n",
            "True Logits\t315\t343\n",
            "Pred Answer: tough - as - nails\n",
            "Pred Logits\t26\t30\n",
            "\n",
            "Question: Was he on the show for five years?\n",
            "True Answer: farina was on \" law & order \" for two years, partnered\n",
            "True Logits\t344\t357\n",
            "Pred Answer: joe fontana,\n",
            "Pred Logits\t298\t300\n",
            "\n",
            "Question: Was he always an actor?\n",
            "True Answer: \n",
            "True Logits\t512\t42\n",
            "Pred Answer: warmhearted and professional,\n",
            "Pred Logits\t101\t105\n",
            "\n",
            "Question: What had he been before?\n",
            "True Answer: \n",
            "True Logits\t512\t22\n",
            "Pred Answer: senior detective\n",
            "Pred Logits\t374\t375\n",
            "\n",
            "Question: Where do Quinton and Kendra travel to and from every day?\n",
            "True Answer: kendra and quinton travel to and from school every day.\n",
            "True Logits\t1\t12\n",
            "Pred Answer: stops every morning at quinton ' s house to join him to walk to the bus stop.\n",
            "Pred Logits\t25\t43\n",
            "\n",
            "Question: Does Quinton live further from the bus stop?\n",
            "True Answer: kendra lives further from the bus stop than quinton\n",
            "True Logits\t13\t22\n",
            "Pred Answer: kendra\n",
            "Pred Logits\t13\t13\n",
            "\n",
            "Question: What do they do every afternoon after school?\n",
            "True Answer: every afternoon, after school, when walking home from the bus stop they go in for cookies and milk that quinton ' s mother has ready and waiting for them.\n",
            "True Logits\t44\t76\n",
            "Pred Answer: go in for cookies and milk\n",
            "Pred Logits\t58\t63\n",
            "\n",
            "Question: Does Quinton eat cheese?\n",
            "True Answer: quinton can ' t eat cheese\n",
            "True Logits\t77\t83\n",
            "Pred Answer: quinton can ' t eat cheese or cake so they had the same snack every day.\n",
            "Pred Logits\t77\t94\n",
            "\n",
            "Question: Do they play before their homework?\n",
            "True Answer: they both work together on their homework and when they are done they play together.\n",
            "True Logits\t95\t110\n",
            "Pred Answer: they both work together on their homework and when they are done they play together. kendra always makes sure to leave in time to get home for dinner. she doesn ' t want to miss story time which was right before bedtime. one morning kendra walked up to quinton ' s house, she thought something might be wrong because normally quinton was waiting outside for her and on this morning he was not to be found. kendra went up to the door and knocked. she waited and waited and yet no one answered. she saw that quinton ' s mother ' s car wasn ' t in their driveway which was weird. she waited for a few bit looking up and down the block and getting worried when quinton was nowhere to be found. kendra didn ' t want to miss the bus to school and hurried off to make it in time. the bus driver saw that she was upset and that quinton was not with her that morning. she told him what happened and he said that he was sure that everything would be okay.\n",
            "Pred Logits\t95\t299\n",
            "\n",
            "Question: What does Kendra not want to miss?\n",
            "True Answer: she doesn ' t want to miss story time\n",
            "True Logits\t125\t133\n",
            "Pred Answer: story time\n",
            "Pred Logits\t132\t133\n",
            "\n",
            "Question: When is that?\n",
            "True Answer: which was right before bedtime.\n",
            "True Logits\t134\t140\n",
            "Pred Answer: she was upset and that quinton was not with her that morning. she told him what happened and he said that he was sure that everything would be okay.\n",
            "Pred Logits\t268\t299\n",
            "\n",
            "Question: What happened when Kendra knocked on Quinton's door?\n",
            "True Answer: no one answered.\n",
            "True Logits\t194\t197\n",
            "Pred Answer: \n",
            "Pred Logits\t194\t158\n",
            "\n",
            "Question: Did she see the car?\n",
            "True Answer: she saw that quinton ' s mother ' s car wasn ' t in their driveway\n",
            "True Logits\t198\t214\n",
            "Pred Answer: upset\n",
            "Pred Logits\t270\t270\n",
            "\n",
            "Question: Did she miss the bus?\n",
            "True Answer: kendra didn ' t want to miss the bus to school and hurried off to make it in time.\n",
            "True Logits\t243\t262\n",
            "Pred Answer: upset\n",
            "Pred Logits\t270\t270\n",
            "\n",
            "Question: What did the bus driver see?\n",
            "True Answer: the bus driver saw that she was upset\n",
            "True Logits\t263\t270\n",
            "Pred Answer: she was upset\n",
            "Pred Logits\t268\t270\n",
            "\n",
            "Question: Did Kendra tell him why?\n",
            "True Answer: she told him what happened\n",
            "True Logits\t282\t286\n",
            "Pred Answer: \n",
            "Pred Logits\t160\t158\n",
            "\n",
            "Question: What did he say?\n",
            "True Answer: he said that he was sure that everything would be okay.\n",
            "True Logits\t288\t299\n",
            "Pred Answer: everything would be okay.\n",
            "Pred Logits\t295\t299\n",
            "\n",
            "Question: When she got to school, who did she tell?\n",
            "True Answer: \n",
            "True Logits\t512\t316\n",
            "Pred Answer: quinton was nowhere to be found. kendra didn ' t want to miss the bus to school and hurried off to make it in time. the bus driver saw that she was upset and that quinton was not with her that morning. she told him what happened and he said that he was sure that everything would be okay. kendra\n",
            "Pred Logits\t235\t300\n",
            "\n",
            "Question: Did he frown?\n",
            "True Answer: the teacher smiled\n",
            "True Logits\t317\t319\n",
            "Pred Answer: she was upset and that quinton was not with her that morning. she told him what happened and he said that he was sure that everything would be okay.\n",
            "Pred Logits\t268\t299\n",
            "\n",
            "Question: Who had called?\n",
            "True Answer: \n",
            "True Logits\t512\t333\n",
            "Pred Answer: \n",
            "Pred Logits\t327\t162\n",
            "\n",
            "Question: Where did he go?\n",
            "True Answer: he was going to the dentist\n",
            "True Logits\t335\t340\n",
            "Pred Answer: cookies and milk that quinton ' s mother has ready and waiting for them. quinton can ' t eat cheese or cake so they had the same snack every day. they both work together on their homework and when they are done they play together. kendra always makes sure to leave in time to get home for dinner. she doesn ' t want to miss story time which was right before bedtime. one morning kendra walked up to quinton ' s house, she thought something might be wrong because normally quinton was waiting outside for her and on this morning he was not to be found. kendra went up to the door and knocked. she waited and waited and yet no one answered. she saw that quinton ' s mother ' s car wasn ' t in their driveway which was weird. she waited for a few bit looking up and down the block and getting worried when quinton was nowhere to be found. kendra didn ' t want to miss the bus to school and hurried off to make it in time. the bus driver saw that she was upset and that quinton was not with her that morning. she told him what happened and he said that he was sure that everything would be okay.\n",
            "Pred Logits\t61\t299\n",
            "\n",
            "Question: When would he be back?\n",
            "True Answer: would be at school after lunch\n",
            "True Logits\t342\t347\n",
            "Pred Answer: after lunch\n",
            "Pred Logits\t346\t347\n",
            "\n",
            "Question: How many burroughs are there?\n",
            "True Answer: five\n",
            "True Logits\t7\t7\n",
            "Pred Answer: \n",
            "Pred Logits\t100\t7\n",
            "\n",
            "Question: in what city?\n",
            "True Answer: new york city\n",
            "True Logits\t10\t12\n",
            "Pred Answer: staten island\n",
            "Pred Logits\t1\t2\n",
            "\n",
            "Question: and state?\n",
            "True Answer: new york.\n",
            "True Logits\t21\t23\n",
            "Pred Answer: staten island\n",
            "Pred Logits\t31\t32\n",
            "\n",
            "Question: Is staten island one?\n",
            "True Answer: one of\n",
            "True Logits\t4\t5\n",
            "Pred Answer: only borough of new york with a non - hispanic white majority.\n",
            "Pred Logits\t129\t141\n",
            "\n",
            "Question: Where is it?\n",
            "True Answer: . in the southwest of the city,\n",
            "True Logits\t23\t30\n",
            "Pred Answer: southwest\n",
            "Pred Logits\t26\t26\n",
            "\n",
            "Question: What separates it from new jersey?\n",
            "True Answer: \n",
            "True Logits\t512\t79\n",
            "Pred Answer: arthur kill and the kill van kull,\n",
            "Pred Logits\t71\t79\n",
            "\n"
          ]
        }
      ]
    },
    {
      "cell_type": "code",
      "source": [],
      "metadata": {
        "id": "3ddNYNomFN30"
      },
      "execution_count": null,
      "outputs": []
    }
  ]
}